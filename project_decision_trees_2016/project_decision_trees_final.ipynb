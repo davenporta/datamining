{
 "cells": [
  {
   "cell_type": "markdown",
   "metadata": {},
   "source": [
    "# Project: Decision Trees\n",
    "\n",
    "## Machine Learning, Winter 2017\n",
    "\n",
    "### Name: Neel Shroff, Alex Davenport, Tony Tan, Gherardo Morona\n"
   ]
  },
  {
   "cell_type": "markdown",
   "metadata": {},
   "source": [
    "In this project, you'll perform the following tasks:\n",
    "1. Construct a (Python) class `DecisionTree` which will serve as our first machine learning model.\n",
    "2. Test it out on multiple datasets.  If you've done the above correctly, this shouldn't be hard!\n",
    "3. Determine the effects of overfitting and attempt some solutions, discussing which seem to work best."
   ]
  },
  {
   "cell_type": "markdown",
   "metadata": {},
   "source": [
    "### Import Statements"
   ]
  },
  {
   "cell_type": "code",
   "execution_count": 1,
   "metadata": {
    "collapsed": false
   },
   "outputs": [],
   "source": [
    "# Standard import statements:\n",
    "from itertools import combinations, chain\n",
    "from statistics import mean, median\n",
    "from operator import itemgetter\n",
    "from sklearn.datasets import make_blobs, load_iris\n",
    "from sklearn.model_selection import train_test_split\n",
    "\n",
    "\n",
    "import numpy as np\n",
    "import matplotlib.pyplot as plt\n",
    "import pandas as pd\n",
    "import seaborn as sns\n",
    "\n",
    "from sklearn.metrics import accuracy_score, confusion_matrix, r2_score, precision_score, recall_score\n",
    "\n",
    "%matplotlib inline\n",
    "\n",
    "plt.style.use(\"ggplot\")"
   ]
  },
  {
   "cell_type": "markdown",
   "metadata": {},
   "source": [
    "## `DecisionTree` Class\n",
    "\n",
    "Construct a `DecisionTree` class in the cell below.  It should support the standard scikit-learn API: \n",
    "\n",
    "```\n",
    ">>> X, y = <your_dataset>\n",
    ">>> model = DecisionTree() # potentially with some parameters, if needed\n",
    ">>> model.fit(X,y)\n",
    ">>> model.predict(<new_sample_vector>)\n",
    "1\n",
    ">>> # If the model predicted your sample vector to be in class 1.\n",
    "```\n",
    "\n",
    "Note that your `predict` function should support either single predictions or multiple predictions, though you can force the user to do single predictions as a 2d array (single-row \"multiple\" predictions) so you only have one implementation to write.  What I mean by this is `model.predict(X)` should work (without error) to create all predictions for `y`.\n",
    "\n",
    "You should construct some human-readable visualization of your model, simply from a printout.  This way you can tell if the model is being built the way you want.  The best way to do this is to implement the `__str__` method for your class.  Probably the easiest way to do this is to iterate through the tree in a \"depth-first\" fashion, and for each node, just print out some basic facts, like the number of elements in that node, or the indices of those elements in `X`, and the class assignment if it's a leaf node; also, make sure the indentation level of each node increases as its depth increases.  It might be helpful to have your nodes be more than just the bare minimum object (which would probably be a list of the indices of the rows in `X` for the items in your node).  To reiterate: this should NOT be a \"beautiful\" printout with lines like:\n",
    "```\n",
    "            root\n",
    "           /    \\\n",
    "     child1      child2 \n",
    "    /      \\    /      \\\n",
    "...\n",
    "```\n",
    "\n",
    "Because that would get awkward fast.  What I'm imagining is:\n",
    "\n",
    "```\n",
    "root: <root_info>\n",
    "  child1: <child1_info>\n",
    "    grandchild1: <grandchild1_info>\n",
    "      ...\n",
    "    grandchild1: <grandchild2_info>\n",
    "      ...\n",
    "  child2: <child2_info>\n",
    "    grandchild1: <grandchild1_info>\n",
    "    grandchild1: <grandchild2_info>\n",
    "```\n",
    "\n",
    "By implementing this in `__str__` for your class, this will be the printout when you run:\n",
    "\n",
    "```\n",
    "model = DecisionTree(<whatever_you_need_to_do_to_create_your_model>)\n",
    "model.fit(X,y)\n",
    "print(model)\n",
    "```\n",
    "\n",
    "Recall the algorithm for fitting a decision tree:\n",
    "1. Start with all your data samples in a single node.\n",
    "2. For a given node, determine if you want to split at that node or not.  For now, this should just be a check to see if the node is \"pure\", meaning it only contains one class.  If you do decide to split it further, compute all possible splits of your data (all possible depth-1 subtrees).  For categorical variables, this should look like generating all pairs of combinations of classes.  For continuous or ordinal variables, sort the entries in that column, and then all possible splits involve cutting off at values between adjacent entries.  That is, if the entries in my continuous column are `[2.01, 3.425, 8.67, 493.6]`, then I have three splits, which are \n",
    "\"$x_i\\leq 2.01$\", \"$x_i\\leq 3.425$\", \"$x_i\\leq 8.67$\".\n",
    "3. Compute the change in Gini Impurity for each split, and choose the split that has the largest gain in information (most pure nodes).  Recall that the Gini Impurity for a node is \n",
    "$$ I = 1 - \\sum_{\\text{each class}} \\left(\\frac{\\text{# of elements in that class}}{\\text{# of elements in the node}}\\right)^2$$\n",
    "So then you want to minimize $I_\\text{new_child1} + I_\\text{new_child2} - I_\\text{old}$; that is, choose the split with the largest value for that quantity (roughly interpretted as \"information gain\", though for the record the term \"information gain\" is used in a totally-synonymous-but-technically-different situation).\n",
    "4. Repeat until all nodes are pure.\n",
    "5. (Get the above working first, and then later:) prune the tree back to avoid overfitting your training data. (See below)\n",
    "\n",
    "Note that your (Python) class should work for multi-class datasets (where you're trying to predict a `y` that has more than two classes)."
   ]
  },
  {
   "cell_type": "markdown",
   "metadata": {},
   "source": [
    "## Tree Class\n",
    "\n",
    "Along with the `__init__` method, the class has 7 other methods:\n",
    " * `fit`: Creates the a model for the dataset.\n",
    " * `predict`: Responsible for predicting the classes for a list of predictions.\n",
    " * `calculate_gini`: Calculates the Gini impurity of the given node.\n",
    " * `find_best_split`: Finds best split.\n",
    " * `fitter`: Complements the fit method.\n",
    " * `show`: Helps implement the visual representation.\n",
    " * `__str__`: String representation of the tree."
   ]
  },
  {
   "cell_type": "code",
   "execution_count": 2,
   "metadata": {
    "collapsed": false
   },
   "outputs": [],
   "source": [
    "class Tree:\n",
    "    def __init__(self, x=None):\n",
    "        self.tree = x\n",
    "    \n",
    "    def fit(self, X, y, n=10):\n",
    "        # Inputs:\n",
    "        # n : the limit for the number of nodes the tree will have predictors/class are dataframes with same indexing\n",
    "        # X and y: dataframes\n",
    "        # Sets tree to a list with left node, right node, threshold, predictor, and count.\n",
    "        self.tree = self.fitter(X, y, n)\n",
    "        return\n",
    "    \n",
    "    def predict(self, X_predict):\n",
    "    # input: X_predict (which is a dataframe)\n",
    "    # returns a list with each item bui;ding the prediction for each row of the X_predict dataframe\n",
    "        class_predictions = []\n",
    "        node1 = self.tree\n",
    "        node = node1\n",
    "        for prediction in X_predict.iterrows():\n",
    "            row = prediction[1]\n",
    "            while len(node) > 1:\n",
    "                if row[node[2][0]] <= node[2][1]:\n",
    "                    node = node[0]\n",
    "                else:\n",
    "                    node = node[1]\n",
    "            class_predictions.append(node)\n",
    "            node = node1\n",
    "        return class_predictions\n",
    "    \n",
    "    def calculate_gini(self, P):\n",
    "        # Input: a list of classes, such as ['S', 'NS', 'NS', 'NS', 'S'] or [0,1,0,2,1,0] if 0,1,2 are the things\n",
    "        # that corresponds to an increasing list of some parameter that you want to split by.\n",
    "        # Returns: gini score.\n",
    "        # Used by: get_possible_splits().\n",
    "        classes = list(set(P))  # find all the classes\n",
    "        gini = 1\n",
    "        for i in classes:\n",
    "            gini -= (float(P.count(i)) / len(P)) ** 2\n",
    "        return gini\n",
    "\n",
    "    def find_best_split(self, node_x, node_y):\n",
    "        # Returns the best split (threshold).\n",
    "        gp = self.calculate_gini(list(node_y.values.flatten()))\n",
    "        poss_splits = []\n",
    "        for pred in node_x.columns:\n",
    "            set_list = list(node_x[pred].unique())\n",
    "            set_list.sort()\n",
    "            for t in set_list[:-1]:\n",
    "                downside = list(node_y[node_x[pred] <= t].values.flatten())\n",
    "                upside = list(node_y[node_x[pred] > t].values.flatten())\n",
    "                #print(list(downside))\n",
    "                #print(list(upside))\n",
    "                ig = gp - (\n",
    "                    (len(downside) / len(node_y)) * self.calculate_gini(downside)\n",
    "                    + (len(upside) / len(node_y)) * self.calculate_gini(upside))\n",
    "                poss_splits.append((pred, t, ig, gp))\n",
    "        try:\n",
    "            return max(poss_splits, key=itemgetter(2))\n",
    "        except:\n",
    "            return None\n",
    "\n",
    "    def fitter(self, X, y, n, branch=True):\n",
    "        #print(\"Running fit\")\n",
    "        # Inputs:\n",
    "        # n : the limit for the number of nodes the tree will have predictors/class are dataframes with same indexing\n",
    "        # X and y: dataframes\n",
    "        # Returns: a list with left node, right node, threshold\n",
    "\n",
    "        if n == 0:\n",
    "            return list([y.value_counts().idxmax()])\n",
    "\n",
    "        n -= 1\n",
    "        node = [[], [], []]\n",
    "        tup = self.find_best_split(X, y)\n",
    "\n",
    "        if tup != None:\n",
    "            predictor, threshold, info_gain, gini = tup\n",
    "        else:\n",
    "            return list(y.unique())\n",
    "\n",
    "        if gini <= 0.0001:  # if the node is pure (gini impurity is 0), then stop\n",
    "            return list(y.unique())\n",
    "\n",
    "        node[0] = self.fitter(X[X[predictor] <= threshold], y[X[predictor] <= threshold], n=n, branch=True)\n",
    "        node[1] = self.fitter(X[X[predictor] > threshold], y[X[predictor] > threshold], n=n, branch=False)\n",
    "        node[2] = (predictor,threshold,len(y))\n",
    "\n",
    "        return node\n",
    "    \n",
    "    def show(self, tree, n=0):\n",
    "        # Used to create the visual representation of the tree.\n",
    "        spacing = \"\"\n",
    "        for i in range(n):\n",
    "            spacing += \"   \"\n",
    "        if n == 0:\n",
    "            spacing += \"root: \"\n",
    "        elif n == 1:\n",
    "            spacing += \"child: \"\n",
    "        elif n > 1:\n",
    "            spacing += \"grandchild^\" + str(n-1) + \": \"\n",
    "        if len(tree) == 3:\n",
    "            print(spacing, \"predictor:\", tree[2][0], \"| threshold:\", tree[2][1], \"| # elements:\", tree[2][2])\n",
    "            n += 1\n",
    "            self.show(tree[0], n)\n",
    "            self.show(tree[1], n)\n",
    "        else:\n",
    "            print(spacing, \"class of leaf:\", str(tree[0]))\n",
    "            return\n",
    "    \n",
    "    def __str__(self):\n",
    "        self.show(self.tree)\n",
    "        return \" \""
   ]
  },
  {
   "cell_type": "markdown",
   "metadata": {},
   "source": [
    "To test out your code, here's a simple dataset.  You could check it by hand if you need to debug.  You're trying to predict whether an animal is a mammal or not (the class label)."
   ]
  },
  {
   "cell_type": "code",
   "execution_count": 3,
   "metadata": {
    "collapsed": false
   },
   "outputs": [],
   "source": [
    "X = [[\"human\", \"warm-blooded\", \"yes\", \"no\", \"no\", \"yes\"],\n",
    "     [\"pigeon\", \"warm-blooded\", \"no\", \"no\", \"no\", \"no\"],\n",
    "     [\"elephant\", \"warm-blooded\", \"yes\", \"yes\", \"no\", \"yes\"],\n",
    "     [\"leopard shark\", \"cold-blooded\", \"yes\", \"no\", \"no\", \"no\"],\n",
    "     [\"turtle\", \"cold-blooded\", \"no\", \"yes\", \"no\", \"no\"],\n",
    "     [\"penguin\", \"cold-blooded\", \"no\", \"no\", \"no\", \"no\"],\n",
    "     [\"eel\", \"cold-blooded\", \"no\", \"no\", \"no\", \"no\"],\n",
    "     [\"dolphin\", \"warm-blooded\", \"yes\", \"no\", \"no\", \"yes\"],\n",
    "     [\"spiny anteater\", \"warm-blooded\", \"no\", \"yes\", \"yes\", \"yes\"],\n",
    "     [\"gila monster\", \"cold-blooded\", \"no\", \"yes\", \"yes\", \"no\"]]\n",
    "\n",
    "df = pd.DataFrame(X, columns = [\"Name\", \n",
    "                                \"Body Temperature\", \n",
    "                                \"Gives Birth\", \n",
    "                                \"Four-legged\", \n",
    "                                \"Hibernates\", \n",
    "                                \"Class Label\"])"
   ]
  },
  {
   "cell_type": "markdown",
   "metadata": {},
   "source": [
    "## Try it out on multiple datasets\n",
    "\n",
    "Feel free to split these amongst your group mates, then consolodate it into one notebook.\n",
    "\n",
    "1. The dataset `X` above.\n",
    "\n",
    "2. To double check that your multi-class support is working, use the [iris dataset](http://scikit-learn.org/stable/modules/generated/sklearn.datasets.load_iris.html#sklearn.datasets.load_iris).  Plot some decision boundaries of the classifier you make in all the pairs of dimensions in your scatter plots.\n",
    "\n",
    "3. Take a look at some of the [dataset constructors in scikit-learn](http://scikit-learn.org/stable/datasets/#sample-generators).  Pick one that will allow you to generate a dataset that has $\\geq 4$ features, and multiple classes ($\\geq 3$); but also make sure that when I run your code with some tweaked numbers from these, it will still work.\n",
    "\n",
    "4. Kaggle is a website which offers machine learning challenges to anyone with an interest in working on them, some of which have real prizes associated with them.  The [Titanic challenge](https://www.kaggle.com/c/titanic/data) is a tutorial challenge which has you attempting to predict whether someone did or did not die on board the Titanic, based on their criteria.  In order to download the dataset, you'll need to make an account, and agree to some scary-sounding agreement about not sharing their data with the world (to make their legal team happy).  Do only the minimum of data cleanup on it, trash the name column (unless you want to get really fancy), and fit a decision tree to the dataset.  Make sure to save some data for testing purposes.\n",
    "\n",
    "5. Add some classification metrics to your above models, like the `accuracy_score` and `confusion_matrix`.  Add additionally [Precision and Recall](https://en.wikipedia.org/wiki/Precision_and_recall), and explain what those are.\n",
    "\n",
    "6. For the dataset `noisy_dataset.csv`, available on Canvas in `Files`, plit the data into `test` and `train` sets, and then construct a family of decision trees with an increasing number of nodes, say from 3 up to something large (large enough that the test accuracy starts getting awful). Plot a pair of curves on the same axes: (# of nodes) vs. model accuracy (training and test).  Discuss which models make the best predictors."
   ]
  },
  {
   "cell_type": "markdown",
   "metadata": {},
   "source": [
    "### Dataset 1\n",
    "This dataset classifies an animal as a mammal or a non-mammal. We are going to use this simple dataset to help us debug our code."
   ]
  },
  {
   "cell_type": "code",
   "execution_count": 4,
   "metadata": {
    "collapsed": false
   },
   "outputs": [
    {
     "data": {
      "text/html": [
       "<div>\n",
       "<table border=\"1\" class=\"dataframe\">\n",
       "  <thead>\n",
       "    <tr style=\"text-align: right;\">\n",
       "      <th></th>\n",
       "      <th>Name</th>\n",
       "      <th>Body Temperature</th>\n",
       "      <th>Gives Birth</th>\n",
       "      <th>Four-legged</th>\n",
       "      <th>Hibernates</th>\n",
       "      <th>Class Label</th>\n",
       "    </tr>\n",
       "  </thead>\n",
       "  <tbody>\n",
       "    <tr>\n",
       "      <th>0</th>\n",
       "      <td>human</td>\n",
       "      <td>warm-blooded</td>\n",
       "      <td>yes</td>\n",
       "      <td>no</td>\n",
       "      <td>no</td>\n",
       "      <td>yes</td>\n",
       "    </tr>\n",
       "    <tr>\n",
       "      <th>1</th>\n",
       "      <td>pigeon</td>\n",
       "      <td>warm-blooded</td>\n",
       "      <td>no</td>\n",
       "      <td>no</td>\n",
       "      <td>no</td>\n",
       "      <td>no</td>\n",
       "    </tr>\n",
       "    <tr>\n",
       "      <th>2</th>\n",
       "      <td>elephant</td>\n",
       "      <td>warm-blooded</td>\n",
       "      <td>yes</td>\n",
       "      <td>yes</td>\n",
       "      <td>no</td>\n",
       "      <td>yes</td>\n",
       "    </tr>\n",
       "    <tr>\n",
       "      <th>3</th>\n",
       "      <td>leopard shark</td>\n",
       "      <td>cold-blooded</td>\n",
       "      <td>yes</td>\n",
       "      <td>no</td>\n",
       "      <td>no</td>\n",
       "      <td>no</td>\n",
       "    </tr>\n",
       "    <tr>\n",
       "      <th>4</th>\n",
       "      <td>turtle</td>\n",
       "      <td>cold-blooded</td>\n",
       "      <td>no</td>\n",
       "      <td>yes</td>\n",
       "      <td>no</td>\n",
       "      <td>no</td>\n",
       "    </tr>\n",
       "  </tbody>\n",
       "</table>\n",
       "</div>"
      ],
      "text/plain": [
       "            Name Body Temperature Gives Birth Four-legged Hibernates  \\\n",
       "0          human     warm-blooded         yes          no         no   \n",
       "1         pigeon     warm-blooded          no          no         no   \n",
       "2       elephant     warm-blooded         yes         yes         no   \n",
       "3  leopard shark     cold-blooded         yes          no         no   \n",
       "4         turtle     cold-blooded          no         yes         no   \n",
       "\n",
       "  Class Label  \n",
       "0         yes  \n",
       "1          no  \n",
       "2         yes  \n",
       "3          no  \n",
       "4          no  "
      ]
     },
     "execution_count": 4,
     "metadata": {},
     "output_type": "execute_result"
    }
   ],
   "source": [
    "df.head()"
   ]
  },
  {
   "cell_type": "markdown",
   "metadata": {},
   "source": [
    "First, we need to binarize the categorical predictors in the dataframe. Four of the columns use \"yes\" or \"no\" as their values, while one of the columns use \"warm-blooded\" and \"cold-blooded.\" I am going to make \"yes\" and \"warm-blooded\" into a 1 and \"no\" and \"cold-blooded\" into a 0."
   ]
  },
  {
   "cell_type": "code",
   "execution_count": 5,
   "metadata": {
    "collapsed": false
   },
   "outputs": [
    {
     "data": {
      "text/html": [
       "<div>\n",
       "<table border=\"1\" class=\"dataframe\">\n",
       "  <thead>\n",
       "    <tr style=\"text-align: right;\">\n",
       "      <th></th>\n",
       "      <th>Name</th>\n",
       "      <th>Body Temperature</th>\n",
       "      <th>Gives Birth</th>\n",
       "      <th>Four-legged</th>\n",
       "      <th>Hibernates</th>\n",
       "      <th>Class Label</th>\n",
       "    </tr>\n",
       "  </thead>\n",
       "  <tbody>\n",
       "    <tr>\n",
       "      <th>0</th>\n",
       "      <td>human</td>\n",
       "      <td>1</td>\n",
       "      <td>1</td>\n",
       "      <td>0</td>\n",
       "      <td>0</td>\n",
       "      <td>1</td>\n",
       "    </tr>\n",
       "    <tr>\n",
       "      <th>1</th>\n",
       "      <td>pigeon</td>\n",
       "      <td>1</td>\n",
       "      <td>0</td>\n",
       "      <td>0</td>\n",
       "      <td>0</td>\n",
       "      <td>0</td>\n",
       "    </tr>\n",
       "    <tr>\n",
       "      <th>2</th>\n",
       "      <td>elephant</td>\n",
       "      <td>1</td>\n",
       "      <td>1</td>\n",
       "      <td>1</td>\n",
       "      <td>0</td>\n",
       "      <td>1</td>\n",
       "    </tr>\n",
       "    <tr>\n",
       "      <th>3</th>\n",
       "      <td>leopard shark</td>\n",
       "      <td>0</td>\n",
       "      <td>1</td>\n",
       "      <td>0</td>\n",
       "      <td>0</td>\n",
       "      <td>0</td>\n",
       "    </tr>\n",
       "    <tr>\n",
       "      <th>4</th>\n",
       "      <td>turtle</td>\n",
       "      <td>0</td>\n",
       "      <td>0</td>\n",
       "      <td>1</td>\n",
       "      <td>0</td>\n",
       "      <td>0</td>\n",
       "    </tr>\n",
       "  </tbody>\n",
       "</table>\n",
       "</div>"
      ],
      "text/plain": [
       "            Name  Body Temperature  Gives Birth  Four-legged  Hibernates  \\\n",
       "0          human                 1            1            0           0   \n",
       "1         pigeon                 1            0            0           0   \n",
       "2       elephant                 1            1            1           0   \n",
       "3  leopard shark                 0            1            0           0   \n",
       "4         turtle                 0            0            1           0   \n",
       "\n",
       "   Class Label  \n",
       "0            1  \n",
       "1            0  \n",
       "2            1  \n",
       "3            0  \n",
       "4            0  "
      ]
     },
     "execution_count": 5,
     "metadata": {},
     "output_type": "execute_result"
    }
   ],
   "source": [
    "def binarize(var):\n",
    "    if var == \"no\":\n",
    "        return 0\n",
    "    elif var == \"yes\":\n",
    "        return 1\n",
    "df[[\"Gives Birth\",\"Four-legged\",\"Hibernates\",\"Class Label\"]] = df[[\"Gives Birth\",\"Four-legged\",\"Hibernates\",\"Class Label\"]].applymap(binarize)\n",
    "body_temp = {\"warm-blooded\": 1, \"cold-blooded\": 0}\n",
    "df['Body Temperature'] = df['Body Temperature'].map(body_temp)\n",
    "df.head()"
   ]
  },
  {
   "cell_type": "markdown",
   "metadata": {},
   "source": [
    "Nice! Now we need to split this into two datasets: an X dataset with all the predictors, and a y dataset with the response variable `Class Label.` `Name` will not be included in the X dataset because it will not currently help us with classification."
   ]
  },
  {
   "cell_type": "code",
   "execution_count": 6,
   "metadata": {
    "collapsed": false
   },
   "outputs": [],
   "source": [
    "X_mammal = df[df.columns.tolist()[1:len(df.columns) - 1]]\n",
    "y_mammal = df[\"Class Label\"]"
   ]
  },
  {
   "cell_type": "markdown",
   "metadata": {},
   "source": [
    "Now let's try fitting this dataset to our Decision Tree Class to see if the `fit` method and the `__str__` method works."
   ]
  },
  {
   "cell_type": "code",
   "execution_count": 7,
   "metadata": {
    "collapsed": false
   },
   "outputs": [
    {
     "name": "stdout",
     "output_type": "stream",
     "text": [
      "root:  predictor: Body Temperature | threshold: 0 | # elements: 10\n",
      "   child:  class of leaf: 0\n",
      "   child:  predictor: Gives Birth | threshold: 0 | # elements: 5\n",
      "      grandchild^1:  predictor: Four-legged | threshold: 0 | # elements: 2\n",
      "         grandchild^2:  class of leaf: 0\n",
      "         grandchild^2:  class of leaf: 1\n",
      "      grandchild^1:  class of leaf: 1\n",
      " \n"
     ]
    }
   ],
   "source": [
    "one = Tree()\n",
    "one.fit(X_mammal, y_mammal)\n",
    "print(one)"
   ]
  },
  {
   "cell_type": "markdown",
   "metadata": {},
   "source": [
    "Looks like it works! Our visualization of the tree shows the predictor, the threshold, and the number of elements for each node. For the leaf nodes, it shows the class assignment."
   ]
  },
  {
   "cell_type": "markdown",
   "metadata": {},
   "source": [
    "### Dataset 2"
   ]
  },
  {
   "cell_type": "markdown",
   "metadata": {},
   "source": [
    "Let's move on to dataset 2. This time I am going to load in the iris dataset using `load_iris()`. After creating the X and y datasets, I am going to use `train_test_split` to create a training dataset and a test dataset for both of the datasets."
   ]
  },
  {
   "cell_type": "code",
   "execution_count": 8,
   "metadata": {
    "collapsed": false
   },
   "outputs": [],
   "source": [
    "dataset = load_iris()\n",
    "X_iris = pd.DataFrame(data=dataset['data'])\n",
    "X_iris.columns = dataset['feature_names']\n",
    "y_iris = pd.Series(data=dataset['target'])\n",
    "X_iris_train, X_iris_test, y_iris_train, y_iris_test = train_test_split(X_iris, y_iris, test_size=.3)"
   ]
  },
  {
   "cell_type": "markdown",
   "metadata": {
    "collapsed": false
   },
   "source": [
    "Now I need to fit these datasets to the Decision Tree Class and print out the visualization of the tree."
   ]
  },
  {
   "cell_type": "code",
   "execution_count": 9,
   "metadata": {
    "collapsed": false
   },
   "outputs": [
    {
     "name": "stdout",
     "output_type": "stream",
     "text": [
      "root:  predictor: petal width (cm) | threshold: 1.7 | # elements: 105\n",
      "   child:  predictor: petal length (cm) | threshold: 1.9 | # elements: 69\n",
      "      grandchild^1:  class of leaf: 0\n",
      "      grandchild^1:  predictor: petal length (cm) | threshold: 4.9 | # elements: 41\n",
      "         grandchild^2:  predictor: petal width (cm) | threshold: 1.6 | # elements: 36\n",
      "            grandchild^3:  class of leaf: 1\n",
      "            grandchild^3:  class of leaf: 2\n",
      "         grandchild^2:  predictor: petal width (cm) | threshold: 1.5 | # elements: 5\n",
      "            grandchild^3:  class of leaf: 2\n",
      "            grandchild^3:  predictor: sepal length (cm) | threshold: 6.7 | # elements: 3\n",
      "               grandchild^4:  class of leaf: 1\n",
      "               grandchild^4:  class of leaf: 2\n",
      "   child:  class of leaf: 2\n",
      " \n"
     ]
    }
   ],
   "source": [
    "two = Tree()\n",
    "two.fit(X_iris_train, y_iris_train)\n",
    "print(two)"
   ]
  },
  {
   "cell_type": "markdown",
   "metadata": {},
   "source": [
    "I am going to test the accuracy of our model by determining the accuracy score and the confusion matrix. I am also going to be finding the precision score and recall score.\n",
    "According to the sklearn documentation, `precision score` is a fraction that represents \"the number of true positives over the number of true positives plus the number of false positives,\" and the `recall score` is \"the ratio tp / (tp + fn) where tp is the number of true positives and fn the number of false negatives.\""
   ]
  },
  {
   "cell_type": "code",
   "execution_count": 10,
   "metadata": {
    "collapsed": true
   },
   "outputs": [],
   "source": [
    "#Accuracy Check\n",
    "def metrics(y_true, y_preds):\n",
    "    print(\"Confusion Matrix: \")\n",
    "    print(confusion_matrix(y_true,y_preds))\n",
    "    print()\n",
    "    print(\"Accuracy Score: \")\n",
    "    print(accuracy_score(y_true,y_preds))\n",
    "    print()\n",
    "    print(\"Precision Score: \")\n",
    "    print(precision_score(y_true,y_preds,average='macro'))\n",
    "    print(\"Recall Score: \")\n",
    "    print(recall_score(y_true,y_preds,average='macro'))"
   ]
  },
  {
   "cell_type": "code",
   "execution_count": 11,
   "metadata": {
    "collapsed": false
   },
   "outputs": [
    {
     "name": "stdout",
     "output_type": "stream",
     "text": [
      "Confusion Matrix: \n",
      "[[22  0  0]\n",
      " [ 0 12  1]\n",
      " [ 0  0 10]]\n",
      "\n",
      "Accuracy Score: \n",
      "0.977777777778\n",
      "\n",
      "Precision Score: \n",
      "0.969696969697\n",
      "Recall Score: \n",
      "0.974358974359\n"
     ]
    }
   ],
   "source": [
    "iris_preds = two.predict(X_iris_test)\n",
    "metrics(y_iris_test, iris_preds)"
   ]
  },
  {
   "cell_type": "markdown",
   "metadata": {},
   "source": [
    "This model seems to be pretty accurate. The accuracy score is about 98% and there is only 1 misclassified point."
   ]
  },
  {
   "cell_type": "markdown",
   "metadata": {},
   "source": [
    "### Dataset 3\n",
    "\n",
    "Now let's move on to dataset 3. This time I am going to create my own dataset using the `make_blobs` method in `sklearn.` I set `n_samples` to 150 to indicate that there should 150 data points. I set `n_features` to 5 to indicate that there will be 5 predictors. I set `centers` to 3 to indicate that there will be three different classes."
   ]
  },
  {
   "cell_type": "code",
   "execution_count": 12,
   "metadata": {
    "collapsed": false
   },
   "outputs": [],
   "source": [
    "X,y = make_blobs(n_samples = 150, n_features = 5, centers = 3)\n",
    "X_blob = pd.DataFrame(data=X)\n",
    "y_blob = pd.Series(data=y)\n",
    "X_blob_train, X_blob_test, y_blob_train, y_blob_test = train_test_split(X_blob, y_blob, test_size=.3)"
   ]
  },
  {
   "cell_type": "markdown",
   "metadata": {},
   "source": [
    "Similarly to before, I need to fit the data using the `fit` method in our class. "
   ]
  },
  {
   "cell_type": "code",
   "execution_count": 13,
   "metadata": {
    "collapsed": false
   },
   "outputs": [
    {
     "name": "stdout",
     "output_type": "stream",
     "text": [
      "root:  predictor: 4 | threshold: -0.470376727793 | # elements: 105\n",
      "   child:  class of leaf: 2\n",
      "   child:  predictor: 0 | threshold: -2.68753151434 | # elements: 68\n",
      "      grandchild^1:  class of leaf: 1\n",
      "      grandchild^1:  class of leaf: 0\n",
      " \n"
     ]
    }
   ],
   "source": [
    "three = Tree()\n",
    "three.fit(X_blob_train, y_blob_train)\n",
    "print(three)"
   ]
  },
  {
   "cell_type": "code",
   "execution_count": 14,
   "metadata": {
    "collapsed": false
   },
   "outputs": [
    {
     "name": "stdout",
     "output_type": "stream",
     "text": [
      "Confusion Matrix: \n",
      "[[14  0  0]\n",
      " [ 0 18  0]\n",
      " [ 0  0 13]]\n",
      "\n",
      "Accuracy Score: \n",
      "1.0\n",
      "\n",
      "Precision Score: \n",
      "1.0\n",
      "Recall Score: \n",
      "1.0\n"
     ]
    }
   ],
   "source": [
    "blob_preds = three.predict(X_blob_test)\n",
    "metrics(y_blob_test, blob_preds)"
   ]
  },
  {
   "cell_type": "markdown",
   "metadata": {},
   "source": [
    "This model also seems to be pretty accurate. The accuracy score is about 98% and there is only 1 misclassified point."
   ]
  },
  {
   "cell_type": "markdown",
   "metadata": {},
   "source": [
    "### Dataset 4\n",
    "This dataset is from an online challenge therefore there may be some missing data and other conveniences. Let's begin by importing the csv file."
   ]
  },
  {
   "cell_type": "code",
   "execution_count": 15,
   "metadata": {
    "collapsed": false
   },
   "outputs": [
    {
     "data": {
      "text/html": [
       "<div>\n",
       "<table border=\"1\" class=\"dataframe\">\n",
       "  <thead>\n",
       "    <tr style=\"text-align: right;\">\n",
       "      <th></th>\n",
       "      <th>PassengerId</th>\n",
       "      <th>Survived</th>\n",
       "      <th>Pclass</th>\n",
       "      <th>Name</th>\n",
       "      <th>Sex</th>\n",
       "      <th>Age</th>\n",
       "      <th>SibSp</th>\n",
       "      <th>Parch</th>\n",
       "      <th>Ticket</th>\n",
       "      <th>Fare</th>\n",
       "      <th>Cabin</th>\n",
       "      <th>Embarked</th>\n",
       "    </tr>\n",
       "  </thead>\n",
       "  <tbody>\n",
       "    <tr>\n",
       "      <th>0</th>\n",
       "      <td>1</td>\n",
       "      <td>0</td>\n",
       "      <td>3</td>\n",
       "      <td>Braund, Mr. Owen Harris</td>\n",
       "      <td>male</td>\n",
       "      <td>22.0</td>\n",
       "      <td>1</td>\n",
       "      <td>0</td>\n",
       "      <td>A/5 21171</td>\n",
       "      <td>7.2500</td>\n",
       "      <td>NaN</td>\n",
       "      <td>S</td>\n",
       "    </tr>\n",
       "    <tr>\n",
       "      <th>1</th>\n",
       "      <td>2</td>\n",
       "      <td>1</td>\n",
       "      <td>1</td>\n",
       "      <td>Cumings, Mrs. John Bradley (Florence Briggs Th...</td>\n",
       "      <td>female</td>\n",
       "      <td>38.0</td>\n",
       "      <td>1</td>\n",
       "      <td>0</td>\n",
       "      <td>PC 17599</td>\n",
       "      <td>71.2833</td>\n",
       "      <td>C85</td>\n",
       "      <td>C</td>\n",
       "    </tr>\n",
       "    <tr>\n",
       "      <th>2</th>\n",
       "      <td>3</td>\n",
       "      <td>1</td>\n",
       "      <td>3</td>\n",
       "      <td>Heikkinen, Miss. Laina</td>\n",
       "      <td>female</td>\n",
       "      <td>26.0</td>\n",
       "      <td>0</td>\n",
       "      <td>0</td>\n",
       "      <td>STON/O2. 3101282</td>\n",
       "      <td>7.9250</td>\n",
       "      <td>NaN</td>\n",
       "      <td>S</td>\n",
       "    </tr>\n",
       "    <tr>\n",
       "      <th>3</th>\n",
       "      <td>4</td>\n",
       "      <td>1</td>\n",
       "      <td>1</td>\n",
       "      <td>Futrelle, Mrs. Jacques Heath (Lily May Peel)</td>\n",
       "      <td>female</td>\n",
       "      <td>35.0</td>\n",
       "      <td>1</td>\n",
       "      <td>0</td>\n",
       "      <td>113803</td>\n",
       "      <td>53.1000</td>\n",
       "      <td>C123</td>\n",
       "      <td>S</td>\n",
       "    </tr>\n",
       "    <tr>\n",
       "      <th>4</th>\n",
       "      <td>5</td>\n",
       "      <td>0</td>\n",
       "      <td>3</td>\n",
       "      <td>Allen, Mr. William Henry</td>\n",
       "      <td>male</td>\n",
       "      <td>35.0</td>\n",
       "      <td>0</td>\n",
       "      <td>0</td>\n",
       "      <td>373450</td>\n",
       "      <td>8.0500</td>\n",
       "      <td>NaN</td>\n",
       "      <td>S</td>\n",
       "    </tr>\n",
       "  </tbody>\n",
       "</table>\n",
       "</div>"
      ],
      "text/plain": [
       "   PassengerId  Survived  Pclass  \\\n",
       "0            1         0       3   \n",
       "1            2         1       1   \n",
       "2            3         1       3   \n",
       "3            4         1       1   \n",
       "4            5         0       3   \n",
       "\n",
       "                                                Name     Sex   Age  SibSp  \\\n",
       "0                            Braund, Mr. Owen Harris    male  22.0      1   \n",
       "1  Cumings, Mrs. John Bradley (Florence Briggs Th...  female  38.0      1   \n",
       "2                             Heikkinen, Miss. Laina  female  26.0      0   \n",
       "3       Futrelle, Mrs. Jacques Heath (Lily May Peel)  female  35.0      1   \n",
       "4                           Allen, Mr. William Henry    male  35.0      0   \n",
       "\n",
       "   Parch            Ticket     Fare Cabin Embarked  \n",
       "0      0         A/5 21171   7.2500   NaN        S  \n",
       "1      0          PC 17599  71.2833   C85        C  \n",
       "2      0  STON/O2. 3101282   7.9250   NaN        S  \n",
       "3      0            113803  53.1000  C123        S  \n",
       "4      0            373450   8.0500   NaN        S  "
      ]
     },
     "execution_count": 15,
     "metadata": {},
     "output_type": "execute_result"
    }
   ],
   "source": [
    "df_titanic_train = pd.read_csv(\"train_titanic.csv\")\n",
    "df_titanic_train.head()"
   ]
  },
  {
   "cell_type": "markdown",
   "metadata": {},
   "source": [
    "I am going to delete `PassengerId` because my dataframe already has indexing. \n",
    "I am also going to delete `Name` because it is not very useful as a predictor. \n",
    "I am also going to delete `Cabin` because it is not a very useful predictor and there are many empty cells in the column.\n",
    "Lastly, I am going to delete `Ticket` because there is no consistent format to the values in the column."
   ]
  },
  {
   "cell_type": "code",
   "execution_count": 16,
   "metadata": {
    "collapsed": false
   },
   "outputs": [],
   "source": [
    "del df_titanic_train[\"PassengerId\"]\n",
    "del df_titanic_train[\"Name\"]\n",
    "del df_titanic_train[\"Cabin\"]\n",
    "del df_titanic_train[\"Ticket\"]"
   ]
  },
  {
   "cell_type": "markdown",
   "metadata": {},
   "source": [
    "Now I need to binarize many of the columns in the dataframe.\n",
    "First I am going to change male and female in the `Sex` column to 1 and 0."
   ]
  },
  {
   "cell_type": "code",
   "execution_count": 17,
   "metadata": {
    "collapsed": false,
    "scrolled": true
   },
   "outputs": [
    {
     "name": "stdout",
     "output_type": "stream",
     "text": [
      "['S' 'C' 'Q' nan]\n"
     ]
    }
   ],
   "source": [
    "gender_bin = {\"male\": 1, \"female\": 0}\n",
    "df_titanic_train['Sex'] = df_titanic_train['Sex'].map(gender_bin)\n",
    "print(df_titanic_train['Embarked'].unique())"
   ]
  },
  {
   "cell_type": "markdown",
   "metadata": {},
   "source": [
    "`Embarked` seems to have a few missing cells. Let's find them."
   ]
  },
  {
   "cell_type": "code",
   "execution_count": 18,
   "metadata": {
    "collapsed": false
   },
   "outputs": [
    {
     "data": {
      "text/html": [
       "<div>\n",
       "<table border=\"1\" class=\"dataframe\">\n",
       "  <thead>\n",
       "    <tr style=\"text-align: right;\">\n",
       "      <th></th>\n",
       "      <th>Survived</th>\n",
       "      <th>Pclass</th>\n",
       "      <th>Sex</th>\n",
       "      <th>Age</th>\n",
       "      <th>SibSp</th>\n",
       "      <th>Parch</th>\n",
       "      <th>Fare</th>\n",
       "      <th>Embarked</th>\n",
       "    </tr>\n",
       "  </thead>\n",
       "  <tbody>\n",
       "    <tr>\n",
       "      <th>61</th>\n",
       "      <td>1</td>\n",
       "      <td>1</td>\n",
       "      <td>0</td>\n",
       "      <td>38.0</td>\n",
       "      <td>0</td>\n",
       "      <td>0</td>\n",
       "      <td>80.0</td>\n",
       "      <td>NaN</td>\n",
       "    </tr>\n",
       "    <tr>\n",
       "      <th>829</th>\n",
       "      <td>1</td>\n",
       "      <td>1</td>\n",
       "      <td>0</td>\n",
       "      <td>62.0</td>\n",
       "      <td>0</td>\n",
       "      <td>0</td>\n",
       "      <td>80.0</td>\n",
       "      <td>NaN</td>\n",
       "    </tr>\n",
       "  </tbody>\n",
       "</table>\n",
       "</div>"
      ],
      "text/plain": [
       "     Survived  Pclass  Sex   Age  SibSp  Parch  Fare Embarked\n",
       "61          1       1    0  38.0      0      0  80.0      NaN\n",
       "829         1       1    0  62.0      0      0  80.0      NaN"
      ]
     },
     "execution_count": 18,
     "metadata": {},
     "output_type": "execute_result"
    }
   ],
   "source": [
    "df_titanic_train[df_titanic_train['Embarked'].isin(['S','C','Q']) == False]"
   ]
  },
  {
   "cell_type": "markdown",
   "metadata": {},
   "source": [
    "Since there are only two rows with missing values, I am going to delete both of them."
   ]
  },
  {
   "cell_type": "code",
   "execution_count": 19,
   "metadata": {
    "collapsed": false
   },
   "outputs": [
    {
     "data": {
      "text/html": [
       "<div>\n",
       "<table border=\"1\" class=\"dataframe\">\n",
       "  <thead>\n",
       "    <tr style=\"text-align: right;\">\n",
       "      <th></th>\n",
       "      <th>Survived</th>\n",
       "      <th>Pclass</th>\n",
       "      <th>Sex</th>\n",
       "      <th>Age</th>\n",
       "      <th>SibSp</th>\n",
       "      <th>Parch</th>\n",
       "      <th>Fare</th>\n",
       "      <th>Embarked</th>\n",
       "    </tr>\n",
       "  </thead>\n",
       "  <tbody>\n",
       "    <tr>\n",
       "      <th>0</th>\n",
       "      <td>0</td>\n",
       "      <td>3</td>\n",
       "      <td>1</td>\n",
       "      <td>22.0</td>\n",
       "      <td>1</td>\n",
       "      <td>0</td>\n",
       "      <td>7.2500</td>\n",
       "      <td>S</td>\n",
       "    </tr>\n",
       "    <tr>\n",
       "      <th>1</th>\n",
       "      <td>1</td>\n",
       "      <td>1</td>\n",
       "      <td>0</td>\n",
       "      <td>38.0</td>\n",
       "      <td>1</td>\n",
       "      <td>0</td>\n",
       "      <td>71.2833</td>\n",
       "      <td>C</td>\n",
       "    </tr>\n",
       "    <tr>\n",
       "      <th>2</th>\n",
       "      <td>1</td>\n",
       "      <td>3</td>\n",
       "      <td>0</td>\n",
       "      <td>26.0</td>\n",
       "      <td>0</td>\n",
       "      <td>0</td>\n",
       "      <td>7.9250</td>\n",
       "      <td>S</td>\n",
       "    </tr>\n",
       "    <tr>\n",
       "      <th>3</th>\n",
       "      <td>1</td>\n",
       "      <td>1</td>\n",
       "      <td>0</td>\n",
       "      <td>35.0</td>\n",
       "      <td>1</td>\n",
       "      <td>0</td>\n",
       "      <td>53.1000</td>\n",
       "      <td>S</td>\n",
       "    </tr>\n",
       "    <tr>\n",
       "      <th>4</th>\n",
       "      <td>0</td>\n",
       "      <td>3</td>\n",
       "      <td>1</td>\n",
       "      <td>35.0</td>\n",
       "      <td>0</td>\n",
       "      <td>0</td>\n",
       "      <td>8.0500</td>\n",
       "      <td>S</td>\n",
       "    </tr>\n",
       "  </tbody>\n",
       "</table>\n",
       "</div>"
      ],
      "text/plain": [
       "   Survived  Pclass  Sex   Age  SibSp  Parch     Fare Embarked\n",
       "0         0       3    1  22.0      1      0   7.2500        S\n",
       "1         1       1    0  38.0      1      0  71.2833        C\n",
       "2         1       3    0  26.0      0      0   7.9250        S\n",
       "3         1       1    0  35.0      1      0  53.1000        S\n",
       "4         0       3    1  35.0      0      0   8.0500        S"
      ]
     },
     "execution_count": 19,
     "metadata": {},
     "output_type": "execute_result"
    }
   ],
   "source": [
    "df_titanic_train = df_titanic_train.drop(61)\n",
    "df_titanic_train = df_titanic_train.drop(829)\n",
    "df_titanic_train = df_titanic_train.reset_index(drop=True)\n",
    "df_titanic_train.head()"
   ]
  },
  {
   "cell_type": "markdown",
   "metadata": {},
   "source": [
    "Now I need to binarize the `Embarked` column. I am going to make two columns for `is_southampton` and `is_cherbourg`. When both of these are 0, it will represent `is_queenstown`."
   ]
  },
  {
   "cell_type": "code",
   "execution_count": 20,
   "metadata": {
    "collapsed": false
   },
   "outputs": [
    {
     "data": {
      "text/html": [
       "<div>\n",
       "<table border=\"1\" class=\"dataframe\">\n",
       "  <thead>\n",
       "    <tr style=\"text-align: right;\">\n",
       "      <th></th>\n",
       "      <th>Survived</th>\n",
       "      <th>Pclass</th>\n",
       "      <th>Sex</th>\n",
       "      <th>Age</th>\n",
       "      <th>SibSp</th>\n",
       "      <th>Parch</th>\n",
       "      <th>Fare</th>\n",
       "      <th>is_southampton</th>\n",
       "      <th>is_cherbourg</th>\n",
       "    </tr>\n",
       "  </thead>\n",
       "  <tbody>\n",
       "    <tr>\n",
       "      <th>0</th>\n",
       "      <td>0</td>\n",
       "      <td>3</td>\n",
       "      <td>1</td>\n",
       "      <td>22.0</td>\n",
       "      <td>1</td>\n",
       "      <td>0</td>\n",
       "      <td>7.2500</td>\n",
       "      <td>1</td>\n",
       "      <td>0</td>\n",
       "    </tr>\n",
       "    <tr>\n",
       "      <th>1</th>\n",
       "      <td>1</td>\n",
       "      <td>1</td>\n",
       "      <td>0</td>\n",
       "      <td>38.0</td>\n",
       "      <td>1</td>\n",
       "      <td>0</td>\n",
       "      <td>71.2833</td>\n",
       "      <td>0</td>\n",
       "      <td>1</td>\n",
       "    </tr>\n",
       "    <tr>\n",
       "      <th>2</th>\n",
       "      <td>1</td>\n",
       "      <td>3</td>\n",
       "      <td>0</td>\n",
       "      <td>26.0</td>\n",
       "      <td>0</td>\n",
       "      <td>0</td>\n",
       "      <td>7.9250</td>\n",
       "      <td>1</td>\n",
       "      <td>0</td>\n",
       "    </tr>\n",
       "    <tr>\n",
       "      <th>3</th>\n",
       "      <td>1</td>\n",
       "      <td>1</td>\n",
       "      <td>0</td>\n",
       "      <td>35.0</td>\n",
       "      <td>1</td>\n",
       "      <td>0</td>\n",
       "      <td>53.1000</td>\n",
       "      <td>1</td>\n",
       "      <td>0</td>\n",
       "    </tr>\n",
       "    <tr>\n",
       "      <th>4</th>\n",
       "      <td>0</td>\n",
       "      <td>3</td>\n",
       "      <td>1</td>\n",
       "      <td>35.0</td>\n",
       "      <td>0</td>\n",
       "      <td>0</td>\n",
       "      <td>8.0500</td>\n",
       "      <td>1</td>\n",
       "      <td>0</td>\n",
       "    </tr>\n",
       "  </tbody>\n",
       "</table>\n",
       "</div>"
      ],
      "text/plain": [
       "   Survived  Pclass  Sex   Age  SibSp  Parch     Fare  is_southampton  \\\n",
       "0         0       3    1  22.0      1      0   7.2500               1   \n",
       "1         1       1    0  38.0      1      0  71.2833               0   \n",
       "2         1       3    0  26.0      0      0   7.9250               1   \n",
       "3         1       1    0  35.0      1      0  53.1000               1   \n",
       "4         0       3    1  35.0      0      0   8.0500               1   \n",
       "\n",
       "   is_cherbourg  \n",
       "0             0  \n",
       "1             1  \n",
       "2             0  \n",
       "3             0  \n",
       "4             0  "
      ]
     },
     "execution_count": 20,
     "metadata": {},
     "output_type": "execute_result"
    }
   ],
   "source": [
    "def change_embark(dataframe):\n",
    "    cherbourg = []\n",
    "    southampton = []\n",
    "    for x in dataframe['Embarked']:\n",
    "        if x == 'S':\n",
    "            southampton.append(1)\n",
    "            cherbourg.append(0)\n",
    "        if x == 'C':\n",
    "            southampton.append(0)\n",
    "            cherbourg.append(1)\n",
    "        if x == 'Q':\n",
    "            southampton.append(0)\n",
    "            cherbourg.append(0)\n",
    "    dataframe['is_southampton'] = southampton\n",
    "    dataframe['is_cherbourg'] = cherbourg\n",
    "\n",
    "change_embark(df_titanic_train)\n",
    "del df_titanic_train[\"Embarked\"]\n",
    "df_titanic_train.head()"
   ]
  },
  {
   "cell_type": "markdown",
   "metadata": {},
   "source": [
    "Now I am going to check the `Age` column for missing values."
   ]
  },
  {
   "cell_type": "code",
   "execution_count": 21,
   "metadata": {
    "collapsed": false
   },
   "outputs": [
    {
     "data": {
      "text/html": [
       "<div>\n",
       "<table border=\"1\" class=\"dataframe\">\n",
       "  <thead>\n",
       "    <tr style=\"text-align: right;\">\n",
       "      <th></th>\n",
       "      <th>Survived</th>\n",
       "      <th>Pclass</th>\n",
       "      <th>Sex</th>\n",
       "      <th>Age</th>\n",
       "      <th>SibSp</th>\n",
       "      <th>Parch</th>\n",
       "      <th>Fare</th>\n",
       "      <th>is_southampton</th>\n",
       "      <th>is_cherbourg</th>\n",
       "    </tr>\n",
       "  </thead>\n",
       "  <tbody>\n",
       "    <tr>\n",
       "      <th>5</th>\n",
       "      <td>0</td>\n",
       "      <td>3</td>\n",
       "      <td>1</td>\n",
       "      <td>NaN</td>\n",
       "      <td>0</td>\n",
       "      <td>0</td>\n",
       "      <td>8.4583</td>\n",
       "      <td>0</td>\n",
       "      <td>0</td>\n",
       "    </tr>\n",
       "    <tr>\n",
       "      <th>17</th>\n",
       "      <td>1</td>\n",
       "      <td>2</td>\n",
       "      <td>1</td>\n",
       "      <td>NaN</td>\n",
       "      <td>0</td>\n",
       "      <td>0</td>\n",
       "      <td>13.0000</td>\n",
       "      <td>1</td>\n",
       "      <td>0</td>\n",
       "    </tr>\n",
       "    <tr>\n",
       "      <th>19</th>\n",
       "      <td>1</td>\n",
       "      <td>3</td>\n",
       "      <td>0</td>\n",
       "      <td>NaN</td>\n",
       "      <td>0</td>\n",
       "      <td>0</td>\n",
       "      <td>7.2250</td>\n",
       "      <td>0</td>\n",
       "      <td>1</td>\n",
       "    </tr>\n",
       "    <tr>\n",
       "      <th>26</th>\n",
       "      <td>0</td>\n",
       "      <td>3</td>\n",
       "      <td>1</td>\n",
       "      <td>NaN</td>\n",
       "      <td>0</td>\n",
       "      <td>0</td>\n",
       "      <td>7.2250</td>\n",
       "      <td>0</td>\n",
       "      <td>1</td>\n",
       "    </tr>\n",
       "    <tr>\n",
       "      <th>28</th>\n",
       "      <td>1</td>\n",
       "      <td>3</td>\n",
       "      <td>0</td>\n",
       "      <td>NaN</td>\n",
       "      <td>0</td>\n",
       "      <td>0</td>\n",
       "      <td>7.8792</td>\n",
       "      <td>0</td>\n",
       "      <td>0</td>\n",
       "    </tr>\n",
       "  </tbody>\n",
       "</table>\n",
       "</div>"
      ],
      "text/plain": [
       "    Survived  Pclass  Sex  Age  SibSp  Parch     Fare  is_southampton  \\\n",
       "5          0       3    1  NaN      0      0   8.4583               0   \n",
       "17         1       2    1  NaN      0      0  13.0000               1   \n",
       "19         1       3    0  NaN      0      0   7.2250               0   \n",
       "26         0       3    1  NaN      0      0   7.2250               0   \n",
       "28         1       3    0  NaN      0      0   7.8792               0   \n",
       "\n",
       "    is_cherbourg  \n",
       "5              0  \n",
       "17             0  \n",
       "19             1  \n",
       "26             1  \n",
       "28             0  "
      ]
     },
     "execution_count": 21,
     "metadata": {},
     "output_type": "execute_result"
    }
   ],
   "source": [
    "df_titanic_train[df_titanic_train['Age'].isnull()].head()"
   ]
  },
  {
   "cell_type": "markdown",
   "metadata": {},
   "source": [
    "Since there are more than 100 rows with no age, I am going to fill these cells in with the median age."
   ]
  },
  {
   "cell_type": "code",
   "execution_count": 22,
   "metadata": {
    "collapsed": false
   },
   "outputs": [],
   "source": [
    "median = df_titanic_train['Age'].median()\n",
    "df_titanic_train['Age'] = df_titanic_train['Age'].fillna(median)"
   ]
  },
  {
   "cell_type": "markdown",
   "metadata": {},
   "source": [
    "Let's create histograms to see how `Age` and `Fare` lool."
   ]
  },
  {
   "cell_type": "code",
   "execution_count": 23,
   "metadata": {
    "collapsed": false
   },
   "outputs": [
    {
     "data": {
      "image/png": "[encoded data removed]",
      "text/plain": [
       "<matplotlib.figure.Figure at 0x1e4ddf9a278>"
      ]
     },
     "metadata": {},
     "output_type": "display_data"
    },
    {
     "data": {
      "image/png": "[encoded data removed]",
      "text/plain": [
       "<matplotlib.figure.Figure at 0x1e4de3d6160>"
      ]
     },
     "metadata": {},
     "output_type": "display_data"
    }
   ],
   "source": [
    "df_titanic_train['Fare'].hist(bins = 20)\n",
    "plt.show()\n",
    "df_titanic_train['Age'].hist(bins = 20)\n",
    "plt.show()"
   ]
  },
  {
   "cell_type": "markdown",
   "metadata": {},
   "source": [
    "`Age` looks fine, but there seems to be a big skew in `Fare`. I am going to check the column to make sure there are no strange, low values."
   ]
  },
  {
   "cell_type": "code",
   "execution_count": 24,
   "metadata": {
    "collapsed": false
   },
   "outputs": [
    {
     "data": {
      "text/html": [
       "<div>\n",
       "<table border=\"1\" class=\"dataframe\">\n",
       "  <thead>\n",
       "    <tr style=\"text-align: right;\">\n",
       "      <th></th>\n",
       "      <th>Survived</th>\n",
       "      <th>Pclass</th>\n",
       "      <th>Sex</th>\n",
       "      <th>Age</th>\n",
       "      <th>SibSp</th>\n",
       "      <th>Parch</th>\n",
       "      <th>Fare</th>\n",
       "      <th>is_southampton</th>\n",
       "      <th>is_cherbourg</th>\n",
       "    </tr>\n",
       "  </thead>\n",
       "  <tbody>\n",
       "    <tr>\n",
       "      <th>178</th>\n",
       "      <td>0</td>\n",
       "      <td>3</td>\n",
       "      <td>1</td>\n",
       "      <td>36.0</td>\n",
       "      <td>0</td>\n",
       "      <td>0</td>\n",
       "      <td>0.0</td>\n",
       "      <td>1</td>\n",
       "      <td>0</td>\n",
       "    </tr>\n",
       "    <tr>\n",
       "      <th>262</th>\n",
       "      <td>0</td>\n",
       "      <td>1</td>\n",
       "      <td>1</td>\n",
       "      <td>40.0</td>\n",
       "      <td>0</td>\n",
       "      <td>0</td>\n",
       "      <td>0.0</td>\n",
       "      <td>1</td>\n",
       "      <td>0</td>\n",
       "    </tr>\n",
       "    <tr>\n",
       "      <th>270</th>\n",
       "      <td>1</td>\n",
       "      <td>3</td>\n",
       "      <td>1</td>\n",
       "      <td>25.0</td>\n",
       "      <td>0</td>\n",
       "      <td>0</td>\n",
       "      <td>0.0</td>\n",
       "      <td>1</td>\n",
       "      <td>0</td>\n",
       "    </tr>\n",
       "    <tr>\n",
       "      <th>276</th>\n",
       "      <td>0</td>\n",
       "      <td>2</td>\n",
       "      <td>1</td>\n",
       "      <td>28.0</td>\n",
       "      <td>0</td>\n",
       "      <td>0</td>\n",
       "      <td>0.0</td>\n",
       "      <td>1</td>\n",
       "      <td>0</td>\n",
       "    </tr>\n",
       "    <tr>\n",
       "      <th>301</th>\n",
       "      <td>0</td>\n",
       "      <td>3</td>\n",
       "      <td>1</td>\n",
       "      <td>19.0</td>\n",
       "      <td>0</td>\n",
       "      <td>0</td>\n",
       "      <td>0.0</td>\n",
       "      <td>1</td>\n",
       "      <td>0</td>\n",
       "    </tr>\n",
       "  </tbody>\n",
       "</table>\n",
       "</div>"
      ],
      "text/plain": [
       "     Survived  Pclass  Sex   Age  SibSp  Parch  Fare  is_southampton  \\\n",
       "178         0       3    1  36.0      0      0   0.0               1   \n",
       "262         0       1    1  40.0      0      0   0.0               1   \n",
       "270         1       3    1  25.0      0      0   0.0               1   \n",
       "276         0       2    1  28.0      0      0   0.0               1   \n",
       "301         0       3    1  19.0      0      0   0.0               1   \n",
       "\n",
       "     is_cherbourg  \n",
       "178             0  \n",
       "262             0  \n",
       "270             0  \n",
       "276             0  \n",
       "301             0  "
      ]
     },
     "execution_count": 24,
     "metadata": {},
     "output_type": "execute_result"
    }
   ],
   "source": [
    "df_titanic_train[df_titanic_train['Fare'] < 1].head()"
   ]
  },
  {
   "cell_type": "markdown",
   "metadata": {},
   "source": [
    "It seems like there are quite a few cells with fares of 0. I am going to replace these numbers with the corresponding median of the fare for everyone with the same `Pclass`."
   ]
  },
  {
   "cell_type": "code",
   "execution_count": 25,
   "metadata": {
    "collapsed": false
   },
   "outputs": [
    {
     "data": {
      "text/html": [
       "<div>\n",
       "<table border=\"1\" class=\"dataframe\">\n",
       "  <thead>\n",
       "    <tr style=\"text-align: right;\">\n",
       "      <th></th>\n",
       "      <th>Survived</th>\n",
       "      <th>Pclass</th>\n",
       "      <th>Sex</th>\n",
       "      <th>Age</th>\n",
       "      <th>SibSp</th>\n",
       "      <th>Parch</th>\n",
       "      <th>Fare</th>\n",
       "      <th>is_southampton</th>\n",
       "      <th>is_cherbourg</th>\n",
       "    </tr>\n",
       "  </thead>\n",
       "  <tbody>\n",
       "    <tr>\n",
       "      <th>0</th>\n",
       "      <td>0</td>\n",
       "      <td>3</td>\n",
       "      <td>1</td>\n",
       "      <td>22.0</td>\n",
       "      <td>1</td>\n",
       "      <td>0</td>\n",
       "      <td>7.2500</td>\n",
       "      <td>1</td>\n",
       "      <td>0</td>\n",
       "    </tr>\n",
       "    <tr>\n",
       "      <th>1</th>\n",
       "      <td>1</td>\n",
       "      <td>1</td>\n",
       "      <td>0</td>\n",
       "      <td>38.0</td>\n",
       "      <td>1</td>\n",
       "      <td>0</td>\n",
       "      <td>71.2833</td>\n",
       "      <td>0</td>\n",
       "      <td>1</td>\n",
       "    </tr>\n",
       "    <tr>\n",
       "      <th>2</th>\n",
       "      <td>1</td>\n",
       "      <td>3</td>\n",
       "      <td>0</td>\n",
       "      <td>26.0</td>\n",
       "      <td>0</td>\n",
       "      <td>0</td>\n",
       "      <td>7.9250</td>\n",
       "      <td>1</td>\n",
       "      <td>0</td>\n",
       "    </tr>\n",
       "    <tr>\n",
       "      <th>3</th>\n",
       "      <td>1</td>\n",
       "      <td>1</td>\n",
       "      <td>0</td>\n",
       "      <td>35.0</td>\n",
       "      <td>1</td>\n",
       "      <td>0</td>\n",
       "      <td>53.1000</td>\n",
       "      <td>1</td>\n",
       "      <td>0</td>\n",
       "    </tr>\n",
       "    <tr>\n",
       "      <th>4</th>\n",
       "      <td>0</td>\n",
       "      <td>3</td>\n",
       "      <td>1</td>\n",
       "      <td>35.0</td>\n",
       "      <td>0</td>\n",
       "      <td>0</td>\n",
       "      <td>8.0500</td>\n",
       "      <td>1</td>\n",
       "      <td>0</td>\n",
       "    </tr>\n",
       "  </tbody>\n",
       "</table>\n",
       "</div>"
      ],
      "text/plain": [
       "   Survived  Pclass  Sex   Age  SibSp  Parch     Fare  is_southampton  \\\n",
       "0         0       3    1  22.0      1      0   7.2500               1   \n",
       "1         1       1    0  38.0      1      0  71.2833               0   \n",
       "2         1       3    0  26.0      0      0   7.9250               1   \n",
       "3         1       1    0  35.0      1      0  53.1000               1   \n",
       "4         0       3    1  35.0      0      0   8.0500               1   \n",
       "\n",
       "   is_cherbourg  \n",
       "0             0  \n",
       "1             1  \n",
       "2             0  \n",
       "3             0  \n",
       "4             0  "
      ]
     },
     "execution_count": 25,
     "metadata": {},
     "output_type": "execute_result"
    }
   ],
   "source": [
    "class_one = df_titanic_train[df_titanic_train.Pclass == 1].Fare.median()\n",
    "class_two = df_titanic_train[df_titanic_train.Pclass == 2].Fare.median()\n",
    "class_three = df_titanic_train[df_titanic_train.Pclass == 3].Fare.median()\n",
    "indices = df_titanic_train[df_titanic_train['Fare'] < 1].index\n",
    "for x in indices:\n",
    "    if df_titanic_train.loc[x, 'Pclass'] == 1:\n",
    "        df_titanic_train.loc[x, 'Fare'] = class_one\n",
    "    if df_titanic_train.loc[x, 'Pclass'] == 2:\n",
    "        df_titanic_train.loc[x, 'Fare'] = class_two\n",
    "    if df_titanic_train.loc[x, 'Pclass'] == 3:\n",
    "        df_titanic_train.loc[x, 'Fare'] = class_three\n",
    "        \n",
    "df_titanic_train.head()"
   ]
  },
  {
   "cell_type": "markdown",
   "metadata": {},
   "source": [
    "I need to create the X and y datasets and split it into training and test datasets."
   ]
  },
  {
   "cell_type": "code",
   "execution_count": 26,
   "metadata": {
    "collapsed": true
   },
   "outputs": [],
   "source": [
    "X_titan = df_titanic_train[df_titanic_train.columns.tolist()[1:]]\n",
    "y_titan = df_titanic_train['Survived']\n",
    "X_titanic_train, X_titanic_test, y_titanic_train, y_titanic_test = train_test_split(X_titan, y_titan, test_size=.3)"
   ]
  },
  {
   "cell_type": "markdown",
   "metadata": {},
   "source": [
    "Now I am going to fit a model for this dataset. I am going to set n to 8 so the tree does not overflow too much."
   ]
  },
  {
   "cell_type": "code",
   "execution_count": 27,
   "metadata": {
    "collapsed": false,
    "scrolled": true
   },
   "outputs": [
    {
     "name": "stdout",
     "output_type": "stream",
     "text": [
      "root:  predictor: Sex | threshold: 0 | # elements: 622\n",
      "   child:  predictor: Pclass | threshold: 2 | # elements: 221\n",
      "      grandchild^1:  predictor: Age | threshold: 2.0 | # elements: 123\n",
      "         grandchild^2:  predictor: Pclass | threshold: 1 | # elements: 2\n",
      "            grandchild^3:  class of leaf: 0\n",
      "            grandchild^3:  class of leaf: 1\n",
      "         grandchild^2:  predictor: Fare | threshold: 13.0 | # elements: 121\n",
      "            grandchild^3:  predictor: Age | threshold: 50.0 | # elements: 20\n",
      "               grandchild^4:  predictor: Fare | threshold: 12.35 | # elements: 19\n",
      "                  grandchild^5:  class of leaf: 1\n",
      "                  grandchild^5:  predictor: Age | threshold: 24.0 | # elements: 11\n",
      "                     grandchild^6:  predictor: Age | threshold: 18.0 | # elements: 3\n",
      "                        grandchild^7:  class of leaf: 1\n",
      "                        grandchild^7:  class of leaf: 1\n",
      "                     grandchild^6:  predictor: Age | threshold: 36.0 | # elements: 8\n",
      "                        grandchild^7:  class of leaf: 1\n",
      "                        grandchild^7:  class of leaf: 1\n",
      "               grandchild^4:  class of leaf: 0\n",
      "            grandchild^3:  predictor: Fare | threshold: 28.7125 | # elements: 101\n",
      "               grandchild^4:  predictor: Fare | threshold: 27.75 | # elements: 29\n",
      "                  grandchild^5:  predictor: Age | threshold: 26.0 | # elements: 28\n",
      "                     grandchild^6:  predictor: Age | threshold: 25.0 | # elements: 13\n",
      "                        grandchild^7:  class of leaf: 1\n",
      "                        grandchild^7:  class of leaf: 0\n",
      "                     grandchild^6:  class of leaf: 1\n",
      "                  grandchild^5:  class of leaf: 0\n",
      "               grandchild^4:  predictor: Parch | threshold: 1 | # elements: 72\n",
      "                  grandchild^5:  class of leaf: 1\n",
      "                  grandchild^5:  predictor: Age | threshold: 24.0 | # elements: 11\n",
      "                     grandchild^6:  class of leaf: 1\n",
      "                     grandchild^6:  predictor: Age | threshold: 25.0 | # elements: 4\n",
      "                        grandchild^7:  class of leaf: 0\n",
      "                        grandchild^7:  class of leaf: 1\n",
      "      grandchild^1:  predictor: is_southampton | threshold: 0 | # elements: 98\n",
      "         grandchild^2:  predictor: Age | threshold: 29.0 | # elements: 42\n",
      "            grandchild^3:  predictor: Fare | threshold: 15.2458 | # elements: 40\n",
      "               grandchild^4:  predictor: Fare | threshold: 8.0292 | # elements: 30\n",
      "                  grandchild^5:  predictor: Parch | threshold: 0 | # elements: 22\n",
      "                     grandchild^6:  predictor: Fare | threshold: 6.75 | # elements: 21\n",
      "                        grandchild^7:  class of leaf: 0\n",
      "                        grandchild^7:  class of leaf: 1\n",
      "                     grandchild^6:  class of leaf: 0\n",
      "                  grandchild^5:  predictor: Age | threshold: 4.0 | # elements: 8\n",
      "                     grandchild^6:  class of leaf: 1\n",
      "                     grandchild^6:  predictor: Age | threshold: 28.0 | # elements: 7\n",
      "                        grandchild^7:  class of leaf: 0\n",
      "                        grandchild^7:  class of leaf: 1\n",
      "               grandchild^4:  class of leaf: 1\n",
      "            grandchild^3:  class of leaf: 0\n",
      "         grandchild^2:  predictor: Fare | threshold: 16.1 | # elements: 56\n",
      "            grandchild^3:  predictor: Fare | threshold: 10.5167 | # elements: 36\n",
      "               grandchild^4:  predictor: Age | threshold: 23.0 | # elements: 26\n",
      "                  grandchild^5:  predictor: Fare | threshold: 7.8542 | # elements: 15\n",
      "                     grandchild^6:  predictor: Age | threshold: 18.0 | # elements: 8\n",
      "                        grandchild^7:  class of leaf: 1\n",
      "                        grandchild^7:  class of leaf: 1\n",
      "                     grandchild^6:  predictor: Age | threshold: 18.0 | # elements: 7\n",
      "                        grandchild^7:  class of leaf: 1\n",
      "                        grandchild^7:  class of leaf: 0\n",
      "                  grandchild^5:  predictor: Age | threshold: 45.0 | # elements: 11\n",
      "                     grandchild^6:  predictor: Age | threshold: 26.0 | # elements: 10\n",
      "                        grandchild^7:  class of leaf: 0\n",
      "                        grandchild^7:  class of leaf: 0\n",
      "                     grandchild^6:  class of leaf: 1\n",
      "               grandchild^4:  predictor: Age | threshold: 33.0 | # elements: 10\n",
      "                  grandchild^5:  predictor: Age | threshold: 27.0 | # elements: 9\n",
      "                     grandchild^6:  class of leaf: 1\n",
      "                     grandchild^6:  predictor: Parch | threshold: 0 | # elements: 4\n",
      "                        grandchild^7:  class of leaf: 1\n",
      "                        grandchild^7:  class of leaf: 0\n",
      "                  grandchild^5:  class of leaf: 0\n",
      "            grandchild^3:  predictor: Age | threshold: 5.0 | # elements: 20\n",
      "               grandchild^4:  predictor: Age | threshold: 3.0 | # elements: 4\n",
      "                  grandchild^5:  class of leaf: 0\n",
      "                  grandchild^5:  class of leaf: 1\n",
      "               grandchild^4:  predictor: Parch | threshold: 4 | # elements: 16\n",
      "                  grandchild^5:  class of leaf: 0\n",
      "                  grandchild^5:  predictor: Age | threshold: 38.0 | # elements: 3\n",
      "                     grandchild^6:  class of leaf: 1\n",
      "                     grandchild^6:  class of leaf: 0\n",
      "   child:  predictor: Age | threshold: 6.0 | # elements: 401\n",
      "      grandchild^1:  predictor: SibSp | threshold: 2 | # elements: 16\n",
      "         grandchild^2:  class of leaf: 1\n",
      "         grandchild^2:  class of leaf: 0\n",
      "      grandchild^1:  predictor: Pclass | threshold: 1 | # elements: 385\n",
      "         grandchild^2:  predictor: Age | threshold: 51.0 | # elements: 84\n",
      "            grandchild^3:  predictor: Fare | threshold: 30.5 | # elements: 70\n",
      "               grandchild^4:  predictor: Fare | threshold: 25.925 | # elements: 21\n",
      "                  grandchild^5:  class of leaf: 0\n",
      "                  grandchild^5:  predictor: Fare | threshold: 26.55 | # elements: 18\n",
      "                     grandchild^6:  class of leaf: 1\n",
      "                     grandchild^6:  predictor: Fare | threshold: 29.7 | # elements: 10\n",
      "                        grandchild^7:  class of leaf: 0\n",
      "                        grandchild^7:  class of leaf: 1\n",
      "               grandchild^4:  predictor: Age | threshold: 47.0 | # elements: 49\n",
      "                  grandchild^5:  predictor: Parch | threshold: 0 | # elements: 42\n",
      "                     grandchild^6:  predictor: Fare | threshold: 227.525 | # elements: 34\n",
      "                        grandchild^7:  class of leaf: 0\n",
      "                        grandchild^7:  class of leaf: 1\n",
      "                     grandchild^6:  predictor: Age | threshold: 27.0 | # elements: 8\n",
      "                        grandchild^7:  class of leaf: 0\n",
      "                        grandchild^7:  class of leaf: 1\n",
      "                  grandchild^5:  predictor: Age | threshold: 49.0 | # elements: 7\n",
      "                     grandchild^6:  class of leaf: 1\n",
      "                     grandchild^6:  predictor: SibSp | threshold: 1 | # elements: 3\n",
      "                        grandchild^7:  class of leaf: 0\n",
      "                        grandchild^7:  class of leaf: 1\n",
      "            grandchild^3:  predictor: is_southampton | threshold: 0 | # elements: 14\n",
      "               grandchild^4:  predictor: Age | threshold: 56.0 | # elements: 4\n",
      "                  grandchild^5:  class of leaf: 1\n",
      "                  grandchild^5:  class of leaf: 0\n",
      "               grandchild^4:  class of leaf: 0\n",
      "         grandchild^2:  predictor: Age | threshold: 32.0 | # elements: 301\n",
      "            grandchild^3:  predictor: Age | threshold: 31.0 | # elements: 235\n",
      "               grandchild^4:  predictor: is_cherbourg | threshold: 0 | # elements: 225\n",
      "                  grandchild^5:  predictor: Age | threshold: 9.0 | # elements: 190\n",
      "                     grandchild^6:  predictor: SibSp | threshold: 1 | # elements: 6\n",
      "                        grandchild^7:  class of leaf: 1\n",
      "                        grandchild^7:  class of leaf: 0\n",
      "                     grandchild^6:  predictor: Age | threshold: 28.5 | # elements: 184\n",
      "                        grandchild^7:  class of leaf: 0\n",
      "                        grandchild^7:  class of leaf: 0\n",
      "                  grandchild^5:  predictor: Fare | threshold: 8.7125 | # elements: 35\n",
      "                     grandchild^6:  predictor: Age | threshold: 22.0 | # elements: 20\n",
      "                        grandchild^7:  class of leaf: 0\n",
      "                        grandchild^7:  class of leaf: 0\n",
      "                     grandchild^6:  predictor: Fare | threshold: 18.7875 | # elements: 15\n",
      "                        grandchild^7:  class of leaf: 1\n",
      "                        grandchild^7:  class of leaf: 0\n",
      "               grandchild^4:  predictor: Fare | threshold: 15.85 | # elements: 10\n",
      "                  grandchild^5:  predictor: Fare | threshold: 8.05 | # elements: 7\n",
      "                     grandchild^6:  predictor: Fare | threshold: 7.75 | # elements: 5\n",
      "                        grandchild^7:  class of leaf: 0\n",
      "                        grandchild^7:  class of leaf: 1\n",
      "                     grandchild^6:  class of leaf: 0\n",
      "                  grandchild^5:  class of leaf: 1\n",
      "            grandchild^3:  predictor: Fare | threshold: 7.925 | # elements: 66\n",
      "               grandchild^4:  predictor: Fare | threshold: 7.8958 | # elements: 22\n",
      "                  grandchild^5:  class of leaf: 0\n",
      "                  grandchild^5:  predictor: Age | threshold: 39.0 | # elements: 2\n",
      "                     grandchild^6:  class of leaf: 0\n",
      "                     grandchild^6:  class of leaf: 1\n",
      "               grandchild^4:  class of leaf: 0\n",
      " \n"
     ]
    }
   ],
   "source": [
    "four = Tree()\n",
    "four.fit(X_titanic_train, y_titanic_train, n=8)\n",
    "print(four)"
   ]
  },
  {
   "cell_type": "code",
   "execution_count": 28,
   "metadata": {
    "collapsed": false
   },
   "outputs": [
    {
     "name": "stdout",
     "output_type": "stream",
     "text": [
      "Confusion Matrix: \n",
      "[[154  17]\n",
      " [ 34  62]]\n",
      "\n",
      "Accuracy Score: \n",
      "0.808988764045\n",
      "\n",
      "Precision Score: \n",
      "0.801979531376\n",
      "Recall Score: \n",
      "0.773209064327\n"
     ]
    }
   ],
   "source": [
    "titanic_preds = four.predict(X_titanic_test)\n",
    "metrics(y_titanic_test, titanic_preds)"
   ]
  },
  {
   "cell_type": "markdown",
   "metadata": {},
   "source": [
    "This seems like a reasonable accuracy score (about 80%). However, there are about 51 misclassified points."
   ]
  },
  {
   "cell_type": "markdown",
   "metadata": {},
   "source": [
    "Time to move on to dataset 5.\n",
    "\n",
    "### Dataset 5\n",
    "\n",
    "I read in the csv file, create X and y datasets, and split these into training and testing datasets."
   ]
  },
  {
   "cell_type": "code",
   "execution_count": 29,
   "metadata": {
    "collapsed": false
   },
   "outputs": [],
   "source": [
    "dataframe = pd.read_csv(\"noisy_dataset.csv\", index_col = 0)\n",
    "X_noisy = dataframe[['x_1', 'x_2']]\n",
    "y_noisy = dataframe['y']\n",
    "X_noisy_train, X_noisy_test, y_noisy_train, y_noisy_test = train_test_split(X_noisy, y_noisy, test_size=.3)"
   ]
  },
  {
   "cell_type": "markdown",
   "metadata": {},
   "source": [
    "Now I am going to fit this dataset with multiple different models with different n values."
   ]
  },
  {
   "cell_type": "code",
   "execution_count": 38,
   "metadata": {
    "collapsed": false,
    "scrolled": true
   },
   "outputs": [],
   "source": [
    "models_scores = dict()\n",
    "five = Tree()\n",
    "for x in range(3, 8):\n",
    "    five.fit(X_noisy_train, y_noisy_train, n=x)\n",
    "    noisy_preds = five.predict(X_noisy_test)\n",
    "    models_scores[x] = accuracy_score(y_noisy_test, noisy_preds)"
   ]
  },
  {
   "cell_type": "code",
   "execution_count": null,
   "metadata": {
    "collapsed": true
   },
   "outputs": [],
   "source": [
    "Here are the accuracy scores for each n value."
   ]
  },
  {
   "cell_type": "code",
   "execution_count": 39,
   "metadata": {
    "collapsed": false
   },
   "outputs": [
    {
     "data": {
      "text/plain": [
       "{3: 0.7466666666666667,\n",
       " 4: 0.75666666666666671,\n",
       " 5: 0.78000000000000003,\n",
       " 6: 0.78000000000000003,\n",
       " 7: 0.76666666666666672}"
      ]
     },
     "execution_count": 39,
     "metadata": {},
     "output_type": "execute_result"
    }
   ],
   "source": [
    "models_scores"
   ]
  },
  {
   "cell_type": "code",
   "execution_count": 40,
   "metadata": {
    "collapsed": false
   },
   "outputs": [],
   "source": [
    "x = list(models_scores.keys())\n",
    "y = list(models_scores.values())"
   ]
  },
  {
   "cell_type": "code",
   "execution_count": 41,
   "metadata": {
    "collapsed": false
   },
   "outputs": [
    {
     "data": {
      "image/png": "[encoded data removed]",
      "text/plain": [
       "<matplotlib.figure.Figure at 0x1e4deabaac8>"
      ]
     },
     "metadata": {},
     "output_type": "display_data"
    }
   ],
   "source": [
    "plt.scatter(x, y, linewidths=9)\n",
    "plt.xlabel(\"Depth of tree\")\n",
    "plt.ylabel(\"Accuracy Score\")\n",
    "plt.show()"
   ]
  },
  {
   "cell_type": "markdown",
   "metadata": {},
   "source": [
    "Based on the graph, it looks like the sixth level has the best accuracy score (almost 80%). In fact, it seems like the seventh level has a lower accuracy score than the sixth level."
   ]
  },
  {
   "cell_type": "markdown",
   "metadata": {},
   "source": [
    "## Compare to scikit-learn's `DecisionTreeClassifier` class\n",
    "\n",
    "It should come as no surprise to you that scikit-learn has a [decision tree class](http://scikit-learn.org/stable/modules/generated/sklearn.tree.DecisionTreeClassifier.html#sklearn.tree.DecisionTreeClassifier).  Compare your constructed class to theirs in terms of their functionality, what attributes and constructor-arguments does their decision tree class have that yours does not?"
   ]
  },
  {
   "cell_type": "markdown",
   "metadata": {},
   "source": [
    "Scikit-learn's `DecisionTreeClassifier` class, when compared to ours, accepts more parameters and as a result can be more fine-tuned. Moreover, it provides more advanced functions, such as `score` and `predict_proba`. For example, according to its documentation, `score` returns the mean accuracy on the given test data and labels, and `predict_proba` predicts class probabilities of the input samples."
   ]
  },
  {
   "cell_type": "markdown",
   "metadata": {},
   "source": [
    "Here are all the parameters accepted by the `DecisionTreeClassifier` class from `sklearn`:\n",
    "\n",
    "__init__(criterion='gini', splitter='best', max_depth=None, min_samples_split=2, min_samples_leaf=1, min_weight_fraction_leaf=0.0, max_features=None, random_state=None, max_leaf_nodes=None, min_impurity_split=1e-07, class_weight=None, presort=False)"
   ]
  },
  {
   "cell_type": "markdown",
   "metadata": {},
   "source": [
    "In comparison, our class only accepts the following parameters:\n",
    "* X dataframe\n",
    "* y dataframe\n",
    "* n: maximum depth (stopping condition)"
   ]
  },
  {
   "cell_type": "markdown",
   "metadata": {},
   "source": [
    "Here are all the fields and methods of the class from `sklearn`:"
   ]
  },
  {
   "cell_type": "code",
   "execution_count": 42,
   "metadata": {
    "collapsed": false
   },
   "outputs": [
    {
     "data": {
      "text/plain": [
       "['__abstractmethods__',\n",
       " '__class__',\n",
       " '__delattr__',\n",
       " '__dict__',\n",
       " '__dir__',\n",
       " '__doc__',\n",
       " '__eq__',\n",
       " '__format__',\n",
       " '__ge__',\n",
       " '__getattribute__',\n",
       " '__getstate__',\n",
       " '__gt__',\n",
       " '__hash__',\n",
       " '__init__',\n",
       " '__le__',\n",
       " '__lt__',\n",
       " '__module__',\n",
       " '__ne__',\n",
       " '__new__',\n",
       " '__reduce__',\n",
       " '__reduce_ex__',\n",
       " '__repr__',\n",
       " '__setattr__',\n",
       " '__setstate__',\n",
       " '__sizeof__',\n",
       " '__str__',\n",
       " '__subclasshook__',\n",
       " '__weakref__',\n",
       " '_abc_cache',\n",
       " '_abc_negative_cache',\n",
       " '_abc_negative_cache_version',\n",
       " '_abc_registry',\n",
       " '_estimator_type',\n",
       " '_get_param_names',\n",
       " '_validate_X_predict',\n",
       " 'apply',\n",
       " 'decision_path',\n",
       " 'feature_importances_',\n",
       " 'fit',\n",
       " 'fit_transform',\n",
       " 'get_params',\n",
       " 'predict',\n",
       " 'predict_log_proba',\n",
       " 'predict_proba',\n",
       " 'score',\n",
       " 'set_params',\n",
       " 'transform']"
      ]
     },
     "execution_count": 42,
     "metadata": {},
     "output_type": "execute_result"
    }
   ],
   "source": [
    "from sklearn.tree import DecisionTreeClassifier\n",
    "dir(DecisionTreeClassifier)"
   ]
  },
  {
   "cell_type": "markdown",
   "metadata": {},
   "source": [
    "## Overfitting and what to do about it\n",
    "\n",
    "What we saw (hopefully!) in dataset 6 above is called __overfitting__, meaning our model is learning the noise in the training data.  This weakens the models predictive power.  There are many options to reduce overfitting, here are a few.  Implement at least one of them, until you have something that makes your models noticeably better.\n",
    "\n",
    "* Add a stopping condition: \n",
    " * stop splitting off more nodes when a node reaches either a minimal number of items per node _or_ is a pure node,\n",
    " * stop splitting by not allowing any child nodes to go below a minimum number of nodes,\n",
    " * stop splitting when you've reached some maximum depth.\n",
    "* After fitting a deep, overfit tree, use a __validation__ set to _prune_ the tree: remove nodes by rejoining children into parents, then test them against the validation set to see if the pruned tree was better.  Do this until you stop seeing improvements on the validation set.  Here a validation set means a third split of data, different from test and train.  It's different from the training set because you're not training the model on it, but it's also not testing data because you're changing your model based on knowledge gained from the dataset.  It's somewhere in between.  Feel free to ask me about _cross-validation_ as well, and how you could use that instead.  We'll talk about it eventually, but I don't want to add more to this project than is already here.\n",
    "\n",
    "__Explain to me what you did, and where it shows up in your code (for example, is it in your class definition?).__"
   ]
  },
  {
   "cell_type": "markdown",
   "metadata": {},
   "source": [
    "We decided to go with a stopping paramater that controls the depth of the tree(i.e. how many layers). Here we added an `\"n\"` value that controls the limits depth of the tree. The default value we use is 10 (1024 nodes max). It is found in the `fit` method in the Tree class."
   ]
  },
  {
   "cell_type": "markdown",
   "metadata": {},
   "source": [
    "## Possible extensions\n",
    "\n",
    "Here are two extensions of the `DecisionTree` class that you made.  They are entirely optional, so don't feel you need to do them!\n",
    "\n",
    "* In reality, people use decision trees on a limited basis, typically only when model interpretability is forced by government institutions (so, this happens a lot with banks, for example).  What you normally do is build a __forest__ of trees, that is, a collection of several trees (a common number is 50-500 trees), and then have them vote.  However, if you let your trees build themselves from the same exact datasets each time, they will be roughly the same, and the power of this voting model will be irrelevant.  Thus, one extremely common model is called the __Random Forest__ classifier: give each tree only a subset of the features to train from, don't prune at all (allow them to overfit on that subset), and then have them vote.  This increases the variance of the distribution of tree votes, which helps to average out the errors.  Create a new Python class that builds this classification model.  Note that Random Forests are a current industry favorite (among other things, like support vector machines, boosted trees, and neural networks), meaning if you do this you'll have created a model capable of hacking it with some of the best!\n",
    "\n",
    "* Scikit-learn's `DecisionTreeClassifier` has a somewhat pretty visualization of the tree that can be exported using the library `GraphViz`.  There are python wrappers to this module, the most common is `pydot`.  Using these libraries, or similar ones, add the functionality of constructing an attractive visualization of your decision tree class."
   ]
  }
 ],
 "metadata": {
  "anaconda-cloud": {},
  "kernelspec": {
   "display_name": "Python [datamining]",
   "language": "python",
   "name": "Python [datamining]"
  },
  "language_info": {
   "codemirror_mode": {
    "name": "ipython",
    "version": 3
   },
   "file_extension": ".py",
   "mimetype": "text/x-python",
   "name": "python",
   "nbconvert_exporter": "python",
   "pygments_lexer": "ipython3",
   "version": "3.5.2"
  }
 },
 "nbformat": 4,
 "nbformat_minor": 0
}
