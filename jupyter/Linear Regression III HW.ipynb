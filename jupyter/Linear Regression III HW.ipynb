{
 "cells": [
  {
   "cell_type": "markdown",
   "metadata": {},
   "source": [
    "# Exploring a Mystery Dataset\n",
    "\n",
    "There's a famous dataset that's so tiny, I can just put it right into this notebook.  It's a bit of a weird dataset, though: it's really four datasets, with one predictor for each response."
   ]
  },
  {
   "cell_type": "code",
   "execution_count": 3,
   "metadata": {
    "collapsed": false
   },
   "outputs": [],
   "source": [
    "import numpy as np\n",
    "import matplotlib.pyplot as plt\n",
    "import pandas as pd\n",
    "import seaborn as sns\n",
    "from sklearn.linear_model import LinearRegression\n",
    "from statistics import mean\n",
    "\n",
    "plt.style.use('fivethirtyeight')\n",
    "\n",
    "%matplotlib inline"
   ]
  },
  {
   "cell_type": "code",
   "execution_count": 4,
   "metadata": {
    "collapsed": false
   },
   "outputs": [
    {
     "data": {
      "text/html": [
       "<div>\n",
       "<table border=\"1\" class=\"dataframe\">\n",
       "  <thead>\n",
       "    <tr style=\"text-align: right;\">\n",
       "      <th></th>\n",
       "      <th>x_1</th>\n",
       "      <th>y_1</th>\n",
       "      <th>x_2</th>\n",
       "      <th>y_2</th>\n",
       "      <th>x_3</th>\n",
       "      <th>y_3</th>\n",
       "      <th>x_4</th>\n",
       "      <th>y_4</th>\n",
       "    </tr>\n",
       "  </thead>\n",
       "  <tbody>\n",
       "    <tr>\n",
       "      <th>0</th>\n",
       "      <td>10.0</td>\n",
       "      <td>8.04</td>\n",
       "      <td>10.0</td>\n",
       "      <td>9.14</td>\n",
       "      <td>10.0</td>\n",
       "      <td>7.46</td>\n",
       "      <td>8.0</td>\n",
       "      <td>6.58</td>\n",
       "    </tr>\n",
       "    <tr>\n",
       "      <th>1</th>\n",
       "      <td>8.0</td>\n",
       "      <td>6.95</td>\n",
       "      <td>8.0</td>\n",
       "      <td>8.14</td>\n",
       "      <td>8.0</td>\n",
       "      <td>6.77</td>\n",
       "      <td>8.0</td>\n",
       "      <td>5.76</td>\n",
       "    </tr>\n",
       "    <tr>\n",
       "      <th>2</th>\n",
       "      <td>13.0</td>\n",
       "      <td>7.58</td>\n",
       "      <td>13.0</td>\n",
       "      <td>8.74</td>\n",
       "      <td>13.0</td>\n",
       "      <td>12.74</td>\n",
       "      <td>8.0</td>\n",
       "      <td>7.71</td>\n",
       "    </tr>\n",
       "    <tr>\n",
       "      <th>3</th>\n",
       "      <td>9.0</td>\n",
       "      <td>8.81</td>\n",
       "      <td>9.0</td>\n",
       "      <td>8.77</td>\n",
       "      <td>9.0</td>\n",
       "      <td>7.11</td>\n",
       "      <td>8.0</td>\n",
       "      <td>8.84</td>\n",
       "    </tr>\n",
       "    <tr>\n",
       "      <th>4</th>\n",
       "      <td>11.0</td>\n",
       "      <td>8.33</td>\n",
       "      <td>11.0</td>\n",
       "      <td>9.26</td>\n",
       "      <td>11.0</td>\n",
       "      <td>7.81</td>\n",
       "      <td>8.0</td>\n",
       "      <td>8.47</td>\n",
       "    </tr>\n",
       "    <tr>\n",
       "      <th>5</th>\n",
       "      <td>14.0</td>\n",
       "      <td>9.96</td>\n",
       "      <td>14.0</td>\n",
       "      <td>8.10</td>\n",
       "      <td>14.0</td>\n",
       "      <td>8.84</td>\n",
       "      <td>8.0</td>\n",
       "      <td>7.04</td>\n",
       "    </tr>\n",
       "    <tr>\n",
       "      <th>6</th>\n",
       "      <td>6.0</td>\n",
       "      <td>7.24</td>\n",
       "      <td>6.0</td>\n",
       "      <td>6.13</td>\n",
       "      <td>6.0</td>\n",
       "      <td>6.08</td>\n",
       "      <td>8.0</td>\n",
       "      <td>5.25</td>\n",
       "    </tr>\n",
       "    <tr>\n",
       "      <th>7</th>\n",
       "      <td>4.0</td>\n",
       "      <td>4.26</td>\n",
       "      <td>4.0</td>\n",
       "      <td>3.10</td>\n",
       "      <td>4.0</td>\n",
       "      <td>5.39</td>\n",
       "      <td>19.0</td>\n",
       "      <td>12.50</td>\n",
       "    </tr>\n",
       "    <tr>\n",
       "      <th>8</th>\n",
       "      <td>12.0</td>\n",
       "      <td>10.84</td>\n",
       "      <td>12.0</td>\n",
       "      <td>9.13</td>\n",
       "      <td>12.0</td>\n",
       "      <td>8.15</td>\n",
       "      <td>8.0</td>\n",
       "      <td>5.56</td>\n",
       "    </tr>\n",
       "    <tr>\n",
       "      <th>9</th>\n",
       "      <td>7.0</td>\n",
       "      <td>4.82</td>\n",
       "      <td>7.0</td>\n",
       "      <td>7.26</td>\n",
       "      <td>7.0</td>\n",
       "      <td>6.42</td>\n",
       "      <td>8.0</td>\n",
       "      <td>7.91</td>\n",
       "    </tr>\n",
       "    <tr>\n",
       "      <th>10</th>\n",
       "      <td>5.0</td>\n",
       "      <td>5.68</td>\n",
       "      <td>5.0</td>\n",
       "      <td>4.74</td>\n",
       "      <td>5.0</td>\n",
       "      <td>5.73</td>\n",
       "      <td>8.0</td>\n",
       "      <td>6.89</td>\n",
       "    </tr>\n",
       "  </tbody>\n",
       "</table>\n",
       "</div>"
      ],
      "text/plain": [
       "     x_1    y_1   x_2   y_2   x_3    y_3   x_4    y_4\n",
       "0   10.0   8.04  10.0  9.14  10.0   7.46   8.0   6.58\n",
       "1    8.0   6.95   8.0  8.14   8.0   6.77   8.0   5.76\n",
       "2   13.0   7.58  13.0  8.74  13.0  12.74   8.0   7.71\n",
       "3    9.0   8.81   9.0  8.77   9.0   7.11   8.0   8.84\n",
       "4   11.0   8.33  11.0  9.26  11.0   7.81   8.0   8.47\n",
       "5   14.0   9.96  14.0  8.10  14.0   8.84   8.0   7.04\n",
       "6    6.0   7.24   6.0  6.13   6.0   6.08   8.0   5.25\n",
       "7    4.0   4.26   4.0  3.10   4.0   5.39  19.0  12.50\n",
       "8   12.0  10.84  12.0  9.13  12.0   8.15   8.0   5.56\n",
       "9    7.0   4.82   7.0  7.26   7.0   6.42   8.0   7.91\n",
       "10   5.0   5.68   5.0  4.74   5.0   5.73   8.0   6.89"
      ]
     },
     "execution_count": 4,
     "metadata": {},
     "output_type": "execute_result"
    }
   ],
   "source": [
    "df = pd.DataFrame([[10.0,8.04,10.0,9.14,10.0,7.46,8.0,6.58] ,\n",
    "                   [8.0,6.95,8.0,8.14,8.0,6.77,8.0,5.76],\n",
    "                   [13.0,7.58,13.0,8.74,13.0,12.74,8.0,7.71],\n",
    "                   [9.0,8.81,9.0,8.77,9.0,7.11,8.0,8.84],\n",
    "                   [11.0,8.33,11.0,9.26,11.0,7.81,8.0,8.47],\n",
    "                   [14.0,9.96,14.0,8.10,14.0,8.84,8.0,7.04],\n",
    "                   [6.0,7.24,6.0,6.13,6.0,6.08,8.0,5.25],\n",
    "                   [4.0,4.26,4.0,3.10,4.0,5.39,19.0,12.50],\n",
    "                   [12.0,10.84,12.0,9.13,12.0,8.15,8.0,5.56],\n",
    "                   [7.0,4.82,7.0,7.26,7.0,6.42,8.0,7.91],\n",
    "                   [5.0,5.68,5.0,4.74,5.0,5.73,8.0,6.89]], \n",
    "                 columns = ['x_1','y_1','x_2','y_2','x_3','y_3','x_4','y_4'])\n",
    "\n",
    "df"
   ]
  },
  {
   "cell_type": "markdown",
   "metadata": {},
   "source": [
    "See what I mean?  Four $x$, $y$ pairs.  Let's graph it.  Create a linear regression for each (don't forget to reshape the $x$'s, because they're 1-dimensional!), and then a scatter plot with the regression line drawn."
   ]
  },
  {
   "cell_type": "code",
   "execution_count": 20,
   "metadata": {
    "collapsed": false
   },
   "outputs": [
    {
     "name": "stdout",
     "output_type": "stream",
     "text": [
      "0.666542459509\n",
      "0.666242033727\n",
      "0.666324041067\n",
      "0.666707256898\n"
     ]
    },
    {
     "data": {
      "image/png": "[encoded data removed]",
      "text/plain": [
       "<matplotlib.figure.Figure at 0x243f33509b0>"
      ]
     },
     "metadata": {},
     "output_type": "display_data"
    }
   ],
   "source": [
    "figure = plt.figure(figsize=(10,8))\n",
    "axs = [figure.add_subplot(2,2,i) for i in range(1,5)]\n",
    "# access your subplot objects as axs[0] for the top left, ax[2] for bottom left, etc.\n",
    "\n",
    "models = [] # holds your four models.  You'll need them later!\n",
    "for i in range(1,5):\n",
    "    # Create a regression:\n",
    "    x = df[\"x_%s\"%i].reshape(-1, 1)\n",
    "    y = df[\"y_%s\"%i]\n",
    "    model = LinearRegression()\n",
    "    model.fit(x,y)\n",
    "    models.append(model)\n",
    "    \n",
    "    # Print out the R^2 of the regression:\n",
    "    print(model.score(x,y))\n",
    "    \n",
    "    m = model.coef_[0]\n",
    "    b = model.intercept_\n",
    "    \n",
    "    # Create a scatter plot with the line added:\n",
    "    axs[i-1].scatter(x,y)\n",
    "    axs[i-1].autoscale(tight=True)\n",
    "    axs[i-1].plot([0,x.max()],[b, b + x.max() * m], c='r', lw=1.0)"
   ]
  },
  {
   "cell_type": "markdown",
   "metadata": {},
   "source": [
    "Describe what you're seeing.  Can you summarize each plot?  Tell me also about the different regression lines.  How similar are they?"
   ]
  },
  {
   "cell_type": "markdown",
   "metadata": {},
   "source": [
    "The first two sets and the second two sets have similar regression lines with each other. All four seem to be strongly effected by outlier data points. Plot one seems to have a linear trend with noise. Plot 2 is parabolic or sinusoidal. Plot 3 is perfectly linear with the exception of one outlier. The last plot seems to almost be binary or it has a bad data point."
   ]
  },
  {
   "cell_type": "markdown",
   "metadata": {},
   "source": [
    "## p-values\n",
    "\n",
    "Let's dive a little bit back into p-values, just so that you know about their existence if you need to validate your models in the future.  If I want to calculate a p-value for a linear regression coefficient (an $m$ or a $b$), then the alternative hypothesis is that the coefficient is non-zero.  So the null hypothesis is that the coefficient is zero.  We'll use a technique called bootstrapping to calculate the p-values.  Fill in the following code.    "
   ]
  },
  {
   "cell_type": "code",
   "execution_count": 21,
   "metadata": {
    "collapsed": false
   },
   "outputs": [],
   "source": [
    "def bootstrap(x, y, N=10000):\n",
    "    \"\"\" Given column x and y, construct N bootstrapped samples of the pairs \n",
    "    (x,y).  That is, create a list of indices of the data, randomly drawn with \n",
    "    replacement, and sample your data with that list of indices.\n",
    "    \"\"\"\n",
    "    for i in range(N):\n",
    "        sample_inds = np.random.choice(len(x),len(x))\n",
    "        yield (x.loc[sample_inds],y.loc[sample_inds])"
   ]
  },
  {
   "cell_type": "markdown",
   "metadata": {},
   "source": [
    "Woah, `yield`?  That's a new one!  It replaces `return`, and it turns a call to `bootstrap` into something which returns a __generator__.  Generators are useful for all kinds of reasons, like for example in our situation where you may not want to store all these objects in memory after you make them (what if I decided to make `N` = 2 trillion?).  You generate each one when you need it.  They're even more useful when you want to create something which would give you a truly infinite list.  You can read more about them [here](https://jeffknupp.com/blog/2013/04/07/improve-your-python-yield-and-generators-explained/), though that blog post is long, and I won't test you on it.  Their basic example is a primes generator: it returns the next prime each time it gets run, and since there are [infinitely many primes](https://primes.utm.edu/notes/proofs/infinite/euclids.html), you couldn't use a list for this, nor a regular function (without some global variables or weird parameters, or turning it into a method of some class; any of these would be less ideal)."
   ]
  },
  {
   "cell_type": "code",
   "execution_count": 31,
   "metadata": {
    "collapsed": false,
    "scrolled": true
   },
   "outputs": [
    {
     "name": "stdout",
     "output_type": "stream",
     "text": [
      "p-value for the coefficients of model 1: p_m = 0.0008, p_b = 0.012\n",
      "p-value for the coefficients of model 2: p_m = 0.007, p_b = 0.0537\n",
      "p-value for the coefficients of model 3: p_m = 0.0025, p_b = 0.0111\n",
      "p-value for the coefficients of model 4: p_m = 0.0, p_b = 0.051\n"
     ]
    }
   ],
   "source": [
    "for i in range(1,5):\n",
    "    df_x, df_y = df['x_' + str(i)], df['y_' + str(i)]\n",
    "    m, b = models[i-1].coef_[0], models[i-1].intercept_\n",
    "    intercepts = []\n",
    "    slopes = []\n",
    "    for x, y in bootstrap(df_x, df_y):\n",
    "        model = LinearRegression()\n",
    "        model.fit(x.reshape(-1,1),y)\n",
    "        # add its slope to slopes and intercept to intercepts.\n",
    "        slopes.append(model.coef_[0])\n",
    "        intercepts.append(model.intercept_)\n",
    "        \n",
    "    mm = mean(slopes)     # The p-values below would otherwise calculate these \n",
    "    mb = mean(intercepts) # each time, which would really slow things down\n",
    "    \n",
    "    # Calculate the p-value.  We subtract the mean because that's exactly the null hypothesis:\n",
    "    # if m or b should be zero, then subtracting its mean shoudn't change it (but it does, because\n",
    "    # the null hypothesis is false here.)  In order to not confuse you on \"which\" mean I was \n",
    "    # talking about, I took the outside one by hand.\n",
    "    p_m = sum([1 if (abs(i - mm)> abs(m)) else 0 for i in slopes])/len(slopes)\n",
    "    p_b = sum([1 if (abs(i - mb)> abs(b)) else 0 for i in intercepts])/len(intercepts)\n",
    "    \n",
    "    print(\"p-value for the coefficients of model {}: p_m = {}, p_b = {}\".format(i, p_m, p_b))"
   ]
  },
  {
   "cell_type": "markdown",
   "metadata": {},
   "source": [
    "What do you take from these?  Are these \"valid\" regressions, _i.e._ should you reject the null hypotheses that the coefficients are zero? Why?"
   ]
  },
  {
   "cell_type": "markdown",
   "metadata": {},
   "source": [
    "Models 1 and 3 can be deemed valid as their p values show statistical signifigance (<0.05); the null hypothesis can be rejected. Models 2 and 4 show that we cannot rule out the null hypothesis as their p values show that there isn't a statistically signifigant correlation in the trend line."
   ]
  },
  {
   "cell_type": "code",
   "execution_count": null,
   "metadata": {
    "collapsed": true
   },
   "outputs": [],
   "source": []
  }
 ],
 "metadata": {
  "anaconda-cloud": {},
  "kernelspec": {
   "display_name": "Python [datamining]",
   "language": "python",
   "name": "Python [datamining]"
  },
  "language_info": {
   "codemirror_mode": {
    "name": "ipython",
    "version": 3
   },
   "file_extension": ".py",
   "mimetype": "text/x-python",
   "name": "python",
   "nbconvert_exporter": "python",
   "pygments_lexer": "ipython3",
   "version": "3.5.2"
  }
 },
 "nbformat": 4,
 "nbformat_minor": 0
}
