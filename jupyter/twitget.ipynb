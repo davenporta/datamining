{
 "cells": [
  {
   "cell_type": "code",
   "execution_count": 2,
   "metadata": {
    "collapsed": true
   },
   "outputs": [],
   "source": [
    "import pprint\n",
    "import tweepy"
   ]
  },
  {
   "cell_type": "code",
   "execution_count": 3,
   "metadata": {
    "collapsed": false
   },
   "outputs": [],
   "source": [
    "with open('twitterauth.txt') as f:\n",
    "    authdata = [line.strip() for line in f]\n",
    "    \n",
    "auth = tweepy.OAuthHandler(authdata[0], authdata[1])\n",
    "auth.set_access_token(authdata[2], authdata[3])\n",
    "\n",
    "api = tweepy.API(auth)\n",
    "\n",
    "target = '332308211321425920'\n",
    "tweet = api.get_status(target)\n",
    "\n",
    "try:\n",
    "    api.create_friendship(tweet.author.screen_name)\n",
    "    tweet.favorite()\n",
    "    tweet.retweet()\n",
    "except:\n",
    "    print('Already done!')"
   ]
  },
  {
   "cell_type": "code",
   "execution_count": 4,
   "metadata": {
    "collapsed": false
   },
   "outputs": [
    {
     "name": "stdout",
     "output_type": "stream",
     "text": [
      "['__class__', '__delattr__', '__dict__', '__dir__', '__doc__', '__eq__', '__format__', '__ge__', '__getattribute__', '__getstate__', '__gt__', '__hash__', '__init__', '__le__', '__lt__', '__module__', '__ne__', '__new__', '__reduce__', '__reduce_ex__', '__repr__', '__setattr__', '__sizeof__', '__str__', '__subclasshook__', '__weakref__', '_api', '_json', 'author', 'contributors', 'coordinates', 'created_at', 'destroy', 'entities', 'favorite', 'favorite_count', 'favorited', 'geo', 'id', 'id_str', 'in_reply_to_screen_name', 'in_reply_to_status_id', 'in_reply_to_status_id_str', 'in_reply_to_user_id', 'in_reply_to_user_id_str', 'is_quote_status', 'lang', 'parse', 'parse_list', 'place', 'retweet', 'retweet_count', 'retweeted', 'retweets', 'source', 'source_url', 'text', 'truncated', 'user']\n"
     ]
    }
   ],
   "source": [
    "print(dir(tweet))"
   ]
  },
  {
   "cell_type": "code",
   "execution_count": 5,
   "metadata": {
    "collapsed": false
   },
   "outputs": [
    {
     "name": "stdout",
     "output_type": "stream",
     "text": [
      "{'author': 'realDonaldTrump',\n",
      " 'favorites': 45496,\n",
      " 'id': '332308211321425920',\n",
      " 'retweets': 49372,\n",
      " 'text': 'Sorry losers and haters, but my I.Q. is one of the highest -and you '\n",
      "         \"all know it! Please don't feel so stupid or insecure,it's not your \"\n",
      "         'fault',\n",
      " 'timestamp': datetime.datetime(2013, 5, 9, 1, 37, 6)}\n"
     ]
    }
   ],
   "source": [
    "useful_data = {'id':tweet.id_str,'text':tweet.text, 'author':tweet.author.screen_name, 'retweets':tweet.retweet_count, 'favorites':tweet.favorite_count, 'timestamp':tweet.created_at}\n",
    "\n",
    "pprint.pprint(useful_data)"
   ]
  },
  {
   "cell_type": "code",
   "execution_count": null,
   "metadata": {
    "collapsed": true
   },
   "outputs": [],
   "source": []
  }
 ],
 "metadata": {
  "anaconda-cloud": {},
  "kernelspec": {
   "display_name": "Python [datamining]",
   "language": "python",
   "name": "Python [datamining]"
  },
  "language_info": {
   "codemirror_mode": {
    "name": "ipython",
    "version": 3
   },
   "file_extension": ".py",
   "mimetype": "text/x-python",
   "name": "python",
   "nbconvert_exporter": "python",
   "pygments_lexer": "ipython3",
   "version": "3.5.2"
  }
 },
 "nbformat": 4,
 "nbformat_minor": 0
}
