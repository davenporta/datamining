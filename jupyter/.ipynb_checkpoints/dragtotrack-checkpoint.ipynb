{
 "cells": [
  {
   "cell_type": "code",
   "execution_count": 1,
   "metadata": {},
   "outputs": [],
   "source": [
    "import numpy as np\n",
    "import cv2\n",
    "\n",
    "rect = (0,0,0,0)\n",
    "startPoint = False\n",
    "endPoint = False\n",
    "status = False\n",
    "def on_mouse(event,x,y,flags,params):\n",
    "    global rect,startPoint,endPoint,status\n",
    "    # get mouse click\n",
    "    if event == cv2.EVENT_LBUTTONDOWN:\n",
    "        if startPoint == True and endPoint == True:\n",
    "            startPoint = False\n",
    "            endPoint = False\n",
    "            rect = (0, 0, 0, 0)\n",
    "            #print(\"new\")\n",
    "            status = False\n",
    "\n",
    "        if startPoint == False:\n",
    "            rect = (x, y, 0, 0)\n",
    "            startPoint = True\n",
    "        elif endPoint == False:\n",
    "            rect = (rect[0], rect[1], x, y)\n",
    "            endPoint = True\n",
    "\n",
    "cap = cv2.VideoCapture(0)\n",
    "waitTime = 10\n",
    "\n",
    "#Reading the first frame\n",
    "(grabbed, frame) = cap.read()\n",
    "\n",
    "while(cap.isOpened()):\n",
    "    (grabbed, frame) = cap.read()\n",
    "    frame = cv2.flip(frame,1)\n",
    "    cv2.namedWindow('frame')\n",
    "    cv2.setMouseCallback('frame', on_mouse)    \n",
    "    #drawing rectangle\n",
    "    if startPoint == True and endPoint == True:\n",
    "        #cv2.rectangle(frame, (rect[0], rect[1]), (rect[2], rect[3]), (255, 0, 255), 2)\n",
    "        if status:\n",
    "            hsv = cv2.cvtColor(frame, cv2.COLOR_BGR2HSV)\n",
    "            dst = cv2.calcBackProject([hsv],[0],roi_hist,[0,180],1)\n",
    "            # apply meanshift to get the new location\n",
    "            ret, track_window = cv2.CamShift(dst, track_window, term_crit)\n",
    "            # Draw it on image\n",
    "            pts = cv2.boxPoints(ret)\n",
    "            pts = np.int0(pts)\n",
    "            cv2.polylines(frame,[pts],True, 255,2)\n",
    "            cv2.imshow('frame',frame)\n",
    "        else:\n",
    "            #print(\"set\")\n",
    "            track_window = (min(rect[0],rect[2]),min(rect[1],rect[3]),np.abs(rect[2]-rect[0]),np.abs(rect[3]-rect[1]))\n",
    "            #print(track_window)\n",
    "            c,r,w,h = track_window\n",
    "            roi = frame[r:r+h, c:c+w]\n",
    "            hsv_roi =  cv2.cvtColor(roi, cv2.COLOR_BGR2HSV)\n",
    "            mask = cv2.inRange(hsv_roi, np.array((0., 60.,32.)), np.array((180.,255.,255.)))\n",
    "            roi_hist = cv2.calcHist([hsv_roi],[0],mask,[180],[0,180])\n",
    "            cv2.normalize(roi_hist,roi_hist,0,255,cv2.NORM_MINMAX)\n",
    "            term_crit = (cv2.TERM_CRITERIA_EPS | cv2.TERM_CRITERIA_COUNT, 10, 1)\n",
    "            status = True\n",
    "    cv2.imshow('frame',frame)\n",
    "    key = cv2.waitKey(waitTime) \n",
    "    if key == 27 or key == ord('q'):\n",
    "        break\n",
    "cap.release()\n",
    "cv2.destroyAllWindows()"
   ]
  },
  {
   "cell_type": "code",
   "execution_count": null,
   "metadata": {
    "collapsed": true
   },
   "outputs": [],
   "source": []
  }
 ],
 "metadata": {
  "kernelspec": {
   "display_name": "Python 3",
   "language": "python",
   "name": "python3"
  },
  "language_info": {
   "codemirror_mode": {
    "name": "ipython",
    "version": 3
   },
   "file_extension": ".py",
   "mimetype": "text/x-python",
   "name": "python",
   "nbconvert_exporter": "python",
   "pygments_lexer": "ipython3",
   "version": "3.7.1"
  }
 },
 "nbformat": 4,
 "nbformat_minor": 2
}
