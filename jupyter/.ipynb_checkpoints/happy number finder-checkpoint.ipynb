{
 "cells": [
  {
   "cell_type": "code",
   "execution_count": 1,
   "metadata": {},
   "outputs": [],
   "source": [
    "n = 10000\n",
    "allopt = list(range(2,n+1))\n",
    "happy = [1]\n",
    "sad = []\n",
    "count = 0\n",
    "while len(allopt) != 0:\n",
    "    count += 1\n",
    "    num = allopt[0]\n",
    "    buffer_list = []\n",
    "    while num not in buffer_list:\n",
    "        buffer_list.append(num)\n",
    "        if num in happy:\n",
    "            num = 1\n",
    "            pass\n",
    "        num = sum([int(i)**2 for i in list(str(num))])\n",
    "    if 1 in buffer_list:\n",
    "        happy += buffer_list\n",
    "    else:\n",
    "        sad += buffer_list\n",
    "    allopt = [x for x in allopt if x not in buffer_list]\n",
    "\n",
    "happy = set(happy)\n",
    "sad = set(sad)"
   ]
  },
  {
   "cell_type": "code",
   "execution_count": 2,
   "metadata": {},
   "outputs": [
    {
     "data": {
      "text/plain": [
       "1442"
      ]
     },
     "execution_count": 2,
     "metadata": {},
     "output_type": "execute_result"
    }
   ],
   "source": [
    "len(happy)"
   ]
  },
  {
   "cell_type": "code",
   "execution_count": null,
   "metadata": {},
   "outputs": [],
   "source": []
  },
  {
   "cell_type": "code",
   "execution_count": null,
   "metadata": {
    "collapsed": true
   },
   "outputs": [],
   "source": []
  }
 ],
 "metadata": {
  "anaconda-cloud": {},
  "kernelspec": {
   "display_name": "Python 3",
   "language": "python",
   "name": "python3"
  },
  "language_info": {
   "codemirror_mode": {
    "name": "ipython",
    "version": 3
   },
   "file_extension": ".py",
   "mimetype": "text/x-python",
   "name": "python",
   "nbconvert_exporter": "python",
   "pygments_lexer": "ipython3",
   "version": "3.7.1"
  }
 },
 "nbformat": 4,
 "nbformat_minor": 1
}
