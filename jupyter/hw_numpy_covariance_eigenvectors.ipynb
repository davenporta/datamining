{
 "cells": [
  {
   "cell_type": "markdown",
   "metadata": {},
   "source": [
    "# Homework: Numpy, Covariance\n",
    "\n",
    "In this assignment, you're primarily just reading, with a small amount of work to do in the end.  This is a basic numpy tutorial.\n",
    "\n",
    "### Extra resources, if you want them (not required reading/viewing)\n",
    "* The [official numpy tutorial](https://docs.scipy.org/doc/numpy-dev/user/quickstart.html)\n",
    "* Jake Vanderplas' book has an [entire chapter on numpy](https://github.com/jakevdp/PythonDataScienceHandbook)\n",
    "* The rest of the [excellent youtube video series on Linear Algebra](https://www.youtube.com/playlist?list=PLZHQObOWTQDPD3MizzM2xVFitgF8hE_ab)"
   ]
  },
  {
   "cell_type": "code",
   "execution_count": 2,
   "metadata": {
    "collapsed": true
   },
   "outputs": [],
   "source": [
    "import numpy as np\n",
    "import pandas as pd"
   ]
  },
  {
   "cell_type": "markdown",
   "metadata": {},
   "source": [
    "The primarily object in numpy is the `array`, which is a fast, multidimensional, single-data-type array:"
   ]
  },
  {
   "cell_type": "code",
   "execution_count": 3,
   "metadata": {
    "collapsed": false
   },
   "outputs": [
    {
     "name": "stdout",
     "output_type": "stream",
     "text": [
      "(3,) (2, 3)\n"
     ]
    }
   ],
   "source": [
    "a = np.array([1, 2, 3])\n",
    "b = np.array([[1,2,3],[4,5,6]])\n",
    "\n",
    "print(a.shape, b.shape)"
   ]
  },
  {
   "cell_type": "markdown",
   "metadata": {},
   "source": [
    "Because they're multidimensional, we can slice them in multiple dimensions:"
   ]
  },
  {
   "cell_type": "code",
   "execution_count": 4,
   "metadata": {
    "collapsed": false
   },
   "outputs": [
    {
     "name": "stdout",
     "output_type": "stream",
     "text": [
      "[[ 1  2  3  4]\n",
      " [ 5  6  7  8]\n",
      " [ 9 10 11 12]]\n",
      "\n",
      "[[2 3]\n",
      " [6 7]]\n"
     ]
    }
   ],
   "source": [
    "# Define a method for printing out arrays with an extra newline at the end, for readability\n",
    "zprint = lambda *x: print(*x, end='\\n\\n')\n",
    "\n",
    "a = np.array([[1,2,3,4], [5,6,7,8], [9,10,11,12]])\n",
    "\n",
    "# Use slicing to pull out the subarray consisting of the first 2 rows\n",
    "# and columns 1 and 2; b is the following array of shape (2, 2):\n",
    "# [[2 3]\n",
    "#  [6 7]]\n",
    "b = a[:2, 1:3]\n",
    "\n",
    "zprint(a)\n",
    "print(b)"
   ]
  },
  {
   "cell_type": "code",
   "execution_count": 5,
   "metadata": {
    "collapsed": false
   },
   "outputs": [
    {
     "name": "stdout",
     "output_type": "stream",
     "text": [
      "[[ 1  2  3  4]\n",
      " [ 5  6  7  8]\n",
      " [ 9 10 11 12]]\n",
      "\n",
      "[5 6 7 8] (4,)\n",
      "\n",
      "[[5 6 7 8]] (1, 4)\n",
      "\n",
      "[ 2  6 10] (3,)\n",
      "\n",
      "[[ 2]\n",
      " [ 6]\n",
      " [10]] (3, 1)\n"
     ]
    }
   ],
   "source": [
    "a = np.array([[1,2,3,4], [5,6,7,8], [9,10,11,12]])\n",
    "zprint(a)\n",
    "\n",
    "# Two ways of accessing the data in the middle row of the array.\n",
    "# Mixing integer indexing with slices yields an array of lower rank,\n",
    "# while using only slices yields an array of the same rank as the\n",
    "# original array:\n",
    "row_r1 = a[1, :]    # Rank 1 view of the second row of a  \n",
    "row_r2 = a[1:2, :]  # Rank 2 view of the second row of a\n",
    "zprint(row_r1, row_r1.shape)  # Prints \"[5 6 7 8] (4,)\"\n",
    "zprint(row_r2, row_r2.shape)  # Prints \"[[5 6 7 8]] (1, 4)\"\n",
    "\n",
    "# We can make the same distinction when accessing columns of an array:\n",
    "col_r1 = a[:, 1]\n",
    "col_r2 = a[:, 1:2]\n",
    "zprint(col_r1, col_r1.shape)  # Prints \"[ 2  6 10] (3,)\"\n",
    "print(col_r2, col_r2.shape)  # Prints \"[[ 2]\n",
    "                            #          [ 6]\n",
    "                            #          [10]] (3, 1)\""
   ]
  },
  {
   "cell_type": "markdown",
   "metadata": {},
   "source": [
    "You can perform basic mathematical operations on arrays"
   ]
  },
  {
   "cell_type": "code",
   "execution_count": 6,
   "metadata": {
    "collapsed": false
   },
   "outputs": [
    {
     "name": "stdout",
     "output_type": "stream",
     "text": [
      "[[1 2]\n",
      " [3 4]]\n",
      "\n",
      "[[5 6]\n",
      " [7 8]]\n",
      "\n",
      "[[ 6  8]\n",
      " [10 12]]\n",
      "\n",
      "[[4 4]\n",
      " [4 4]]\n",
      "\n",
      "[[ 5 12]\n",
      " [21 32]]\n",
      "\n",
      "[[ 5.          3.        ]\n",
      " [ 2.33333333  2.        ]]\n",
      "\n",
      "[[ 1.          1.41421356]\n",
      " [ 1.73205081  2.        ]]\n"
     ]
    }
   ],
   "source": [
    "x = np.array([[1,2],[3,4]])\n",
    "y = np.array([[5,6],[7,8]])\n",
    "\n",
    "zprint(x)\n",
    "zprint(y)\n",
    "zprint(x + y)\n",
    "zprint(y - x)\n",
    "zprint(x * y)\n",
    "zprint(y / x)\n",
    "print(np.sqrt(x))"
   ]
  },
  {
   "cell_type": "markdown",
   "metadata": {},
   "source": [
    "Are these what you expect?  If you're thinking of a numpy array as a matrix, `a * b` gives us the \"wrong\" answer, and `b/a` doesn't really even make sense.  These are _elementwise_ computations!  Keep that in mind."
   ]
  },
  {
   "cell_type": "code",
   "execution_count": 7,
   "metadata": {
    "collapsed": false
   },
   "outputs": [
    {
     "name": "stdout",
     "output_type": "stream",
     "text": [
      "219\n",
      "\n",
      "219\n",
      "\n",
      "[29 67]\n",
      "\n",
      "[29 67]\n",
      "\n",
      "[[19 22]\n",
      " [43 50]]\n",
      "\n",
      "[[19 22]\n",
      " [43 50]]\n"
     ]
    }
   ],
   "source": [
    "v = np.array([9,10])\n",
    "w = np.array([11, 12])\n",
    "\n",
    "# Inner / dot product of vectors; both produce 219\n",
    "zprint(v.dot(w))\n",
    "zprint(np.dot(v, w))\n",
    "\n",
    "# Matrix / vector product; both produce the rank 1 array [29 67]\n",
    "zprint(x.dot(v))\n",
    "zprint(np.dot(x, v))\n",
    "\n",
    "# Matrix / matrix product; both produce the rank 2 array\n",
    "# [[19 22]\n",
    "#  [43 50]]\n",
    "zprint(x.dot(y))\n",
    "print(np.dot(x, y))"
   ]
  },
  {
   "cell_type": "markdown",
   "metadata": {},
   "source": [
    "Recall that the **transpose** of a matrix is the the result of reflecting it on the diagonal:"
   ]
  },
  {
   "cell_type": "code",
   "execution_count": 8,
   "metadata": {
    "collapsed": false
   },
   "outputs": [
    {
     "name": "stdout",
     "output_type": "stream",
     "text": [
      "[[1 2 3]\n",
      " [4 5 6]\n",
      " [7 8 9]]\n",
      "\n",
      "[[1 4 7]\n",
      " [2 5 8]\n",
      " [3 6 9]]\n"
     ]
    }
   ],
   "source": [
    "z = np.array([[1,2,3],[4,5,6],[7,8,9]])\n",
    "\n",
    "zprint(z)\n",
    "print(z.T)"
   ]
  },
  {
   "cell_type": "markdown",
   "metadata": {},
   "source": [
    "Finally, the **determinant** of a matrix is a single-number quantity that has a lot of uses.  It has a nice [geometric interpretation](https://www.youtube.com/watch?v=Ip3X9LOh2dk) (10 minute video, not required watching), and it also has the following property:\n",
    "\n",
    "**If $A$ is a matrix with the property that some non-zero vector $v$ gives the equation $Av = 0$, then $det(A)=0$.**\n",
    "\n",
    "The definition of the determinant is a little clunky, and I won't require you to know it (at least, not for this test).  But that's what computers are for!"
   ]
  },
  {
   "cell_type": "code",
   "execution_count": 9,
   "metadata": {
    "collapsed": false
   },
   "outputs": [
    {
     "name": "stdout",
     "output_type": "stream",
     "text": [
      "Determinants:\n",
      "[[1 2]\n",
      " [3 4]] ---> -2.0\n",
      "\n",
      "[[5 6]\n",
      " [7 8]] ---> -2.0\n",
      "\n",
      "[[1 2 3]\n",
      " [4 5 6]\n",
      " [7 8 9]] ---> -9.51619735393e-16\n",
      "\n"
     ]
    }
   ],
   "source": [
    "print(\"Determinants:\")\n",
    "for s, d in [(s, np.linalg.det(s)) for s in [x, y, z]]:\n",
    "    zprint(s, \"--->\", d)"
   ]
  },
  {
   "cell_type": "markdown",
   "metadata": {},
   "source": [
    "<div style=\"background-color: #EFDDFF; \">\n",
    "\n",
    "<p> Now, it's your turn: **Write a function** that uses the above commands as well as `np.mean` to create, by hand, the covariance matrix of a dataset.  What's that, you might ask.  For now, let's just work with the definition and how to compute (more for practice with numpy than anything else), and tomorrow we'll cover what it is and how it relates to everything else. </p>\n",
    "\n",
    "Given two columns of data (a statistician would call them _random vectors_), the __covariance__ of the pair is a quantity that captures the amount they _vary together_:\n",
    "\n",
    "$$cov(x,y) = \\frac{1}{n}\\sum_{i=1}^n (x_i-\\overline{x})(y_i-\\overline{y})$$\n",
    "\n",
    "Given a dataset, you could consider taking the covariance of every pair of columns, and somehow comparing them.  The most sensible thing to do for storing those covariances would be in a matrix, called the [__covariance matrix__](https://en.wikipedia.org/wiki/Covariance_matrix): \n",
    "\n",
    "$$\\Sigma = \\left(\\begin{array}{cccc}\n",
    "cov(x_1,x_1) & cov(x_1,x_2) & \\dots & cov(x_1,x_n) \\\\\n",
    "cov(x_2,x_1) & cov(x_2,x_2) & \\dots & cov(x_2,x_n) \\\\\n",
    "\\vdots & \\vdots & \\ddots & \\vdots \\\\\n",
    "cov(x_n,x_1) & cov(x_n,x_2) & \\dots & cov(x_n,x_n) \\\\\n",
    "\\end{array}\\right)$$\n",
    "</div>"
   ]
  },
  {
   "cell_type": "code",
   "execution_count": 13,
   "metadata": {
    "collapsed": true
   },
   "outputs": [],
   "source": [
    "# Your code here! (It shouldn't be nearly as scary as it looks! Right a \n",
    "# covariance method, and then use a nested list comprehension or a nested \n",
    "# for loop to build the matrix.)\n",
    "\n",
    "#covariance given two lists\n",
    "def cov(x, y):\n",
    "    return np.mean((x-np.mean(x))*(y-np.mean(y)))\n",
    "\n",
    "#calculate covariance for every pair of columns\n",
    "def covmat(array):\n",
    "    col_count = array.shape[1]\n",
    "    mat = []\n",
    "    for i in range(col_count):\n",
    "        row = []\n",
    "        for j in range(col_count):\n",
    "            covariance = cov(array[:,i], array[:,j])\n",
    "            row.append(covariance)\n",
    "        mat.append(row)\n",
    "    return np.array(mat)"
   ]
  },
  {
   "cell_type": "markdown",
   "metadata": {},
   "source": [
    "<div style=\"background-color: #EFDDFF; \">\n",
    "After writing the method, **first** test it out on the following matrix. Don't worry about the strange keyword arguments to `np.cov`, it makes different assumptions about the dataset than we do.\n",
    "</div>"
   ]
  },
  {
   "cell_type": "code",
   "execution_count": 14,
   "metadata": {
    "collapsed": false,
    "scrolled": true
   },
   "outputs": [
    {
     "name": "stdout",
     "output_type": "stream",
     "text": [
      "Original matrix:\n",
      "[[  0   5 -10]\n",
      " [  6  -1   2]\n",
      " [  0   5   5]]\n",
      "\n",
      "Its covariance matrix:\n",
      "[[  8.  -8.   6.]\n",
      " [ -8.   8.  -6.]\n",
      " [  6.  -6.  42.]]\n"
     ]
    }
   ],
   "source": [
    "np.random.seed(seed=1863)\n",
    "x = np.random.randint(-10, 10, size=(3,3))\n",
    "print(\"Original matrix:\", x #you had x.T here for some reason\n",
    "      , '', \"Its covariance matrix:\", np.cov(x, rowvar=False, bias=1), sep='\\n')"
   ]
  },
  {
   "cell_type": "code",
   "execution_count": 15,
   "metadata": {
    "collapsed": false
   },
   "outputs": [
    {
     "data": {
      "text/plain": [
       "array([[  8.,  -8.,   6.],\n",
       "       [ -8.,   8.,  -6.],\n",
       "       [  6.,  -6.,  42.]])"
      ]
     },
     "execution_count": 15,
     "metadata": {},
     "output_type": "execute_result"
    }
   ],
   "source": [
    "#test function\n",
    "covmat(x)"
   ]
  },
  {
   "cell_type": "markdown",
   "metadata": {},
   "source": [
    "<div style=\"background-color: #EFDDFF; \">\n",
    "**Second**, compute the covariance matrix for [this dataset](https://vincentarelbundock.github.io/Rdatasets/csv/datasets/mtcars.csv), which is [explained here](https://vincentarelbundock.github.io/Rdatasets/doc/datasets/mtcars.html).  To do this into numpy, the fastest way is to go through Pandas to read the csv, then take `df.values` on the dataframe that you get.\n",
    "</div>"
   ]
  },
  {
   "cell_type": "code",
   "execution_count": 16,
   "metadata": {
    "collapsed": false,
    "scrolled": true
   },
   "outputs": [
    {
     "data": {
      "text/plain": [
       "array([[  3.51889746e+01,  -8.88574219e+00,  -6.13312920e+02,\n",
       "         -3.10709180e+02,   2.12646777e+00,  -4.95678828e+00,\n",
       "          4.36823828e+00,   1.95410156e+00,   1.74755859e+00,\n",
       "          2.06894531e+00,  -5.19550781e+00],\n",
       "       [ -8.88574219e+00,   3.08984375e+00,   1.93420898e+02,\n",
       "          9.87460938e+01,  -6.47480469e-01,   1.32464063e+00,\n",
       "         -1.82789062e+00,  -7.07031250e-01,  -4.51171875e-01,\n",
       "         -6.28906250e-01,   1.47265625e+00],\n",
       "       [ -6.13312920e+02,   1.93420898e+02,   1.48807748e+04,\n",
       "          6.51112246e+03,  -4.55932686e+01,   1.04319073e+02,\n",
       "         -9.30500664e+01,  -4.29908203e+01,  -3.54213867e+01,\n",
       "         -4.92150391e+01,   7.65978516e+01],\n",
       "       [ -3.10709180e+02,   9.87460938e+01,   6.51112246e+03,\n",
       "          4.55396484e+03,  -1.59370117e+01,   4.28116406e+01,\n",
       "         -8.40585156e+01,  -2.42070312e+01,  -8.06054688e+00,\n",
       "         -6.16015625e+00,   8.04414062e+01],\n",
       "       [  2.12646777e+00,  -6.47480469e-01,  -4.55932686e+01,\n",
       "         -1.59370117e+01,   2.76947559e-01,  -3.61073203e-01,\n",
       "          8.44175781e-02,   1.14941406e-01,   1.84208984e-01,\n",
       "          2.67363281e-01,  -7.59570313e-02],\n",
       "       [ -4.95678828e+00,   1.32464063e+00,   1.04319073e+02,\n",
       "          4.28116406e+01,  -3.61073203e-01,   9.27460875e-01,\n",
       "         -2.95935312e-01,  -2.65109375e-01,  -3.27539062e-01,\n",
       "         -4.07921875e-01,   6.54671875e-01],\n",
       "       [  4.36823828e+00,  -1.82789062e+00,  -9.30500664e+01,\n",
       "         -8.40585156e+01,   8.44175781e-02,  -2.95935312e-01,\n",
       "          3.09337969e+00,   6.49609375e-01,  -1.98554688e-01,\n",
       "         -2.71640625e-01,  -1.83492187e+00],\n",
       "       [  1.95410156e+00,  -7.07031250e-01,  -4.29908203e+01,\n",
       "         -2.42070312e+01,   1.14941406e-01,  -2.65109375e-01,\n",
       "          6.49609375e-01,   2.46093750e-01,   4.10156250e-02,\n",
       "          7.42187500e-02,  -4.49218750e-01],\n",
       "       [  1.74755859e+00,  -4.51171875e-01,  -3.54213867e+01,\n",
       "         -8.06054688e+00,   1.84208984e-01,  -3.27539062e-01,\n",
       "         -1.98554688e-01,   4.10156250e-02,   2.41210938e-01,\n",
       "          2.83203125e-01,   4.49218750e-02],\n",
       "       [  2.06894531e+00,  -6.28906250e-01,  -4.92150391e+01,\n",
       "         -6.16015625e+00,   2.67363281e-01,  -4.07921875e-01,\n",
       "         -2.71640625e-01,   7.42187500e-02,   2.83203125e-01,\n",
       "          5.27343750e-01,   3.16406250e-01],\n",
       "       [ -5.19550781e+00,   1.47265625e+00,   7.65978516e+01,\n",
       "          8.04414062e+01,  -7.59570313e-02,   6.54671875e-01,\n",
       "         -1.83492187e+00,  -4.49218750e-01,   4.49218750e-02,\n",
       "          3.16406250e-01,   2.52734375e+00]])"
      ]
     },
     "execution_count": 16,
     "metadata": {},
     "output_type": "execute_result"
    }
   ],
   "source": [
    "#load dataframe from csv and run function\n",
    "df = pd.read_csv(\"data/mtcars.csv\", index_col=0)\n",
    "covmat(df.values)"
   ]
  },
  {
   "cell_type": "code",
   "execution_count": 70,
   "metadata": {
    "collapsed": false,
    "scrolled": true
   },
   "outputs": [
    {
     "data": {
      "text/plain": [
       "array([[  3.51889746e+01,  -8.88574219e+00,  -6.13312920e+02,\n",
       "         -3.10709180e+02,   2.12646777e+00,  -4.95678828e+00,\n",
       "          4.36823828e+00,   1.95410156e+00,   1.74755859e+00,\n",
       "          2.06894531e+00,  -5.19550781e+00],\n",
       "       [ -8.88574219e+00,   3.08984375e+00,   1.93420898e+02,\n",
       "          9.87460938e+01,  -6.47480469e-01,   1.32464063e+00,\n",
       "         -1.82789062e+00,  -7.07031250e-01,  -4.51171875e-01,\n",
       "         -6.28906250e-01,   1.47265625e+00],\n",
       "       [ -6.13312920e+02,   1.93420898e+02,   1.48807748e+04,\n",
       "          6.51112246e+03,  -4.55932686e+01,   1.04319073e+02,\n",
       "         -9.30500664e+01,  -4.29908203e+01,  -3.54213867e+01,\n",
       "         -4.92150391e+01,   7.65978516e+01],\n",
       "       [ -3.10709180e+02,   9.87460938e+01,   6.51112246e+03,\n",
       "          4.55396484e+03,  -1.59370117e+01,   4.28116406e+01,\n",
       "         -8.40585156e+01,  -2.42070312e+01,  -8.06054688e+00,\n",
       "         -6.16015625e+00,   8.04414062e+01],\n",
       "       [  2.12646777e+00,  -6.47480469e-01,  -4.55932686e+01,\n",
       "         -1.59370117e+01,   2.76947559e-01,  -3.61073203e-01,\n",
       "          8.44175781e-02,   1.14941406e-01,   1.84208984e-01,\n",
       "          2.67363281e-01,  -7.59570312e-02],\n",
       "       [ -4.95678828e+00,   1.32464063e+00,   1.04319073e+02,\n",
       "          4.28116406e+01,  -3.61073203e-01,   9.27460875e-01,\n",
       "         -2.95935312e-01,  -2.65109375e-01,  -3.27539062e-01,\n",
       "         -4.07921875e-01,   6.54671875e-01],\n",
       "       [  4.36823828e+00,  -1.82789062e+00,  -9.30500664e+01,\n",
       "         -8.40585156e+01,   8.44175781e-02,  -2.95935312e-01,\n",
       "          3.09337969e+00,   6.49609375e-01,  -1.98554688e-01,\n",
       "         -2.71640625e-01,  -1.83492187e+00],\n",
       "       [  1.95410156e+00,  -7.07031250e-01,  -4.29908203e+01,\n",
       "         -2.42070312e+01,   1.14941406e-01,  -2.65109375e-01,\n",
       "          6.49609375e-01,   2.46093750e-01,   4.10156250e-02,\n",
       "          7.42187500e-02,  -4.49218750e-01],\n",
       "       [  1.74755859e+00,  -4.51171875e-01,  -3.54213867e+01,\n",
       "         -8.06054688e+00,   1.84208984e-01,  -3.27539062e-01,\n",
       "         -1.98554688e-01,   4.10156250e-02,   2.41210938e-01,\n",
       "          2.83203125e-01,   4.49218750e-02],\n",
       "       [  2.06894531e+00,  -6.28906250e-01,  -4.92150391e+01,\n",
       "         -6.16015625e+00,   2.67363281e-01,  -4.07921875e-01,\n",
       "         -2.71640625e-01,   7.42187500e-02,   2.83203125e-01,\n",
       "          5.27343750e-01,   3.16406250e-01],\n",
       "       [ -5.19550781e+00,   1.47265625e+00,   7.65978516e+01,\n",
       "          8.04414062e+01,  -7.59570312e-02,   6.54671875e-01,\n",
       "         -1.83492187e+00,  -4.49218750e-01,   4.49218750e-02,\n",
       "          3.16406250e-01,   2.52734375e+00]])"
      ]
     },
     "execution_count": 70,
     "metadata": {},
     "output_type": "execute_result"
    }
   ],
   "source": [
    "#check against numpy\n",
    "np.cov(df.values, rowvar=False, bias=1)"
   ]
  },
  {
   "cell_type": "code",
   "execution_count": 17,
   "metadata": {
    "collapsed": false
   },
   "outputs": [
    {
     "name": "stdout",
     "output_type": "stream",
     "text": [
      "1863\n",
      "\n",
      "[[  0   5 -10]\n",
      " [  6  -1   2]\n",
      " [  0   5   5]]\n",
      "\n",
      "[[  8.  -8.   6.]\n",
      " [ -8.   8.  -6.]\n",
      " [  6.  -6.  42.]]\n"
     ]
    }
   ],
   "source": [
    "# Just for your learning purposes, here's how I found a 3x3 integer-valued matrix \n",
    "# with an integer-valued covariance matrix:\n",
    "\n",
    "for i in range(100000):\n",
    "    if i == 883:\n",
    "        # This one is trivial\n",
    "        continue\n",
    "    np.random.seed(seed=i)\n",
    "    x = np.random.randint(-10, 10, size=(3,3))\n",
    "    cov = np.cov(x, rowvar=False, bias=1)\n",
    "    if (cov.round() == cov).all():\n",
    "        print(i, x, cov, sep='\\n\\n')\n",
    "        break"
   ]
  },
  {
   "cell_type": "code",
   "execution_count": null,
   "metadata": {
    "collapsed": true
   },
   "outputs": [],
   "source": []
  }
 ],
 "metadata": {
  "anaconda-cloud": {},
  "kernelspec": {
   "display_name": "Python [datamining]",
   "language": "python",
   "name": "Python [datamining]"
  },
  "language_info": {
   "codemirror_mode": {
    "name": "ipython",
    "version": 3
   },
   "file_extension": ".py",
   "mimetype": "text/x-python",
   "name": "python",
   "nbconvert_exporter": "python",
   "pygments_lexer": "ipython3",
   "version": "3.5.2"
  }
 },
 "nbformat": 4,
 "nbformat_minor": 0
}
