{
 "cells": [
  {
   "cell_type": "markdown",
   "metadata": {},
   "source": [
    "# Reinforcement Learning and Robotics - HW Assignment\n",
    "## Group members: Gherado Morona, Nhat Pham, George Reichenbach, Alexander Davenport\n",
    "\n",
    "\n",
    "## Reading:\n",
    "Read the following page: https://github.com/farizrahman4u/qlearning4k. Don't read the Keras implementation, rather read the short section that starts with `Reinforcement Learning 101`. It should give you a clear walkthrough of the conceptual side about how the q-learning algorithm works with neural networks."
   ]
  },
  {
   "cell_type": "markdown",
   "metadata": {},
   "source": [
    "Also look at this gif:"
   ]
  },
  {
   "cell_type": "markdown",
   "metadata": {},
   "source": [
    " <img src=\"http://www.cs.princeton.edu/~andyz/img/proj/ai/pacmanRL/qlearning.gif\" width=\"400\">"
   ]
  },
  {
   "cell_type": "markdown",
   "metadata": {},
   "source": [
    "What you can see above is a typical application of q-learning for maze-solving. In this case, each triangle represents an action (e.g. upside down triangle is a movement up) and the number inside of the triangle is the q-value (or in other words the reward it would achieve by doing that move). That q-value is constantly updated."
   ]
  },
  {
   "cell_type": "markdown",
   "metadata": {},
   "source": [
    "## Use of Reinforcement Learning in Robotics?\n",
    "* Coding robots that are supposed to deal the complexities of our real world (gravity, unexpected obstacles, complex objects to deal with, etc.) is very tedious. It requires to deal with motors, sensors, and other devices that require a lot of data.\n",
    "* Robots, to be successful, need to be able to adapt to various environments, as they are rarely restricted to a single one. Reinforcement Learning allows robots to continuously adapat to new situations."
   ]
  },
  {
   "cell_type": "markdown",
   "metadata": {},
   "source": [
    "## Questions:\n",
    "* How does reinforcement learning differ from the kind of machine learning we know? For example, what are some tasks that is more natural to do with reinfocement learning? Where do the training data come from? How does the machine decide what to do and what not to do?\n",
    "* What are the problems of Q-Learning? Is there anyway we can get around them?"
   ]
  },
  {
   "cell_type": "markdown",
   "metadata": {},
   "source": [
    "## Responses\n",
    "It's trained in realtime continuously as opposed to all at once from a single data set. Training a robot makes more sense to do with reinforcement learning because it allows it to adapt and respond to the environment or outliers that may arise. The training set is created incrementally, taking in the state and action, calculating a reward. The Q function determines which action given the current state will produce the greatest reward. A big problem is catastrophic forgetting. If the agent encounters an edge case early on it can take an excessive amount of time to recover from a single occurence. If a buffer is used and multiple cases are fed at once the noise can be reduced."
   ]
  },
  {
   "cell_type": "code",
   "execution_count": null,
   "metadata": {
    "collapsed": true
   },
   "outputs": [],
   "source": []
  }
 ],
 "metadata": {
  "anaconda-cloud": {},
  "kernelspec": {
   "display_name": "Python [datamining]",
   "language": "python",
   "name": "Python [datamining]"
  },
  "language_info": {
   "codemirror_mode": {
    "name": "ipython",
    "version": 3
   },
   "file_extension": ".py",
   "mimetype": "text/x-python",
   "name": "python",
   "nbconvert_exporter": "python",
   "pygments_lexer": "ipython3",
   "version": "3.5.2"
  }
 },
 "nbformat": 4,
 "nbformat_minor": 0
}
