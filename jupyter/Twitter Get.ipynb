{
 "cells": [
  {
   "cell_type": "code",
   "execution_count": 1,
   "metadata": {
    "collapsed": true
   },
   "outputs": [],
   "source": [
    "import requests"
   ]
  },
  {
   "cell_type": "code",
   "execution_count": 18,
   "metadata": {
    "collapsed": false
   },
   "outputs": [],
   "source": [
    "encoded_key = \"NTg0Q3JBSmlpempDd2Y5UUlSUzg2aEZvdzo2Wk1IT2tzRngwMVozRk91aGh5bXNQVFFXbjdOazEwYng2QlZuZTZYaGFYbFQ2Z25DbQ==\"\n",
    "authurl = \"https://api.twitter.com/oauth2/token\"\n",
    "headers = {'Authorization':\"Basic \"+encoded_key, \"Content-Type\":\"application/x-www-form-urlencoded;charset=UTF-8\"}\n",
    "params = {'grant_type':'client_credentials'}"
   ]
  },
  {
   "cell_type": "code",
   "execution_count": 20,
   "metadata": {
    "collapsed": false
   },
   "outputs": [],
   "source": [
    "def get_token():\n",
    "    auth = requests.post(authurl, data=params, headers=headers)\n",
    "    return auth.json()['access_token']"
   ]
  },
  {
   "cell_type": "code",
   "execution_count": 21,
   "metadata": {
    "collapsed": false
   },
   "outputs": [
    {
     "data": {
      "text/plain": [
       "'AAAAAAAAAAAAAAAAAAAAAOagxQAAAAAAseGRDH5tCYjPRNM0mpFN8mFlMr8%3DzAoAIiOk2W1kyohKbJhC8i59WXbqeIb2sX8ePOwHQ0OtsPgTmK'"
      ]
     },
     "execution_count": 21,
     "metadata": {},
     "output_type": "execute_result"
    }
   ],
   "source": [
    "get_token()"
   ]
  },
  {
   "cell_type": "code",
   "execution_count": null,
   "metadata": {
    "collapsed": true
   },
   "outputs": [],
   "source": []
  }
 ],
 "metadata": {
  "kernelspec": {
   "display_name": "Python [datamining]",
   "language": "python",
   "name": "Python [datamining]"
  },
  "language_info": {
   "codemirror_mode": {
    "name": "ipython",
    "version": 3
   },
   "file_extension": ".py",
   "mimetype": "text/x-python",
   "name": "python",
   "nbconvert_exporter": "python",
   "pygments_lexer": "ipython3",
   "version": "3.5.2"
  }
 },
 "nbformat": 4,
 "nbformat_minor": 0
}
