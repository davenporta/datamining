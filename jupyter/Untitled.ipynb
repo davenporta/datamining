{
 "cells": [
  {
   "cell_type": "markdown",
   "metadata": {},
   "source": [
    "# Alex's Test Notebook\n",
    "Within lies various experiments and projects. This is a space to test code on the fly and play with stuff and things."
   ]
  },
  {
   "cell_type": "code",
   "execution_count": 1,
   "metadata": {
    "collapsed": false
   },
   "outputs": [],
   "source": [
    "import tensorflow as tf\n",
    "import numpy as np\n",
    "import PIL.Image\n",
    "from io import BytesIO\n",
    "from IPython.display import Image, display\n",
    "import cv2\n",
    "import time\n",
    "import re\n",
    "from collections import Counter"
   ]
  },
  {
   "cell_type": "code",
   "execution_count": null,
   "metadata": {
    "collapsed": false
   },
   "outputs": [],
   "source": [
    "def DisplayFractal(a, fmt='jpeg'):\n",
    "  \"\"\"Display an array of iteration counts as a\n",
    "     colorful picture of a fractal.\"\"\"\n",
    "  a_cyclic = (6.28*a/20.0).reshape(list(a.shape)+[1])\n",
    "  img = np.concatenate([10+20*np.cos(a_cyclic),\n",
    "                        30+50*np.sin(a_cyclic),\n",
    "                        155-80*np.cos(a_cyclic)], 2)\n",
    "  img[a==a.max()] = 0\n",
    "  a = img\n",
    "  a = np.uint8(np.clip(a, 0, 255))\n",
    "  f = BytesIO()\n",
    "  PIL.Image.fromarray(a).save(f, fmt)\n",
    "  display(Image(data=f.getvalue()))\n",
    "\n",
    "sess = tf.InteractiveSession()\n",
    "\n",
    "# Use NumPy to create a 2D array of complex numbers\n",
    "Y, X = np.mgrid[-1.3:1.3:0.005, -2:1:0.005]\n",
    "Z = X+1j*Y\n",
    "\n",
    "xs = tf.constant(Z.astype(np.complex64))\n",
    "zs = tf.Variable(xs)\n",
    "ns = tf.Variable(tf.zeros_like(xs, tf.float32))\n",
    "\n",
    "tf.global_variables_initializer().run()\n",
    "\n",
    "# Compute the new values of z: z^2 + x\n",
    "zs_ = zs*zs + xs\n",
    "\n",
    "# Have we diverged with this new value?\n",
    "not_diverged = tf.abs(zs_) < 4\n",
    "\n",
    "# Operation to update the zs and the iteration count.\n",
    "#\n",
    "# Note: We keep computing zs after they diverge! This\n",
    "#       is very wasteful! There are better, if a little\n",
    "#       less simple, ways to do this.\n",
    "#\n",
    "step = tf.group(\n",
    "  zs.assign(zs_),\n",
    "  ns.assign_add(tf.cast(not_diverged, tf.float32))\n",
    "  )\n",
    "\n",
    "for i in range(1000): \n",
    "    step.run()\n",
    "\n",
    "DisplayFractal(ns.eval())"
   ]
  },
  {
   "cell_type": "code",
   "execution_count": 5,
   "metadata": {
    "collapsed": false
   },
   "outputs": [
    {
     "data": {
      "text/plain": [
       "'671422091632103965497663578811235974322835963177842/2280250319867037997421842330085227917956272625811455'"
      ]
     },
     "execution_count": 5,
     "metadata": {},
     "output_type": "execute_result"
    }
   ],
   "source": [
    "def f(phrase): \n",
    "  return str(int(phrase,36)) + \"/\" + str(36**len(phrase)-1)\n",
    "\n",
    "f(\"allworkandnoplaymakesjackadullboy\")"
   ]
  },
  {
   "cell_type": "code",
   "execution_count": null,
   "metadata": {
    "collapsed": false
   },
   "outputs": [],
   "source": [
    "faceCascade = cv2.CascadeClassifier('C:\\\\opencv\\\\data\\\\haarcascades\\\\haarcascade_frontalface_default.xml')\n",
    "eyeCascade = cv2.CascadeClassifier('C:\\\\opencv\\\\data\\\\haarcascades\\\\haarcascade_righteye_2splits.xml')\n",
    "\n",
    "video_capture = cv2.VideoCapture(0)\n",
    "time.sleep(5)\n",
    "ret, frame = video_capture.read()\n",
    "\n",
    "while ret:\n",
    "    # Capture frame-by-frame\n",
    "    ret, frame = video_capture.read()\n",
    "    gray = cv2.cvtColor(frame, 0)\n",
    "    \n",
    "    #flags=cv2.CASCADE_SCALE_IMAGE\n",
    "    faces = faceCascade.detectMultiScale(gray,scaleFactor=1.3,minNeighbors=5,minSize=(30, 30))\n",
    "\n",
    "    # Draw a rectangle around the faces\n",
    "    for (x, y, w, h) in faces:\n",
    "        cv2.rectangle(frame,(x, y),(x+w, y+h),(0, 255, 0),2)\n",
    "        roi_gray = gray[y:y+h, x:x+w]\n",
    "        roi_color = frame[y:y+h, x:x+w]\n",
    "        eyes = eyeCascade.detectMultiScale(roi_gray,minNeighbors=6,minSize=(30, 30),scaleFactor=1.1)\n",
    "        for (ex,ey,ew,eh) in eyes:\n",
    "            cv2.rectangle(roi_color,(ex,ey),(ex+ew,ey+eh),(255,0,0),2)\n",
    "\n",
    "    # Display the resulting frame\n",
    "    cv2.imshow('Video', cv2.flip(frame,1))\n",
    "\n",
    "    if cv2.waitKey(1) & 0xFF == ord('q'):\n",
    "        break\n",
    "\n",
    "# When everything is done, release the capture\n",
    "video_capture.release()\n",
    "cv2.destroyAllWindows()"
   ]
  },
  {
   "cell_type": "code",
   "execution_count": null,
   "metadata": {
    "collapsed": false
   },
   "outputs": [],
   "source": []
  },
  {
   "cell_type": "code",
   "execution_count": 54,
   "metadata": {
    "collapsed": false,
    "scrolled": false
   },
   "outputs": [
    {
     "name": "stdout",
     "output_type": "stream",
     "text": [
      "[2, 0, 0, 0, 0, 0, 0, 1, 0, 0, 0, 0, 0, 0, 2, 0, 1, 3, 1, 0, 0, 1, 1, 1, 1, 1, 0, 1, 0, 0, 1, 0, 2, 0, 1, 1, 1, 1, 0, 2, 0, 0, 0, 0, 0, 1, 1, 2, 1, 0, 0, 0, 2, 0, 1, 1, 2, 1, 0, 0]\n",
      "17\n"
     ]
    }
   ],
   "source": [
    "para = \"A hash table has sixty entries (buckets). Design and test a hash function for English words such that all the different words from this paragraph are hashed into the table with no more than four collisions. Do not call any hashCode methods.\"\n",
    "\n",
    "words = set(re.sub(r'\\W+', ' ', para.lower()).split())\n",
    "\n",
    "def conv(char):\n",
    "    return ord(char)-97\n",
    "\n",
    "hashes = [0]*60\n",
    "\n",
    "for word in words:\n",
    "    h = sum([conv(c) for c in word]) % 60\n",
    "    hashes[h] += 1\n",
    "    #print(h,word)\n",
    "    \n",
    "\n",
    "print(hashes)\n",
    "col  = [x for x in hashes if x > 1]\n",
    "#print(col)\n",
    "print(sum(col))"
   ]
  },
  {
   "cell_type": "code",
   "execution_count": 52,
   "metadata": {
    "collapsed": false
   },
   "outputs": [
    {
     "data": {
      "text/plain": [
       "24"
      ]
     },
     "execution_count": 52,
     "metadata": {},
     "output_type": "execute_result"
    }
   ],
   "source": [
    "24 % 60"
   ]
  },
  {
   "cell_type": "code",
   "execution_count": 15,
   "metadata": {
    "collapsed": false
   },
   "outputs": [
    {
     "data": {
      "text/plain": [
       "[('MIT', 6),\n",
       " ('Stanford', 4),\n",
       " ('Princeton', 3),\n",
       " ('Harvey Mudd', 2),\n",
       " ('Berkeley', 2),\n",
       " ('Harvard', 2),\n",
       " ('Yale', 2),\n",
       " ('Tufts', 1),\n",
       " ('Michigan', 1),\n",
       " ('Caltech', 1),\n",
       " ('Duke', 1),\n",
       " ('Cornell', 1)]"
      ]
     },
     "execution_count": 15,
     "metadata": {},
     "output_type": "execute_result"
    }
   ],
   "source": [
    "ssplist = \"\"\"Harvey Mudd\n",
    "Berkeley\n",
    "Princeton\n",
    "Tufts\n",
    "Michigan\n",
    "Harvey Mudd\n",
    "Stanford\n",
    "Harvard\n",
    "Yale\n",
    "MIT\n",
    "Princeton\n",
    "Caltech\n",
    "MIT\n",
    "Duke\n",
    "Cornell\n",
    "Harvard\n",
    "MIT\n",
    "MIT\n",
    "Princeton\n",
    "Stanford\n",
    "Stanford\n",
    "Yale\n",
    "Stanford\n",
    "Berkeley\n",
    "MIT\n",
    "MIT\"\"\"\n",
    "parsed = ssplist.split(\"\\n\")\n",
    "Counter(parsed).most_common()"
   ]
  },
  {
   "cell_type": "code",
   "execution_count": 16,
   "metadata": {
    "collapsed": false
   },
   "outputs": [
    {
     "data": {
      "text/plain": [
       "26"
      ]
     },
     "execution_count": 16,
     "metadata": {},
     "output_type": "execute_result"
    }
   ],
   "source": [
    "len(parsed)"
   ]
  },
  {
   "cell_type": "code",
   "execution_count": 1,
   "metadata": {
    "collapsed": false
   },
   "outputs": [
    {
     "data": {
      "text/plain": [
       "[1, 1, 1, 2, 2, 2]"
      ]
     },
     "execution_count": 1,
     "metadata": {},
     "output_type": "execute_result"
    }
   ],
   "source": [
    "([1]*3)+([2]*3)"
   ]
  },
  {
   "cell_type": "code",
   "execution_count": 1,
   "metadata": {
    "collapsed": false
   },
   "outputs": [
    {
     "data": {
      "text/plain": [
       "83"
      ]
     },
     "execution_count": 1,
     "metadata": {},
     "output_type": "execute_result"
    }
   ],
   "source": [
    "list = [3,26,9,62,12,83,45,18]\n",
    "max(list)"
   ]
  },
  {
   "cell_type": "code",
   "execution_count": null,
   "metadata": {
    "collapsed": true
   },
   "outputs": [],
   "source": []
  }
 ],
 "metadata": {
  "anaconda-cloud": {},
  "kernelspec": {
   "display_name": "Python [python36]",
   "language": "python",
   "name": "Python [python36]"
  },
  "language_info": {
   "codemirror_mode": {
    "name": "ipython",
    "version": 3
   },
   "file_extension": ".py",
   "mimetype": "text/x-python",
   "name": "python",
   "nbconvert_exporter": "python",
   "pygments_lexer": "ipython3",
   "version": "3.6.1"
  }
 },
 "nbformat": 4,
 "nbformat_minor": 0
}
