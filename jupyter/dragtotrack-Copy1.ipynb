{
 "cells": [
  {
   "cell_type": "code",
   "execution_count": 2,
   "metadata": {
    "collapsed": false
   },
   "outputs": [],
   "source": []
  },
  {
   "cell_type": "code",
   "execution_count": null,
   "metadata": {
    "collapsed": false
   },
   "outputs": [],
   "source": [
    "import numpy as np\n",
    "import cv2\n",
    "\n",
    "rect = (0,0,0,0)\n",
    "startPoint = False\n",
    "endPoint = False\n",
    "status = False\n",
    "def on_mouse(event,x,y,flags,params):\n",
    "    global rect,startPoint,endPoint,status\n",
    "    # get mouse click\n",
    "    if event == cv2.EVENT_LBUTTONDOWN:\n",
    "        if startPoint == True and endPoint == True:\n",
    "            startPoint = False\n",
    "            endPoint = False\n",
    "            rect = (0, 0, 0, 0)\n",
    "            #print(\"new\")\n",
    "            status = False\n",
    "\n",
    "        if startPoint == False:\n",
    "            rect = (x, y, 0, 0)\n",
    "            startPoint = True\n",
    "        elif endPoint == False:\n",
    "            rect = (rect[0], rect[1], x, y)\n",
    "            endPoint = True\n",
    "\n",
    "tracker = cv2.Tracker_create(\"MIL\")\n",
    "\n",
    "cap = cv2.VideoCapture(0)\n",
    "waitTime = 10\n",
    "\n",
    "#Reading the first frame\n",
    "(ok, frame) = cap.read()\n",
    "\n",
    "while(cap.isOpened()):\n",
    "    ok, frame = cap.read()\n",
    "    frame = cv2.flip(frame,1)\n",
    "    cv2.namedWindow('frame')\n",
    "    cv2.setMouseCallback('frame', on_mouse)    \n",
    "    #drawing rectangle\n",
    "    if startPoint == True and endPoint == True:\n",
    "        if status:\n",
    "            # Update tracker\n",
    "            ok, bbox = tracker.update(frame)\n",
    " \n",
    "            # Draw bounding box\n",
    "            if ok:\n",
    "                p1 = (int(bbox[0]), int(bbox[1]))\n",
    "                p2 = (int(bbox[0] + bbox[2]), int(bbox[1] + bbox[3]))\n",
    "                cv2.rectangle(frame, p1, p2, (0,0,255))\n",
    "        else:\n",
    "            bbox = (rect[0],rect[1],rect[2]-rect[0],rect[3]-rect[1])\n",
    "            ok = tracker.init(frame, bbox)\n",
    "            status = True\n",
    "        \n",
    "    cv2.imshow('frame',frame)\n",
    "    key = cv2.waitKey(waitTime) \n",
    "    if key == 27 or key == ord('q'):\n",
    "        break\n",
    "cap.release()\n",
    "cv2.destroyAllWindows()"
   ]
  },
  {
   "cell_type": "code",
   "execution_count": null,
   "metadata": {
    "collapsed": true
   },
   "outputs": [],
   "source": []
  }
 ],
 "metadata": {
  "kernelspec": {
   "display_name": "Python [python36]",
   "language": "python",
   "name": "Python [python36]"
  }
 },
 "nbformat": 4,
 "nbformat_minor": 2
}
