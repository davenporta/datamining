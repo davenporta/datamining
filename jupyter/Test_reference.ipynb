{
 "cells": [
  {
   "cell_type": "markdown",
   "metadata": {},
   "source": [
    "# Reference code for Data Mining Exam\n",
    "\n",
    "Warning: none of this code is runnable in its current form.  It only exists to jog your memory or save you time.\n",
    "\n",
    "### Import statements"
   ]
  },
  {
   "cell_type": "code",
   "execution_count": 1,
   "metadata": {
    "collapsed": false
   },
   "outputs": [],
   "source": [
    "from itertools import combinations, chain\n",
    "from statistics import mean, median\n",
    "\n",
    "import numpy as np\n",
    "import matplotlib.pyplot as plt\n",
    "import pandas as pd\n",
    "import seaborn as sns\n",
    "\n",
    "from sklearn.linear_model import LinearRegression, LogisticRegression\n",
    "from sklearn.metrics import accuracy_score, confusion_matrix, r2_score\n",
    "\n",
    "%matplotlib inline\n",
    "\n",
    "plt.style.use(\"fivethirtyeight\")"
   ]
  },
  {
   "cell_type": "markdown",
   "metadata": {},
   "source": [
    "### Dataframe i/o"
   ]
  },
  {
   "cell_type": "code",
   "execution_count": 45,
   "metadata": {
    "collapsed": false
   },
   "outputs": [
    {
     "data": {
      "text/html": [
       "<div>\n",
       "<table border=\"1\" class=\"dataframe\">\n",
       "  <thead>\n",
       "    <tr style=\"text-align: right;\">\n",
       "      <th></th>\n",
       "      <th>default</th>\n",
       "      <th>student</th>\n",
       "      <th>balance</th>\n",
       "      <th>income</th>\n",
       "      <th>rent</th>\n",
       "    </tr>\n",
       "  </thead>\n",
       "  <tbody>\n",
       "    <tr>\n",
       "      <th>1</th>\n",
       "      <td>No</td>\n",
       "      <td>No</td>\n",
       "      <td>729.526495</td>\n",
       "      <td>44361.625074</td>\n",
       "      <td>1382.367143</td>\n",
       "    </tr>\n",
       "    <tr>\n",
       "      <th>2</th>\n",
       "      <td>No</td>\n",
       "      <td>Yes</td>\n",
       "      <td>817.180407</td>\n",
       "      <td>12106.134700</td>\n",
       "      <td>677.912047</td>\n",
       "    </tr>\n",
       "    <tr>\n",
       "      <th>3</th>\n",
       "      <td>No</td>\n",
       "      <td>No</td>\n",
       "      <td>1073.549164</td>\n",
       "      <td>31767.138947</td>\n",
       "      <td>1589.497127</td>\n",
       "    </tr>\n",
       "    <tr>\n",
       "      <th>4</th>\n",
       "      <td>No</td>\n",
       "      <td>No</td>\n",
       "      <td>529.250605</td>\n",
       "      <td>35704.493935</td>\n",
       "      <td>1245.529318</td>\n",
       "    </tr>\n",
       "    <tr>\n",
       "      <th>5</th>\n",
       "      <td>No</td>\n",
       "      <td>No</td>\n",
       "      <td>785.655883</td>\n",
       "      <td>38463.495879</td>\n",
       "      <td>1195.162718</td>\n",
       "    </tr>\n",
       "  </tbody>\n",
       "</table>\n",
       "</div>"
      ],
      "text/plain": [
       "  default student      balance        income         rent\n",
       "1      No      No   729.526495  44361.625074  1382.367143\n",
       "2      No     Yes   817.180407  12106.134700   677.912047\n",
       "3      No      No  1073.549164  31767.138947  1589.497127\n",
       "4      No      No   529.250605  35704.493935  1245.529318\n",
       "5      No      No   785.655883  38463.495879  1195.162718"
      ]
     },
     "execution_count": 45,
     "metadata": {},
     "output_type": "execute_result"
    }
   ],
   "source": [
    "df = pd.read_csv(\"data/test.csv\", index_col=0) # Possibly change `index_col`, `sep`\n",
    "\n",
    "# Set columns:\n",
    "#df.columns = ['column1', 'column2']\n",
    "df.head()"
   ]
  },
  {
   "cell_type": "markdown",
   "metadata": {},
   "source": [
    "### Tweaking a dataframe"
   ]
  },
  {
   "cell_type": "code",
   "execution_count": 46,
   "metadata": {
    "collapsed": false
   },
   "outputs": [],
   "source": [
    "# Set an individual entry of the dataframe, where the pair `[index, 'col_name']` are the row/column info, respectively\n",
    "#df.loc[index, 'col_name'] = <new_value>\n",
    "\n",
    "# Finding NaN values\n",
    "#df[df.isnull().any(axis=1)]\n",
    "\n",
    "# How many rows have a negative `column1`?\n",
    "df = df[df['rent'] >= 0]\n",
    "\n",
    "# Which rows have `column1` values in a certain list of possibilities?\n",
    "#df[df['column1'].isin([\"Turkey\", \"Bulgaria\", \"Italy\"])]\n",
    "\n",
    "# Basic slicing\n",
    "#df[['column1', 'column2']]     # by column\n",
    "#df[15:42]                      # by row \n",
    "\n",
    "# Adding a new column\n",
    "#df['new_col'] = np.random.randn(df.shape[0])\n",
    "df[df['income'] == -1].count()\n",
    "\n",
    "replacer = lambda x: x if not x == -1 else df[\"income\"].median()\n",
    "\n",
    "r_dict = {\" student\": 1, \"no_student\": 0, \"Yes\": 1, \"No\": 0}\n",
    "\n",
    "df[\"income\"] = df[\"income\"].map(replacer)\n",
    "df[\"student\"] = df[\"student\"].map(r_dict)\n",
    "df[\"default\"] = df[\"default\"].map(r_dict)"
   ]
  },
  {
   "cell_type": "code",
   "execution_count": 47,
   "metadata": {
    "collapsed": false
   },
   "outputs": [
    {
     "data": {
      "text/html": [
       "<div>\n",
       "<table border=\"1\" class=\"dataframe\">\n",
       "  <thead>\n",
       "    <tr style=\"text-align: right;\">\n",
       "      <th></th>\n",
       "      <th>default</th>\n",
       "      <th>student</th>\n",
       "      <th>balance</th>\n",
       "      <th>income</th>\n",
       "      <th>rent</th>\n",
       "    </tr>\n",
       "  </thead>\n",
       "  <tbody>\n",
       "    <tr>\n",
       "      <th>count</th>\n",
       "      <td>9994.00000</td>\n",
       "      <td>9994.000000</td>\n",
       "      <td>9994.000000</td>\n",
       "      <td>9994.000000</td>\n",
       "      <td>9994.000000</td>\n",
       "    </tr>\n",
       "    <tr>\n",
       "      <th>mean</th>\n",
       "      <td>0.03332</td>\n",
       "      <td>0.293976</td>\n",
       "      <td>835.292565</td>\n",
       "      <td>33537.408440</td>\n",
       "      <td>1377.000441</td>\n",
       "    </tr>\n",
       "    <tr>\n",
       "      <th>std</th>\n",
       "      <td>0.17948</td>\n",
       "      <td>0.455604</td>\n",
       "      <td>483.769635</td>\n",
       "      <td>13292.705972</td>\n",
       "      <td>432.981012</td>\n",
       "    </tr>\n",
       "    <tr>\n",
       "      <th>min</th>\n",
       "      <td>0.00000</td>\n",
       "      <td>0.000000</td>\n",
       "      <td>0.000000</td>\n",
       "      <td>2541.200814</td>\n",
       "      <td>8.111088</td>\n",
       "    </tr>\n",
       "    <tr>\n",
       "      <th>25%</th>\n",
       "      <td>0.00000</td>\n",
       "      <td>0.000000</td>\n",
       "      <td>481.637704</td>\n",
       "      <td>21381.793659</td>\n",
       "      <td>1070.683359</td>\n",
       "    </tr>\n",
       "    <tr>\n",
       "      <th>50%</th>\n",
       "      <td>0.00000</td>\n",
       "      <td>0.000000</td>\n",
       "      <td>823.540575</td>\n",
       "      <td>34511.419087</td>\n",
       "      <td>1378.638367</td>\n",
       "    </tr>\n",
       "    <tr>\n",
       "      <th>75%</th>\n",
       "      <td>0.00000</td>\n",
       "      <td>1.000000</td>\n",
       "      <td>1166.059303</td>\n",
       "      <td>43772.048741</td>\n",
       "      <td>1681.595983</td>\n",
       "    </tr>\n",
       "    <tr>\n",
       "      <th>max</th>\n",
       "      <td>1.00000</td>\n",
       "      <td>1.000000</td>\n",
       "      <td>2654.322576</td>\n",
       "      <td>73554.233495</td>\n",
       "      <td>2921.464501</td>\n",
       "    </tr>\n",
       "  </tbody>\n",
       "</table>\n",
       "</div>"
      ],
      "text/plain": [
       "          default      student      balance        income         rent\n",
       "count  9994.00000  9994.000000  9994.000000   9994.000000  9994.000000\n",
       "mean      0.03332     0.293976   835.292565  33537.408440  1377.000441\n",
       "std       0.17948     0.455604   483.769635  13292.705972   432.981012\n",
       "min       0.00000     0.000000     0.000000   2541.200814     8.111088\n",
       "25%       0.00000     0.000000   481.637704  21381.793659  1070.683359\n",
       "50%       0.00000     0.000000   823.540575  34511.419087  1378.638367\n",
       "75%       0.00000     1.000000  1166.059303  43772.048741  1681.595983\n",
       "max       1.00000     1.000000  2654.322576  73554.233495  2921.464501"
      ]
     },
     "execution_count": 47,
     "metadata": {},
     "output_type": "execute_result"
    }
   ],
   "source": [
    "df.head()\n",
    "df.describe()"
   ]
  },
  {
   "cell_type": "code",
   "execution_count": 59,
   "metadata": {
    "collapsed": false,
    "scrolled": true
   },
   "outputs": [
    {
     "data": {
      "text/plain": [
       "LogisticRegression(C=1.0, class_weight=None, dual=False, fit_intercept=True,\n",
       "          intercept_scaling=1, max_iter=100, multi_class='ovr', n_jobs=1,\n",
       "          penalty='l2', random_state=None, solver='liblinear', tol=0.0001,\n",
       "          verbose=0, warm_start=False)"
      ]
     },
     "execution_count": 59,
     "metadata": {},
     "output_type": "execute_result"
    }
   ],
   "source": [
    "X = df[[\"student\",\"balance\", \"income\", \"rent\"]]\n",
    "y = df[\"default\"]\n",
    "model = LogisticRegression()\n",
    "model.fit(X,y)"
   ]
  },
  {
   "cell_type": "code",
   "execution_count": 66,
   "metadata": {
    "collapsed": false
   },
   "outputs": [
    {
     "data": {
      "text/plain": [
       "array([[9623,   38],\n",
       "       [ 327,    6]])"
      ]
     },
     "execution_count": 66,
     "metadata": {},
     "output_type": "execute_result"
    }
   ],
   "source": [
    "preds = model.predict(X)\n",
    "confusion_matrix(y,preds)"
   ]
  },
  {
   "cell_type": "markdown",
   "metadata": {},
   "source": [
    "### Misc comprehension magic"
   ]
  },
  {
   "cell_type": "code",
   "execution_count": null,
   "metadata": {
    "collapsed": true
   },
   "outputs": [],
   "source": [
    "# What attributes does this object have?\n",
    "object_ = <object_instance>\n",
    "print(*[item for item in dir(object_) if item[0] != \"_\"], sep='\\n')\n",
    "\n",
    "# What are all your parameter options for various models to fit?\n",
    "parameters = ['x_1', 'x_2', 'x_3', 'x_4']\n",
    "\n",
    "param_options = [model for group in chain(combinations(parameters,n) for n in range(len(parameters) + 1)) \n",
    "                       for model in group if model]"
   ]
  },
  {
   "cell_type": "markdown",
   "metadata": {},
   "source": [
    "# Plotting\n",
    "\n",
    "### Basic:"
   ]
  },
  {
   "cell_type": "code",
   "execution_count": null,
   "metadata": {
    "collapsed": false
   },
   "outputs": [],
   "source": [
    "# Subplots (multiple figures at once)\n",
    "figure = plt.figure() # You can set `figsize` here if you want\n",
    "ax = figure.add_subplot(number_of_rows, number_of_columns, which_subplot_is_this) ## e.g. (2,2,1) through (2,2,4)\n",
    "\n",
    "# Scatter plot\n",
    "plt.scatter(df['x_axis_col'], df['y_axis_col'], \n",
    "            c=df['color_column'].map({'entry_1':'r', \n",
    "                                      'entry_2':'b', \n",
    "                                      'entry_3':'g'}))\n",
    "                 \n",
    "# Line plot (for curves, use many more points in your lists)\n",
    "plt.plot([x1, x2, x3],     # These are lists of (x,y) ordered pairs...\n",
    "         [y1, y2, y3],     # ... they will be connected by lines\n",
    "         c='k',            #black\n",
    "         linewidth=2)\n",
    "\n",
    "# Histogram\n",
    "plt.hist(df.balance, bins=8)\n",
    "\n",
    "# For any of the above, end with:\n",
    "plt.show()"
   ]
  },
  {
   "cell_type": "markdown",
   "metadata": {},
   "source": [
    "### Contour"
   ]
  },
  {
   "cell_type": "code",
   "execution_count": null,
   "metadata": {
    "collapsed": true
   },
   "outputs": [],
   "source": [
    "#### SET THESE ####\n",
    "# This should be an (n x p) numpy ndarray, consisting of your data.  This\n",
    "# will NOT create your scatter plot, you'll need to do that yourself.\n",
    "X_data = df[['x_1', 'x_2']].values\n",
    "\n",
    "x_axis_name = 'x_1'\n",
    "y_axis_name = 'x_2'\n",
    "\n",
    "# CONSTANTS\n",
    "GRANULARITY = 50\n",
    "\n",
    "# Create a mesh\n",
    "x1_min, x1_max, x2_min, x2_max = (df[x_axis_name].min(),\n",
    "                                  df[x_axis_name].max(),\n",
    "                                  df[y_axis_name].min(),\n",
    "                                  df[y_axis_name].max())\n",
    "\n",
    "xx1, xx2 = np.meshgrid(np.linspace(x1_min, x1_max, GRANULARITY),\n",
    "                       np.linspace(x2_min, x2_max, GRANULARITY))\n",
    "\n",
    "# In order to produce the prediction values, we `ravel` the xx's and yy's.\n",
    "# This means we turn the grid of values into a single column, which we later `reshape`.\n",
    "xx1_col = xx1.ravel()\n",
    "xx2_col = xx2.ravel()\n",
    "\n",
    "########################################## SADLY, YOU NEED TO DO THIS ##########################################\n",
    "# This matrix needs to consist of exactly what your X matrix consisted of, where \"xx1_col\" replaces `x_1`,\n",
    "# and \"xx2_col\" replaces \"x_2\".  IF YOU HAVE OTHER COLUMNS, YOU NEED TO ESTIMATE THESE EITHER WITH MEDIANS OR \n",
    "# BY SOME FUNCTION OF YOUR x- OR y-AXIS COLUMNS.  Here's an example of filling with a median:\n",
    "# xx3_col = np.zeros(xx1_col.shape) + df['x_3'].median()\n",
    "X_columns = np.c_[xx1_col,xx2_col]\n",
    "\n",
    "#### PLOTTING ####\n",
    "################################### CHANGE THE NAME OF YOUR MODEL HERE IF NEEDED ###############################\n",
    "yy = model.predict_proba(X_columns).T[0]\n",
    "yy = yy.reshape(xx1.shape)\n",
    "\n",
    "#### PLOTTING ####\n",
    "\n",
    "figure = plt.figure() # You can set `figsize` here if you want\n",
    "ax = figure.add_subplot(1,1,1)\n",
    "# Set plot limits\n",
    "ax.set_xlim(x1_min, x1_max)\n",
    "ax.set_ylim(x2_min, x2_max)\n",
    "ax.set_xlabel('Always label your axes!')\n",
    "ax.set_ylabel('Always label your axes!')\n",
    "\n",
    "## Uncomment whichever of these you want: ##\n",
    "# Just the decision boundary, where:\n",
    "#     - `levels` is what determines the actual value (or values) of the boundary, and\n",
    "#     - `colors` is the color of each level above\n",
    "\"\"\"\n",
    "ax.contour(xx1, xx2, yy, levels=[.5], colors=['c'])\n",
    "\"\"\"\n",
    "\n",
    "# The entire decision surface, where:\n",
    "#     - `100`  refers to the number of contours to plot, set it to more for a smoother look\n",
    "#     - `cmap` is the colormap we're using.  Options: http://matplotlib.org/users/colormaps.html\n",
    "#     - `vmin` and `vmax` are the low and high output values to plot\n",
    "\"\"\"\n",
    "contour = ax.contourf(xx1, xx2, yy, 100, cmap=\"RdBu\",\n",
    "                      vmin=0, vmax=1)\n",
    "ax_c = figure.colorbar(contour) # Adds a colorbar, which is like a continuous legend\n",
    "ax_c.set_label(\"$P(y = 1)$\") # Labels the above colorbar\n",
    "\"\"\"\n",
    "\n",
    "# Fix up your scatter plot here:\n",
    "ax.scatter(df[x_axis_name],df[y_axis_name])  # set c= to color your points based on their `y` value\n",
    "\n",
    "plt.show()"
   ]
  },
  {
   "cell_type": "markdown",
   "metadata": {},
   "source": [
    "The [Adjusted $R^2$ formula](https://en.wikipedia.org/wiki/Coefficient_of_determination#Adjusted_R2)."
   ]
  }
 ],
 "metadata": {
  "kernelspec": {
   "display_name": "Python [datamining]",
   "language": "python",
   "name": "Python [datamining]"
  },
  "language_info": {
   "codemirror_mode": {
    "name": "ipython",
    "version": 3
   },
   "file_extension": ".py",
   "mimetype": "text/x-python",
   "name": "python",
   "nbconvert_exporter": "python",
   "pygments_lexer": "ipython3",
   "version": "3.5.2"
  }
 },
 "nbformat": 4,
 "nbformat_minor": 0
}
