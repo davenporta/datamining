{
 "cells": [
  {
   "cell_type": "markdown",
   "metadata": {},
   "source": [
    "# Linear Regression II\n",
    "\n",
    "#### Name: Alexander Davenport"
   ]
  },
  {
   "cell_type": "code",
   "execution_count": 1,
   "metadata": {
    "collapsed": true
   },
   "outputs": [],
   "source": [
    "#standard imports\n",
    "import numpy as np\n",
    "import matplotlib.pyplot as plt\n",
    "from mpl_toolkits.mplot3d import axes3d # needed for 3d plotting\n",
    "import pandas as pd\n",
    "from sklearn.linear_model import LinearRegression\n",
    "\n",
    "%matplotlib inline"
   ]
  },
  {
   "cell_type": "markdown",
   "metadata": {},
   "source": [
    "Here I load the data set from a CSV file as a pandas DataFrame object and look at a snippet of the data to help load it properly."
   ]
  },
  {
   "cell_type": "code",
   "execution_count": 3,
   "metadata": {
    "collapsed": false
   },
   "outputs": [
    {
     "data": {
      "text/html": [
       "<div>\n",
       "<table border=\"1\" class=\"dataframe\">\n",
       "  <thead>\n",
       "    <tr style=\"text-align: right;\">\n",
       "      <th></th>\n",
       "      <th>x</th>\n",
       "      <th>y</th>\n",
       "    </tr>\n",
       "  </thead>\n",
       "  <tbody>\n",
       "    <tr>\n",
       "      <th>0</th>\n",
       "      <td>0.000000</td>\n",
       "      <td>-11.548119</td>\n",
       "    </tr>\n",
       "    <tr>\n",
       "      <th>1</th>\n",
       "      <td>0.098175</td>\n",
       "      <td>-4.914784</td>\n",
       "    </tr>\n",
       "    <tr>\n",
       "      <th>2</th>\n",
       "      <td>0.196350</td>\n",
       "      <td>1.960879</td>\n",
       "    </tr>\n",
       "    <tr>\n",
       "      <th>3</th>\n",
       "      <td>0.294524</td>\n",
       "      <td>-7.823953</td>\n",
       "    </tr>\n",
       "    <tr>\n",
       "      <th>4</th>\n",
       "      <td>0.392699</td>\n",
       "      <td>3.340747</td>\n",
       "    </tr>\n",
       "  </tbody>\n",
       "</table>\n",
       "</div>"
      ],
      "text/plain": [
       "          x          y\n",
       "0  0.000000 -11.548119\n",
       "1  0.098175  -4.914784\n",
       "2  0.196350   1.960879\n",
       "3  0.294524  -7.823953\n",
       "4  0.392699   3.340747"
      ]
     },
     "execution_count": 3,
     "metadata": {},
     "output_type": "execute_result"
    }
   ],
   "source": [
    "df = pd.read_csv(\"data/linear_regression_hw.csv\", index_col=0)\n",
    "df.head()"
   ]
  },
  {
   "cell_type": "markdown",
   "metadata": {},
   "source": [
    "Then I plot the raw data as a scatter plot to help me understand what type of regression is needed."
   ]
  },
  {
   "cell_type": "code",
   "execution_count": 4,
   "metadata": {
    "collapsed": false
   },
   "outputs": [
    {
     "data": {
      "image/png": "[encoded data removed]",
      "text/plain": [
       "<matplotlib.figure.Figure at 0x22b37e5c2e8>"
      ]
     },
     "metadata": {},
     "output_type": "display_data"
    }
   ],
   "source": [
    "fig = plt.figure()\n",
    "raw = fig.add_subplot(1,1,1)\n",
    "\n",
    "raw.scatter(df['x'], df['y'], c='b')\n",
    "raw.autoscale(tight=True)\n",
    "raw.set_title(\"Raw Data\")\n",
    "raw.set_xlabel(\"x\")\n",
    "raw.set_ylabel(\"y\")\n",
    "\n",
    "plt.show()"
   ]
  },
  {
   "cell_type": "markdown",
   "metadata": {},
   "source": [
    "Here I use scikit-learn's linear regression function without any kernels."
   ]
  },
  {
   "cell_type": "code",
   "execution_count": 5,
   "metadata": {
    "collapsed": false
   },
   "outputs": [
    {
     "name": "stdout",
     "output_type": "stream",
     "text": [
      "Slope: 2.59792433739 Intercept: -2.08256411909\n"
     ]
    },
    {
     "name": "stderr",
     "output_type": "stream",
     "text": [
      "C:\\Users\\alexh\\Anaconda3\\envs\\python36\\lib\\site-packages\\ipykernel\\__main__.py:3: FutureWarning: reshape is deprecated and will raise in a subsequent release. Please use .values.reshape(...) instead\n",
      "  app.launch_new_instance()\n"
     ]
    }
   ],
   "source": [
    "# Construct a regression model\n",
    "linreg = LinearRegression()\n",
    "linreg.fit(df['x'].reshape(-1,1),df['y'])\n",
    "\n",
    "m_poly = linreg.coef_[0]\n",
    "b_poly = linreg.intercept_\n",
    "print(\"Slope:\", m_poly, \"Intercept:\", b_poly)"
   ]
  },
  {
   "cell_type": "code",
   "execution_count": 123,
   "metadata": {
    "collapsed": false
   },
   "outputs": [
    {
     "data": {
      "image/png": "[encoded data removed]",
      "text/plain": [
       "<matplotlib.figure.Figure at 0x1b8a93b8a58>"
      ]
     },
     "metadata": {},
     "output_type": "display_data"
    }
   ],
   "source": [
    "fig = plt.figure(figsize=(7,7))\n",
    "polydata = fig.add_subplot(2,1,1)\n",
    "residuals = fig.add_subplot(2,1,2)\n",
    " \n",
    "# Plot the data and the best fit line\n",
    "polydata.scatter(df['x'], df['y'], c='b')\n",
    "polydata.autoscale(tight=True)\n",
    "polydata.plot([0,df['x'].max()],[b_poly, b_poly + df['x'].max() * m_poly], c='k')\n",
    "polydata.set_title(\"Linear Fit\")\n",
    "\n",
    "# Create residuals array\n",
    "resid = df['y'] - np.array([b_poly + i * m_poly for i in df['x']])\n",
    "\n",
    "# Plot the residuals\n",
    "residuals.scatter(df['x'], resid, c='r')\n",
    "residuals.autoscale(tight=True)\n",
    "residuals.plot([df['x'].min(),df['x'].max()],[0,0], c='k')\n",
    "residuals.set_title(\"Residuals\")\n",
    "\n",
    "plt.show()"
   ]
  },
  {
   "cell_type": "markdown",
   "metadata": {},
   "source": [
    "Clearly the residuals show that a linear fit is not adaquete for the data. It appears to resemble a 4th order polynomials, so that is what I will try. Here I create 3 kernels to use with the kernel trick."
   ]
  },
  {
   "cell_type": "code",
   "execution_count": 6,
   "metadata": {
    "collapsed": false
   },
   "outputs": [
    {
     "data": {
      "text/html": [
       "<div>\n",
       "<table border=\"1\" class=\"dataframe\">\n",
       "  <thead>\n",
       "    <tr style=\"text-align: right;\">\n",
       "      <th></th>\n",
       "      <th>x</th>\n",
       "      <th>y</th>\n",
       "      <th>w</th>\n",
       "      <th>v</th>\n",
       "      <th>u</th>\n",
       "    </tr>\n",
       "  </thead>\n",
       "  <tbody>\n",
       "    <tr>\n",
       "      <th>0</th>\n",
       "      <td>0.000000</td>\n",
       "      <td>-11.548119</td>\n",
       "      <td>0.000000</td>\n",
       "      <td>0.000000</td>\n",
       "      <td>0.000000</td>\n",
       "    </tr>\n",
       "    <tr>\n",
       "      <th>1</th>\n",
       "      <td>0.098175</td>\n",
       "      <td>-4.914784</td>\n",
       "      <td>0.009638</td>\n",
       "      <td>0.000946</td>\n",
       "      <td>0.000093</td>\n",
       "    </tr>\n",
       "    <tr>\n",
       "      <th>2</th>\n",
       "      <td>0.196350</td>\n",
       "      <td>1.960879</td>\n",
       "      <td>0.038553</td>\n",
       "      <td>0.007570</td>\n",
       "      <td>0.001486</td>\n",
       "    </tr>\n",
       "    <tr>\n",
       "      <th>3</th>\n",
       "      <td>0.294524</td>\n",
       "      <td>-7.823953</td>\n",
       "      <td>0.086745</td>\n",
       "      <td>0.025548</td>\n",
       "      <td>0.007525</td>\n",
       "    </tr>\n",
       "    <tr>\n",
       "      <th>4</th>\n",
       "      <td>0.392699</td>\n",
       "      <td>3.340747</td>\n",
       "      <td>0.154213</td>\n",
       "      <td>0.060559</td>\n",
       "      <td>0.023782</td>\n",
       "    </tr>\n",
       "  </tbody>\n",
       "</table>\n",
       "</div>"
      ],
      "text/plain": [
       "          x          y         w         v         u\n",
       "0  0.000000 -11.548119  0.000000  0.000000  0.000000\n",
       "1  0.098175  -4.914784  0.009638  0.000946  0.000093\n",
       "2  0.196350   1.960879  0.038553  0.007570  0.001486\n",
       "3  0.294524  -7.823953  0.086745  0.025548  0.007525\n",
       "4  0.392699   3.340747  0.154213  0.060559  0.023782"
      ]
     },
     "execution_count": 6,
     "metadata": {},
     "output_type": "execute_result"
    }
   ],
   "source": [
    "df['w'] = df['x']**2\n",
    "df['v'] = df['x']**3\n",
    "df['u'] = df['x']**4\n",
    "df.head()"
   ]
  },
  {
   "cell_type": "markdown",
   "metadata": {},
   "source": [
    "Here I use the kernel trick to get a 4th order poly fit"
   ]
  },
  {
   "cell_type": "code",
   "execution_count": 7,
   "metadata": {
    "collapsed": false
   },
   "outputs": [
    {
     "name": "stdout",
     "output_type": "stream",
     "text": [
      "x-\"slope\": 27.7825394063 , w-\"slope\": -13.7389308926 v-\"slope\": 2.31866328443 , u-\"slope\": -0.120661112702 , intercept:  -8.40851630021\n"
     ]
    }
   ],
   "source": [
    "planereg = LinearRegression()\n",
    "planereg.fit(df[['x', 'w', 'v', 'u']], df['y'])\n",
    "\n",
    "# model parameters\n",
    "m_x, m_w, m_v, m_u = planereg.coef_\n",
    "b = planereg.intercept_\n",
    "print(\"x-\\\"slope\\\":\", m_x, \", w-\\\"slope\\\":\", m_w, \"v-\\\"slope\\\":\", m_v, \", u-\\\"slope\\\":\", m_u, \", intercept: \", b)"
   ]
  },
  {
   "cell_type": "code",
   "execution_count": 10,
   "metadata": {
    "collapsed": false
   },
   "outputs": [
    {
     "data": {
      "image/png": "[encoded data removed]",
      "text/plain": [
       "<matplotlib.figure.Figure at 0x22b394977b8>"
      ]
     },
     "metadata": {},
     "output_type": "display_data"
    }
   ],
   "source": [
    "# To graph curves, you need to create a fine-mesh line plot:\n",
    "y_poly = m_u * df['x']**4 + m_v * df['x']**3 + m_w * df['x']**2 + m_x * df['x'] + b\n",
    "\n",
    "# Create a Figure and subplot objects\n",
    "fig = plt.figure(figsize=(7,7))\n",
    "polydata = fig.add_subplot(2,1,1)\n",
    "residuals = fig.add_subplot(2,1,2)\n",
    "\n",
    "# Plot the data and the best fit line\n",
    "polydata.scatter(df['x'], df['y'], c='b')\n",
    "polydata.autoscale(tight=True)\n",
    "polydata.plot(df['x'], y_poly, c='k')\n",
    "polydata.set_title(\"Polynomial Fit\")\n",
    "\n",
    "# Create residuals array\n",
    "resid = df['y'] - np.array([m_u * i**4 + m_v * i**3 + m_w * i**2 + m_x * i + b  for i in df['x']])\n",
    "\n",
    "# Plot the residuals\n",
    "residuals.scatter(df['x'], resid, c='r')\n",
    "residuals.autoscale(tight=True)\n",
    "residuals.plot([df['x'].min(),df['x'].max()],[0,0], c='k')\n",
    "residuals.set_title(\"Residuals\")\n",
    "\n",
    "plt.show()"
   ]
  },
  {
   "cell_type": "markdown",
   "metadata": {},
   "source": [
    "As shown by the lack of correlation in the residuals, the 4th order polynomial generated is adequete for the dataset. But, a sine curve may be more accurate still. So, here we create a kernel of sin(x)."
   ]
  },
  {
   "cell_type": "code",
   "execution_count": 11,
   "metadata": {
    "collapsed": false
   },
   "outputs": [
    {
     "data": {
      "text/html": [
       "<div>\n",
       "<table border=\"1\" class=\"dataframe\">\n",
       "  <thead>\n",
       "    <tr style=\"text-align: right;\">\n",
       "      <th></th>\n",
       "      <th>x</th>\n",
       "      <th>y</th>\n",
       "      <th>w</th>\n",
       "      <th>v</th>\n",
       "      <th>u</th>\n",
       "      <th>s</th>\n",
       "    </tr>\n",
       "  </thead>\n",
       "  <tbody>\n",
       "    <tr>\n",
       "      <th>0</th>\n",
       "      <td>0.000000</td>\n",
       "      <td>-11.548119</td>\n",
       "      <td>0.000000</td>\n",
       "      <td>0.000000</td>\n",
       "      <td>0.000000</td>\n",
       "      <td>0.000000</td>\n",
       "    </tr>\n",
       "    <tr>\n",
       "      <th>1</th>\n",
       "      <td>0.098175</td>\n",
       "      <td>-4.914784</td>\n",
       "      <td>0.009638</td>\n",
       "      <td>0.000946</td>\n",
       "      <td>0.000093</td>\n",
       "      <td>0.098017</td>\n",
       "    </tr>\n",
       "    <tr>\n",
       "      <th>2</th>\n",
       "      <td>0.196350</td>\n",
       "      <td>1.960879</td>\n",
       "      <td>0.038553</td>\n",
       "      <td>0.007570</td>\n",
       "      <td>0.001486</td>\n",
       "      <td>0.195090</td>\n",
       "    </tr>\n",
       "    <tr>\n",
       "      <th>3</th>\n",
       "      <td>0.294524</td>\n",
       "      <td>-7.823953</td>\n",
       "      <td>0.086745</td>\n",
       "      <td>0.025548</td>\n",
       "      <td>0.007525</td>\n",
       "      <td>0.290285</td>\n",
       "    </tr>\n",
       "    <tr>\n",
       "      <th>4</th>\n",
       "      <td>0.392699</td>\n",
       "      <td>3.340747</td>\n",
       "      <td>0.154213</td>\n",
       "      <td>0.060559</td>\n",
       "      <td>0.023782</td>\n",
       "      <td>0.382683</td>\n",
       "    </tr>\n",
       "  </tbody>\n",
       "</table>\n",
       "</div>"
      ],
      "text/plain": [
       "          x          y         w         v         u         s\n",
       "0  0.000000 -11.548119  0.000000  0.000000  0.000000  0.000000\n",
       "1  0.098175  -4.914784  0.009638  0.000946  0.000093  0.098017\n",
       "2  0.196350   1.960879  0.038553  0.007570  0.001486  0.195090\n",
       "3  0.294524  -7.823953  0.086745  0.025548  0.007525  0.290285\n",
       "4  0.392699   3.340747  0.154213  0.060559  0.023782  0.382683"
      ]
     },
     "execution_count": 11,
     "metadata": {},
     "output_type": "execute_result"
    }
   ],
   "source": [
    "df['s'] = np.sin(df['x'])\n",
    "df.head()"
   ]
  },
  {
   "cell_type": "code",
   "execution_count": 12,
   "metadata": {
    "collapsed": false
   },
   "outputs": [
    {
     "name": "stdout",
     "output_type": "stream",
     "text": [
      "x-\"slope\": 2.73612564021 , s-\"slope\": 9.87117367801 intercept:  -4.59855405391\n"
     ]
    }
   ],
   "source": [
    "sinreg = LinearRegression()\n",
    "sinreg.fit(df[['x', 's']], df['y'])\n",
    "\n",
    "# model parameters\n",
    "m_x, m_s = sinreg.coef_\n",
    "b = sinreg.intercept_\n",
    "print(\"x-\\\"slope\\\":\", m_x, \", s-\\\"slope\\\":\", m_s, \"intercept: \", b)"
   ]
  },
  {
   "cell_type": "code",
   "execution_count": 14,
   "metadata": {
    "collapsed": false
   },
   "outputs": [
    {
     "data": {
      "image/png": "[encoded data removed]",
      "text/plain": [
       "<matplotlib.figure.Figure at 0x22b395f2048>"
      ]
     },
     "metadata": {},
     "output_type": "display_data"
    }
   ],
   "source": [
    "# To graph curves, you need to create a fine-mesh line plot:\n",
    "y_trig = m_s * np.sin(df['s']) + m_x * df['x'] + b\n",
    "\n",
    "# Create a Figure and subplot objects\n",
    "fig = plt.figure(figsize=(7,7))\n",
    "polydata = fig.add_subplot(2,1,1)\n",
    "residuals = fig.add_subplot(2,1,2)\n",
    "\n",
    "# Plot the data and the best fit line\n",
    "polydata.scatter(df['x'], df['y'], c='b')\n",
    "polydata.autoscale(tight=True)\n",
    "polydata.plot(df['x'], y_trig, c='k')\n",
    "polydata.set_title(\"Trig Fit\")\n",
    "\n",
    "# Create residuals array\n",
    "resid = df['y'] - np.array([m_s * np.sin(i) + m_x * i + b  for i in df['x']])\n",
    "\n",
    "# Plot the residuals\n",
    "residuals.scatter(df['x'], resid, c='r')\n",
    "residuals.autoscale(tight=True)\n",
    "residuals.plot([df['x'].min(),df['x'].max()],[0,0], c='k')\n",
    "residuals.set_title(\"Residuals\")\n",
    "\n",
    "plt.show()"
   ]
  },
  {
   "cell_type": "markdown",
   "metadata": {},
   "source": [
    "We can see that the residuals are not correlated with this function as well and is a better fit as it has fewer degrees of freedom."
   ]
  },
  {
   "cell_type": "code",
   "execution_count": null,
   "metadata": {
    "collapsed": true
   },
   "outputs": [],
   "source": []
  }
 ],
 "metadata": {
  "anaconda-cloud": {},
  "kernelspec": {
   "display_name": "Python [python36]",
   "language": "python",
   "name": "Python [python36]"
  },
  "language_info": {
   "codemirror_mode": {
    "name": "ipython",
    "version": 3
   },
   "file_extension": ".py",
   "mimetype": "text/x-python",
   "name": "python",
   "nbconvert_exporter": "python",
   "pygments_lexer": "ipython3",
   "version": "3.6.1"
  }
 },
 "nbformat": 4,
 "nbformat_minor": 0
}
