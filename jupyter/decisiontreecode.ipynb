{
 "cells": [
  {
   "cell_type": "code",
   "execution_count": 1,
   "metadata": {
    "collapsed": true
   },
   "outputs": [],
   "source": [
    "from itertools import combinations, chain\n",
    "from statistics import mean, median\n",
    "from operator import itemgetter\n",
    "\n",
    "import numpy as np\n",
    "import matplotlib.pyplot as plt\n",
    "import pandas as pd\n",
    "import seaborn as sns\n",
    "\n",
    "from sklearn.metrics import accuracy_score, confusion_matrix, r2_score\n",
    "\n",
    "%matplotlib inline\n",
    "\n",
    "plt.style.use(\"ggplot\")"
   ]
  },
  {
   "cell_type": "code",
   "execution_count": 2,
   "metadata": {
    "collapsed": false
   },
   "outputs": [],
   "source": [
    "data = [[\"human\", 1, 1, 0, 0, 1],\n",
    "     [\"pigeon\", 1, 0, 0, 0, 0],\n",
    "     [\"elephant\", 1, 1, 1, 0, 1],\n",
    "     [\"leopard shark\", 0, 1, 0, 0, 0],\n",
    "     [\"turtle\", 0, 0, 1, 0, 0],\n",
    "     [\"penguin\", 0, 0, 0, 0, 0],\n",
    "     [\"eel\", 0, 0, 0, 0, 0],\n",
    "     [\"dolphin\", 1, 1, 0, 0, 1],\n",
    "     [\"spiny anteater\", 1, 0, 1, 1, 1],\n",
    "     [\"gila monster\", 0, 0, 1, 1, 0]]\n",
    "\n",
    "data1 = [[\"human\", 1, 1, 0, 0, 1],\n",
    "     [\"pigeon\", 1, 0, 0, 0, 0],\n",
    "     [\"elephant\", 1, 1, 1, 0, 1],\n",
    "      [\"dolphin\", 1, 1, 0, 0, 1],\n",
    "      [\"spiny anteater\", 1, 0, 1, 1, 1]]\n",
    "\n",
    "data2 = [[\"leopard shark\", 0, 1, 0, 0, 0],\n",
    "        [\"turtle\", 0, 0, 1, 0, 0],\n",
    "        [\"penguin\", 0, 0, 0, 0, 0],\n",
    "        [\"eel\", 0, 0, 0, 0, 0],\n",
    "        [\"gila monster\", 0, 0, 1, 1, 0]]\n",
    "\n",
    "df = pd.DataFrame(data, columns = [\"Name\",\n",
    "                                \"Body Temperature\",\n",
    "                                \"Gives Birth\",\n",
    "                                \"Four-legged\",\n",
    "                                \"Hibernates\",\n",
    "                                \"Class Label\"])\n",
    "y_dat = df[\"Class Label\"]\n",
    "X_dat = df[[\"Body Temperature\",\"Gives Birth\", \"Four-legged\", \"Hibernates\"]]"
   ]
  },
  {
   "cell_type": "code",
   "execution_count": 13,
   "metadata": {
    "collapsed": false
   },
   "outputs": [],
   "source": [
    "class Tree:\n",
    "    def __init__(self, x=None):\n",
    "        self.tree = x\n",
    "    \n",
    "    def fit(self, X, y, n=15):\n",
    "        self.tree = self.fitter(X, y, n)\n",
    "        return   \n",
    "    \n",
    "    def calculate_gini(self, P):\n",
    "        # Input: a list of classes, such as ['S', 'NS', 'NS', 'NS', 'S'] or [0,1,0,2,1,0] if 0,1,2 are the things\n",
    "        # that corresponds to an increasing list of some parameter that you want to split by.\n",
    "        # Returns: gini score.\n",
    "        # Used by: get_possible_splits().\n",
    "        classes = list(set(P))  # find all the classes\n",
    "        gini = 1\n",
    "        for i in classes:\n",
    "            gini -= (float(P.count(i)) / len(P)) ** 2\n",
    "        return gini\n",
    "\n",
    "    def find_best_split(self, node_x, node_y):\n",
    "        gp = self.calculate_gini(list(node_y.values.flatten()))\n",
    "        poss_splits = []\n",
    "        for pred in node_x.columns:\n",
    "            set_list = list(node_x[pred].unique())\n",
    "            set_list.sort()\n",
    "            for t in set_list[:-1]:\n",
    "                downside = list(node_y[node_x[pred] <= t].values.flatten())\n",
    "                upside = list(node_y[node_x[pred] > t].values.flatten())\n",
    "                #print(list(downside))\n",
    "                #print(list(upside))\n",
    "                ig = gp - (\n",
    "                    (len(downside) / len(node_y)) * self.calculate_gini(downside)\n",
    "                    + (len(upside) / len(node_y)) * self.calculate_gini(upside))\n",
    "                poss_splits.append((pred, t, ig, gp))\n",
    "        try:\n",
    "            return max(poss_splits, key=itemgetter(2))\n",
    "        except:\n",
    "            return None\n",
    "\n",
    "    def fitter(self, X, y, n, branch=True):\n",
    "        #print(\"Running fit\")\n",
    "        # Inputs:\n",
    "        # n : the limit for the number of nodes the tree will have predictors/class are dataframes with same indexing\n",
    "        # X and y: dataframes\n",
    "        # Returns: a list with left node, right node, threshold\n",
    "\n",
    "        if n == 0:\n",
    "            print(\"No more levels\")\n",
    "            return list(y.value_counts().idxmax())\n",
    "\n",
    "        n -= 1\n",
    "        node = [[], [], []]\n",
    "        tup = self.find_best_split(X, y)\n",
    "\n",
    "        if tup != None:\n",
    "            predictor, threshold, info_gain, gini = tup\n",
    "        else:\n",
    "            return list(y.unique())\n",
    "\n",
    "        if gini <= 0.0001:  # if the node is pure (gini impurity is 0), then stop\n",
    "            return list(y.unique())\n",
    "\n",
    "        node[0] = self.fitter(X[X[predictor] <= threshold], y[X[predictor] <= threshold], n=n, branch=True)\n",
    "        node[1] = self.fitter(X[X[predictor] > threshold], y[X[predictor] > threshold], n=n, branch=False)\n",
    "        node[2] = (predictor,threshold,len(y))\n",
    "\n",
    "        return node\n",
    "    \n",
    "    def __str__(self):\n",
    "        # This is what comes out when you print.\n",
    "        return \"Tree with x = {}\".format(self.x.__repr__())"
   ]
  },
  {
   "cell_type": "code",
   "execution_count": 12,
   "metadata": {
    "collapsed": false,
    "scrolled": true
   },
   "outputs": [
    {
     "name": "stdout",
     "output_type": "stream",
     "text": [
      "[[0], [[[0], [1], ('Four-legged', 0, 2)], [1], ('Gives Birth', 0, 5)], ('Body Temperature', 0, 10)]\n"
     ]
    }
   ],
   "source": [
    "mammal_tree = Tree()\n",
    "mammal_tree.fit(X_dat,y_dat,n=5)\n",
    "print(mammal_tree.tree)"
   ]
  },
  {
   "cell_type": "code",
   "execution_count": null,
   "metadata": {
    "collapsed": false
   },
   "outputs": [],
   "source": []
  },
  {
   "cell_type": "code",
   "execution_count": null,
   "metadata": {
    "collapsed": true
   },
   "outputs": [],
   "source": []
  }
 ],
 "metadata": {
  "kernelspec": {
   "display_name": "Python [datamining]",
   "language": "python",
   "name": "Python [datamining]"
  },
  "language_info": {
   "codemirror_mode": {
    "name": "ipython",
    "version": 3
   },
   "file_extension": ".py",
   "mimetype": "text/x-python",
   "name": "python",
   "nbconvert_exporter": "python",
   "pygments_lexer": "ipython3",
   "version": "3.5.2"
  }
 },
 "nbformat": 4,
 "nbformat_minor": 0
}
